{
 "cells": [
  {
   "cell_type": "markdown",
   "metadata": {},
   "source": [
    "#### Introduction\n",
    "\n",
    "    -Merging unlike Binding is like a SQL Join.\n",
    "    -Binding can be used when the frames have no common column names, it expects rows or columns to be of same length\n",
    "    -Merging works when frames have common column, rows or columns need not be of same length"
   ]
  },
  {
   "cell_type": "code",
   "execution_count": 6,
   "metadata": {},
   "outputs": [
    {
     "name": "stdout",
     "output_type": "stream",
     "text": [
      "Checking whether there is an H2O instance running at http://localhost:54321 ..... not found.\n",
      "Attempting to start a local H2O server...\n",
      "; Java HotSpot(TM) Client VM (build 25.231-b11, mixed mode, sharing)\n"
     ]
    },
    {
     "name": "stderr",
     "output_type": "stream",
     "text": [
      "C:\\MachineLearning\\anaconda3\\envs\\tf2-gpu\\lib\\site-packages\\h2o\\backend\\server.py:385: UserWarning:   You have a 32-bit version of Java. H2O works best with 64-bit Java.\n",
      "  Please download the latest 64-bit Java SE JDK from Oracle.\n",
      "\n",
      "  warn(\"  You have a 32-bit version of Java. H2O works best with 64-bit Java.\\n\"\n"
     ]
    },
    {
     "name": "stdout",
     "output_type": "stream",
     "text": [
      "  Starting server from C:\\MachineLearning\\anaconda3\\envs\\tf2-gpu\\lib\\site-packages\\h2o\\backend\\bin\\h2o.jar\n",
      "  Ice root: C:\\Users\\ADITYA~1\\AppData\\Local\\Temp\\tmp03raklpl\n",
      "  JVM stdout: C:\\Users\\ADITYA~1\\AppData\\Local\\Temp\\tmp03raklpl\\h2o_Aditya_Jain_started_from_python.out\n",
      "  JVM stderr: C:\\Users\\ADITYA~1\\AppData\\Local\\Temp\\tmp03raklpl\\h2o_Aditya_Jain_started_from_python.err\n",
      "  Server is running at http://127.0.0.1:54321\n",
      "Connecting to H2O server at http://127.0.0.1:54321 ... successful.\n"
     ]
    },
    {
     "data": {
      "text/html": [
       "<div style=\"overflow:auto\"><table style=\"width:50%\"><tr><td>H2O_cluster_uptime:</td>\n",
       "<td>04 secs</td></tr>\n",
       "<tr><td>H2O_cluster_timezone:</td>\n",
       "<td>Asia/Kolkata</td></tr>\n",
       "<tr><td>H2O_data_parsing_timezone:</td>\n",
       "<td>UTC</td></tr>\n",
       "<tr><td>H2O_cluster_version:</td>\n",
       "<td>3.30.0.1</td></tr>\n",
       "<tr><td>H2O_cluster_version_age:</td>\n",
       "<td>26 days </td></tr>\n",
       "<tr><td>H2O_cluster_name:</td>\n",
       "<td>H2O_from_python_Aditya_Jain_lwamvf</td></tr>\n",
       "<tr><td>H2O_cluster_total_nodes:</td>\n",
       "<td>1</td></tr>\n",
       "<tr><td>H2O_cluster_free_memory:</td>\n",
       "<td>247.5 Mb</td></tr>\n",
       "<tr><td>H2O_cluster_total_cores:</td>\n",
       "<td>4</td></tr>\n",
       "<tr><td>H2O_cluster_allowed_cores:</td>\n",
       "<td>4</td></tr>\n",
       "<tr><td>H2O_cluster_status:</td>\n",
       "<td>accepting new members, healthy</td></tr>\n",
       "<tr><td>H2O_connection_url:</td>\n",
       "<td>http://127.0.0.1:54321</td></tr>\n",
       "<tr><td>H2O_connection_proxy:</td>\n",
       "<td>{\"http\": null, \"https\": null}</td></tr>\n",
       "<tr><td>H2O_internal_security:</td>\n",
       "<td>False</td></tr>\n",
       "<tr><td>H2O_API_Extensions:</td>\n",
       "<td>Amazon S3, Algos, AutoML, Core V3, TargetEncoder, Core V4</td></tr>\n",
       "<tr><td>Python_version:</td>\n",
       "<td>3.7.6 final</td></tr></table></div>"
      ],
      "text/plain": [
       "--------------------------  ---------------------------------------------------------\n",
       "H2O_cluster_uptime:         04 secs\n",
       "H2O_cluster_timezone:       Asia/Kolkata\n",
       "H2O_data_parsing_timezone:  UTC\n",
       "H2O_cluster_version:        3.30.0.1\n",
       "H2O_cluster_version_age:    26 days\n",
       "H2O_cluster_name:           H2O_from_python_Aditya_Jain_lwamvf\n",
       "H2O_cluster_total_nodes:    1\n",
       "H2O_cluster_free_memory:    247.5 Mb\n",
       "H2O_cluster_total_cores:    4\n",
       "H2O_cluster_allowed_cores:  4\n",
       "H2O_cluster_status:         accepting new members, healthy\n",
       "H2O_connection_url:         http://127.0.0.1:54321\n",
       "H2O_connection_proxy:       {\"http\": null, \"https\": null}\n",
       "H2O_internal_security:      False\n",
       "H2O_API_Extensions:         Amazon S3, Algos, AutoML, Core V3, TargetEncoder, Core V4\n",
       "Python_version:             3.7.6 final\n",
       "--------------------------  ---------------------------------------------------------"
      ]
     },
     "metadata": {},
     "output_type": "display_data"
    }
   ],
   "source": [
    "import h2o\n",
    "h2o.init()"
   ]
  },
  {
   "cell_type": "code",
   "execution_count": 7,
   "metadata": {},
   "outputs": [
    {
     "name": "stdout",
     "output_type": "stream",
     "text": [
      "Parse progress: |█████████████████████████████████████████████████████████| 100%\n"
     ]
    }
   ],
   "source": [
    "data = h2o.import_file('allyears2k_headers.csv',\n",
    "                      destination_frame='airlines')"
   ]
  },
  {
   "cell_type": "code",
   "execution_count": 8,
   "metadata": {},
   "outputs": [
    {
     "data": {
      "text/html": [
       "<table>\n",
       "<thead>\n",
       "<tr><th>       </th><th>Year              </th><th>Month             </th><th>DayofMonth        </th><th>DayOfWeek        </th><th>DepTime           </th><th>CRSDepTime        </th><th>ArrTime           </th><th>CRSArrTime        </th><th>UniqueCarrier  </th><th>FlightNum        </th><th>TailNum  </th><th>ActualElapsedTime  </th><th>CRSElapsedTime    </th><th>AirTime          </th><th>ArrDelay          </th><th>DepDelay          </th><th>Origin  </th><th>Dest  </th><th>Distance         </th><th>TaxiIn           </th><th>TaxiOut          </th><th>Cancelled           </th><th>CancellationCode  </th><th>Diverted             </th><th>CarrierDelay      </th><th>WeatherDelay      </th><th>NASDelay          </th><th>SecurityDelay       </th><th>LateAircraftDelay  </th><th>IsArrDelayed  </th><th>IsDepDelayed  </th></tr>\n",
       "</thead>\n",
       "<tbody>\n",
       "<tr><td>type   </td><td>int               </td><td>int               </td><td>int               </td><td>int              </td><td>int               </td><td>int               </td><td>int               </td><td>int               </td><td>enum           </td><td>int              </td><td>enum     </td><td>int                </td><td>int               </td><td>int              </td><td>int               </td><td>int               </td><td>enum    </td><td>enum  </td><td>int              </td><td>int              </td><td>int              </td><td>int                 </td><td>enum              </td><td>int                  </td><td>int               </td><td>int               </td><td>int               </td><td>int                 </td><td>int                </td><td>enum          </td><td>enum          </td></tr>\n",
       "<tr><td>mins   </td><td>1987.0            </td><td>1.0               </td><td>1.0               </td><td>1.0              </td><td>1.0               </td><td>0.0               </td><td>1.0               </td><td>0.0               </td><td>               </td><td>1.0              </td><td>         </td><td>16.0               </td><td>17.0              </td><td>14.0             </td><td>-63.0             </td><td>-16.0             </td><td>        </td><td>      </td><td>11.0             </td><td>0.0              </td><td>0.0              </td><td>0.0                 </td><td>                  </td><td>0.0                  </td><td>0.0               </td><td>0.0               </td><td>0.0               </td><td>0.0                 </td><td>0.0                </td><td>              </td><td>              </td></tr>\n",
       "<tr><td>mean   </td><td>1997.5            </td><td>1.4090909090909094</td><td>14.601073263904684</td><td>3.820614852880986</td><td>1345.8466613820758</td><td>1313.2228614307157</td><td>1504.6341303788895</td><td>1485.2891673109277</td><td>               </td><td>818.8429896766567</td><td>         </td><td>124.81452913540424 </td><td>125.02156260661894</td><td>114.3161110907826</td><td>9.31711193698432  </td><td>10.007390655600114</td><td>        </td><td>      </td><td>730.1821905650504</td><td>5.381368059530624</td><td>14.16863418473206</td><td>0.024694165264450407</td><td>                  </td><td>0.0024785119832643593</td><td>4.047800291055633 </td><td>0.2893764692712415</td><td>4.855031904175528 </td><td>0.017015560282100085</td><td>7.620060450016787  </td><td>              </td><td>              </td></tr>\n",
       "<tr><td>maxs   </td><td>2008.0            </td><td>10.0              </td><td>31.0              </td><td>7.0              </td><td>2400.0            </td><td>2359.0            </td><td>2400.0            </td><td>2359.0            </td><td>               </td><td>3949.0           </td><td>         </td><td>475.0              </td><td>437.0             </td><td>402.0            </td><td>475.0             </td><td>473.0             </td><td>        </td><td>      </td><td>3365.0           </td><td>128.0            </td><td>254.0            </td><td>1.0                 </td><td>                  </td><td>1.0                  </td><td>369.0             </td><td>201.0             </td><td>323.0             </td><td>14.0                </td><td>373.0              </td><td>              </td><td>              </td></tr>\n",
       "<tr><td>sigma  </td><td>6.3443609017107025</td><td>1.8747113713439636</td><td>9.17579042586145  </td><td>1.905013119132896</td><td>465.3408991242338 </td><td>476.2511399925997 </td><td>484.347487903516  </td><td>492.7504341227009 </td><td>               </td><td>777.4043691636348</td><td>         </td><td>73.9744416605902   </td><td>73.4015946300093  </td><td>69.63632951506105</td><td>29.840221962414834</td><td>26.438809042916446</td><td>        </td><td>      </td><td>578.4380082304242</td><td>4.201979939864827</td><td>9.905085747204334</td><td>0.15519314135784237 </td><td>                  </td><td>0.049723487218862286 </td><td>16.205729904484194</td><td>4.4167798987341245</td><td>18.619776221475686</td><td>0.4039401821015118  </td><td>23.487565874106213 </td><td>              </td><td>              </td></tr>\n",
       "<tr><td>zeros  </td><td>0                 </td><td>0                 </td><td>0                 </td><td>0                </td><td>0                 </td><td>569               </td><td>0                 </td><td>569               </td><td>               </td><td>0                </td><td>         </td><td>0                  </td><td>0                 </td><td>0                </td><td>1514              </td><td>6393              </td><td>        </td><td>      </td><td>0                </td><td>623              </td><td>557              </td><td>42892               </td><td>                  </td><td>43869                </td><td>7344              </td><td>8840              </td><td>7388              </td><td>8914                </td><td>7140               </td><td>              </td><td>              </td></tr>\n",
       "<tr><td>missing</td><td>0                 </td><td>0                 </td><td>0                 </td><td>0                </td><td>1086              </td><td>0                 </td><td>1195              </td><td>0                 </td><td>0              </td><td>0                </td><td>32       </td><td>1195               </td><td>13                </td><td>16649            </td><td>1195              </td><td>1086              </td><td>0       </td><td>0     </td><td>35               </td><td>16026            </td><td>16024            </td><td>0                   </td><td>9774              </td><td>0                    </td><td>35045             </td><td>35045             </td><td>35045             </td><td>35045               </td><td>35045              </td><td>0             </td><td>0             </td></tr>\n",
       "<tr><td>0      </td><td>1987.0            </td><td>10.0              </td><td>14.0              </td><td>3.0              </td><td>741.0             </td><td>730.0             </td><td>912.0             </td><td>849.0             </td><td>PS             </td><td>1451.0           </td><td>NA       </td><td>91.0               </td><td>79.0              </td><td>nan              </td><td>23.0              </td><td>11.0              </td><td>SAN     </td><td>SFO   </td><td>447.0            </td><td>nan              </td><td>nan              </td><td>0.0                 </td><td>NA                </td><td>0.0                  </td><td>nan               </td><td>nan               </td><td>nan               </td><td>nan                 </td><td>nan                </td><td>YES           </td><td>YES           </td></tr>\n",
       "<tr><td>1      </td><td>1987.0            </td><td>10.0              </td><td>15.0              </td><td>4.0              </td><td>729.0             </td><td>730.0             </td><td>903.0             </td><td>849.0             </td><td>PS             </td><td>1451.0           </td><td>NA       </td><td>94.0               </td><td>79.0              </td><td>nan              </td><td>14.0              </td><td>-1.0              </td><td>SAN     </td><td>SFO   </td><td>447.0            </td><td>nan              </td><td>nan              </td><td>0.0                 </td><td>NA                </td><td>0.0                  </td><td>nan               </td><td>nan               </td><td>nan               </td><td>nan                 </td><td>nan                </td><td>YES           </td><td>NO            </td></tr>\n",
       "<tr><td>2      </td><td>1987.0            </td><td>10.0              </td><td>17.0              </td><td>6.0              </td><td>741.0             </td><td>730.0             </td><td>918.0             </td><td>849.0             </td><td>PS             </td><td>1451.0           </td><td>NA       </td><td>97.0               </td><td>79.0              </td><td>nan              </td><td>29.0              </td><td>11.0              </td><td>SAN     </td><td>SFO   </td><td>447.0            </td><td>nan              </td><td>nan              </td><td>0.0                 </td><td>NA                </td><td>0.0                  </td><td>nan               </td><td>nan               </td><td>nan               </td><td>nan                 </td><td>nan                </td><td>YES           </td><td>YES           </td></tr>\n",
       "<tr><td>3      </td><td>1987.0            </td><td>10.0              </td><td>18.0              </td><td>7.0              </td><td>729.0             </td><td>730.0             </td><td>847.0             </td><td>849.0             </td><td>PS             </td><td>1451.0           </td><td>NA       </td><td>78.0               </td><td>79.0              </td><td>nan              </td><td>-2.0              </td><td>-1.0              </td><td>SAN     </td><td>SFO   </td><td>447.0            </td><td>nan              </td><td>nan              </td><td>0.0                 </td><td>NA                </td><td>0.0                  </td><td>nan               </td><td>nan               </td><td>nan               </td><td>nan                 </td><td>nan                </td><td>NO            </td><td>NO            </td></tr>\n",
       "<tr><td>4      </td><td>1987.0            </td><td>10.0              </td><td>19.0              </td><td>1.0              </td><td>749.0             </td><td>730.0             </td><td>922.0             </td><td>849.0             </td><td>PS             </td><td>1451.0           </td><td>NA       </td><td>93.0               </td><td>79.0              </td><td>nan              </td><td>33.0              </td><td>19.0              </td><td>SAN     </td><td>SFO   </td><td>447.0            </td><td>nan              </td><td>nan              </td><td>0.0                 </td><td>NA                </td><td>0.0                  </td><td>nan               </td><td>nan               </td><td>nan               </td><td>nan                 </td><td>nan                </td><td>YES           </td><td>YES           </td></tr>\n",
       "<tr><td>5      </td><td>1987.0            </td><td>10.0              </td><td>21.0              </td><td>3.0              </td><td>728.0             </td><td>730.0             </td><td>848.0             </td><td>849.0             </td><td>PS             </td><td>1451.0           </td><td>NA       </td><td>80.0               </td><td>79.0              </td><td>nan              </td><td>-1.0              </td><td>-2.0              </td><td>SAN     </td><td>SFO   </td><td>447.0            </td><td>nan              </td><td>nan              </td><td>0.0                 </td><td>NA                </td><td>0.0                  </td><td>nan               </td><td>nan               </td><td>nan               </td><td>nan                 </td><td>nan                </td><td>NO            </td><td>NO            </td></tr>\n",
       "<tr><td>6      </td><td>1987.0            </td><td>10.0              </td><td>22.0              </td><td>4.0              </td><td>728.0             </td><td>730.0             </td><td>852.0             </td><td>849.0             </td><td>PS             </td><td>1451.0           </td><td>NA       </td><td>84.0               </td><td>79.0              </td><td>nan              </td><td>3.0               </td><td>-2.0              </td><td>SAN     </td><td>SFO   </td><td>447.0            </td><td>nan              </td><td>nan              </td><td>0.0                 </td><td>NA                </td><td>0.0                  </td><td>nan               </td><td>nan               </td><td>nan               </td><td>nan                 </td><td>nan                </td><td>YES           </td><td>NO            </td></tr>\n",
       "<tr><td>7      </td><td>1987.0            </td><td>10.0              </td><td>23.0              </td><td>5.0              </td><td>731.0             </td><td>730.0             </td><td>902.0             </td><td>849.0             </td><td>PS             </td><td>1451.0           </td><td>NA       </td><td>91.0               </td><td>79.0              </td><td>nan              </td><td>13.0              </td><td>1.0               </td><td>SAN     </td><td>SFO   </td><td>447.0            </td><td>nan              </td><td>nan              </td><td>0.0                 </td><td>NA                </td><td>0.0                  </td><td>nan               </td><td>nan               </td><td>nan               </td><td>nan                 </td><td>nan                </td><td>YES           </td><td>YES           </td></tr>\n",
       "<tr><td>8      </td><td>1987.0            </td><td>10.0              </td><td>24.0              </td><td>6.0              </td><td>744.0             </td><td>730.0             </td><td>908.0             </td><td>849.0             </td><td>PS             </td><td>1451.0           </td><td>NA       </td><td>84.0               </td><td>79.0              </td><td>nan              </td><td>19.0              </td><td>14.0              </td><td>SAN     </td><td>SFO   </td><td>447.0            </td><td>nan              </td><td>nan              </td><td>0.0                 </td><td>NA                </td><td>0.0                  </td><td>nan               </td><td>nan               </td><td>nan               </td><td>nan                 </td><td>nan                </td><td>YES           </td><td>YES           </td></tr>\n",
       "<tr><td>9      </td><td>1987.0            </td><td>10.0              </td><td>25.0              </td><td>7.0              </td><td>729.0             </td><td>730.0             </td><td>851.0             </td><td>849.0             </td><td>PS             </td><td>1451.0           </td><td>NA       </td><td>82.0               </td><td>79.0              </td><td>nan              </td><td>2.0               </td><td>-1.0              </td><td>SAN     </td><td>SFO   </td><td>447.0            </td><td>nan              </td><td>nan              </td><td>0.0                 </td><td>NA                </td><td>0.0                  </td><td>nan               </td><td>nan               </td><td>nan               </td><td>nan                 </td><td>nan                </td><td>YES           </td><td>NO            </td></tr>\n",
       "</tbody>\n",
       "</table>"
      ]
     },
     "metadata": {},
     "output_type": "display_data"
    }
   ],
   "source": [
    "data.summary()"
   ]
  },
  {
   "cell_type": "code",
   "execution_count": 9,
   "metadata": {},
   "outputs": [
    {
     "name": "stdout",
     "output_type": "stream",
     "text": [
      "10\n",
      "3\n",
      "['Year', 'Month', 'DayofMonth']\n"
     ]
    }
   ],
   "source": [
    "A = data[0:10,0:3]\n",
    "print (A.nrows)\n",
    "print (A.ncols)\n",
    "print (A.names)"
   ]
  },
  {
   "cell_type": "code",
   "execution_count": 10,
   "metadata": {},
   "outputs": [
    {
     "name": "stdout",
     "output_type": "stream",
     "text": [
      "20\n",
      "2\n",
      "['DayofMonth', 'DayOfWeek']\n"
     ]
    }
   ],
   "source": [
    "B = data[0:20,2:4]\n",
    "print (B.nrows)\n",
    "print (B.ncols)\n",
    "print (B.names)"
   ]
  },
  {
   "cell_type": "code",
   "execution_count": 12,
   "metadata": {},
   "outputs": [
    {
     "ename": "H2OValueError",
     "evalue": "Cannot bind a dataframe with 20 rows to a data frame with 10 rows: the number of rows should match",
     "output_type": "error",
     "traceback": [
      "\u001b[1;31m---------------------------------------------------------------------------\u001b[0m",
      "\u001b[1;31mH2OValueError\u001b[0m                             Traceback (most recent call last)",
      "\u001b[1;32m<ipython-input-12-cab977380670>\u001b[0m in \u001b[0;36m<module>\u001b[1;34m\u001b[0m\n\u001b[1;32m----> 1\u001b[1;33m \u001b[0mA\u001b[0m\u001b[1;33m.\u001b[0m\u001b[0mcbind\u001b[0m\u001b[1;33m(\u001b[0m\u001b[0mB\u001b[0m\u001b[1;33m)\u001b[0m\u001b[1;33m\u001b[0m\u001b[1;33m\u001b[0m\u001b[0m\n\u001b[0m",
      "\u001b[1;32mC:\\MachineLearning\\anaconda3\\envs\\tf2-gpu\\lib\\site-packages\\h2o\\frame.py\u001b[0m in \u001b[0;36mcbind\u001b[1;34m(self, data)\u001b[0m\n\u001b[0;32m   2594\u001b[0m                 \u001b[1;32mif\u001b[0m \u001b[0mframe\u001b[0m\u001b[1;33m.\u001b[0m\u001b[0mnrow\u001b[0m \u001b[1;33m!=\u001b[0m \u001b[0mself\u001b[0m\u001b[1;33m.\u001b[0m\u001b[0mnrow\u001b[0m\u001b[1;33m:\u001b[0m\u001b[1;33m\u001b[0m\u001b[1;33m\u001b[0m\u001b[0m\n\u001b[0;32m   2595\u001b[0m                     raise H2OValueError(\"Cannot bind a dataframe with %d rows to a data frame with %d rows: \"\n\u001b[1;32m-> 2596\u001b[1;33m                                         \"the number of rows should match\" % (frame.nrow, self.nrow))\n\u001b[0m\u001b[0;32m   2597\u001b[0m                 \u001b[0mnew_cols\u001b[0m \u001b[1;33m+=\u001b[0m \u001b[0mframe\u001b[0m\u001b[1;33m.\u001b[0m\u001b[0mcolumns\u001b[0m\u001b[1;33m\u001b[0m\u001b[1;33m\u001b[0m\u001b[0m\n\u001b[0;32m   2598\u001b[0m                 \u001b[0mnew_types\u001b[0m\u001b[1;33m.\u001b[0m\u001b[0mupdate\u001b[0m\u001b[1;33m(\u001b[0m\u001b[0mframe\u001b[0m\u001b[1;33m.\u001b[0m\u001b[0mtypes\u001b[0m\u001b[1;33m)\u001b[0m\u001b[1;33m\u001b[0m\u001b[1;33m\u001b[0m\u001b[0m\n",
      "\u001b[1;31mH2OValueError\u001b[0m: Cannot bind a dataframe with 20 rows to a data frame with 10 rows: the number of rows should match"
     ]
    }
   ],
   "source": [
    "A.cbind(B)"
   ]
  },
  {
   "cell_type": "code",
   "execution_count": 13,
   "metadata": {},
   "outputs": [
    {
     "ename": "H2OValueError",
     "evalue": "Column: Month not in frame.",
     "output_type": "error",
     "traceback": [
      "\u001b[1;31m---------------------------------------------------------------------------\u001b[0m",
      "\u001b[1;31mH2OValueError\u001b[0m                             Traceback (most recent call last)",
      "\u001b[1;32m<ipython-input-13-b8d9510d139e>\u001b[0m in \u001b[0;36m<module>\u001b[1;34m\u001b[0m\n\u001b[1;32m----> 1\u001b[1;33m \u001b[0mA\u001b[0m\u001b[1;33m.\u001b[0m\u001b[0mmerge\u001b[0m\u001b[1;33m(\u001b[0m\u001b[0mB\u001b[0m\u001b[1;33m,\u001b[0m \u001b[0mby_x\u001b[0m\u001b[1;33m=\u001b[0m\u001b[1;33m[\u001b[0m\u001b[1;34m'Month'\u001b[0m\u001b[1;33m]\u001b[0m\u001b[1;33m,\u001b[0m \u001b[0mby_y\u001b[0m\u001b[1;33m=\u001b[0m\u001b[1;33m[\u001b[0m\u001b[1;34m'Month'\u001b[0m\u001b[1;33m]\u001b[0m\u001b[1;33m)\u001b[0m\u001b[1;33m\u001b[0m\u001b[1;33m\u001b[0m\u001b[0m\n\u001b[0m",
      "\u001b[1;32mC:\\MachineLearning\\anaconda3\\envs\\tf2-gpu\\lib\\site-packages\\h2o\\frame.py\u001b[0m in \u001b[0;36mmerge\u001b[1;34m(self, other, all_x, all_y, by_x, by_y, method)\u001b[0m\n\u001b[0;32m   2940\u001b[0m             \u001b[0mby_y\u001b[0m \u001b[1;33m=\u001b[0m \u001b[1;33m[\u001b[0m\u001b[0mother\u001b[0m\u001b[1;33m.\u001b[0m\u001b[0mnames\u001b[0m\u001b[1;33m.\u001b[0m\u001b[0mindex\u001b[0m\u001b[1;33m(\u001b[0m\u001b[0mc\u001b[0m\u001b[1;33m)\u001b[0m \u001b[1;32mfor\u001b[0m \u001b[0mc\u001b[0m \u001b[1;32min\u001b[0m \u001b[0mcommon_names\u001b[0m\u001b[1;33m]\u001b[0m\u001b[1;33m\u001b[0m\u001b[1;33m\u001b[0m\u001b[0m\n\u001b[0;32m   2941\u001b[0m         \u001b[1;32melse\u001b[0m\u001b[1;33m:\u001b[0m\u001b[1;33m\u001b[0m\u001b[1;33m\u001b[0m\u001b[0m\n\u001b[1;32m-> 2942\u001b[1;33m             \u001b[0mby_y\u001b[0m \u001b[1;33m=\u001b[0m \u001b[0m_getValidCols\u001b[0m\u001b[1;33m(\u001b[0m\u001b[0mby_y\u001b[0m\u001b[1;33m,\u001b[0m\u001b[0mother\u001b[0m\u001b[1;33m)\u001b[0m\u001b[1;33m\u001b[0m\u001b[1;33m\u001b[0m\u001b[0m\n\u001b[0m\u001b[0;32m   2943\u001b[0m \u001b[1;33m\u001b[0m\u001b[0m\n\u001b[0;32m   2944\u001b[0m \u001b[1;33m\u001b[0m\u001b[0m\n",
      "\u001b[1;32mC:\\MachineLearning\\anaconda3\\envs\\tf2-gpu\\lib\\site-packages\\h2o\\frame.py\u001b[0m in \u001b[0;36m_getValidCols\u001b[1;34m(by_idx, fr)\u001b[0m\n\u001b[0;32m   5056\u001b[0m         \u001b[1;32mif\u001b[0m \u001b[0mtype\u001b[0m\u001b[1;33m(\u001b[0m\u001b[0mi\u001b[0m\u001b[1;33m)\u001b[0m \u001b[1;33m==\u001b[0m \u001b[0mstr\u001b[0m\u001b[1;33m:\u001b[0m\u001b[1;33m\u001b[0m\u001b[1;33m\u001b[0m\u001b[0m\n\u001b[0;32m   5057\u001b[0m             \u001b[1;32mif\u001b[0m \u001b[0mi\u001b[0m \u001b[1;32mnot\u001b[0m \u001b[1;32min\u001b[0m \u001b[0mfr\u001b[0m\u001b[1;33m.\u001b[0m\u001b[0mnames\u001b[0m\u001b[1;33m:\u001b[0m\u001b[1;33m\u001b[0m\u001b[1;33m\u001b[0m\u001b[0m\n\u001b[1;32m-> 5058\u001b[1;33m                 \u001b[1;32mraise\u001b[0m \u001b[0mH2OValueError\u001b[0m\u001b[1;33m(\u001b[0m\u001b[1;34m\"Column: \"\u001b[0m \u001b[1;33m+\u001b[0m \u001b[0mi\u001b[0m \u001b[1;33m+\u001b[0m \u001b[1;34m\" not in frame.\"\u001b[0m\u001b[1;33m)\u001b[0m\u001b[1;33m\u001b[0m\u001b[1;33m\u001b[0m\u001b[0m\n\u001b[0m\u001b[0;32m   5059\u001b[0m             \u001b[0mtmp\u001b[0m\u001b[1;33m.\u001b[0m\u001b[0mappend\u001b[0m\u001b[1;33m(\u001b[0m\u001b[0mfr\u001b[0m\u001b[1;33m.\u001b[0m\u001b[0mnames\u001b[0m\u001b[1;33m.\u001b[0m\u001b[0mindex\u001b[0m\u001b[1;33m(\u001b[0m\u001b[0mi\u001b[0m\u001b[1;33m)\u001b[0m\u001b[1;33m)\u001b[0m\u001b[1;33m\u001b[0m\u001b[1;33m\u001b[0m\u001b[0m\n\u001b[0;32m   5060\u001b[0m         \u001b[1;32melif\u001b[0m \u001b[0mtype\u001b[0m\u001b[1;33m(\u001b[0m\u001b[0mi\u001b[0m\u001b[1;33m)\u001b[0m \u001b[1;33m!=\u001b[0m \u001b[0mint\u001b[0m\u001b[1;33m:\u001b[0m\u001b[1;33m\u001b[0m\u001b[1;33m\u001b[0m\u001b[0m\n",
      "\u001b[1;31mH2OValueError\u001b[0m: Column: Month not in frame."
     ]
    }
   ],
   "source": [
    "A.merge(B, by_x=['Month'], by_y=['Month'])"
   ]
  },
  {
   "cell_type": "code",
   "execution_count": 14,
   "metadata": {},
   "outputs": [
    {
     "ename": "H2OValueError",
     "evalue": "Cannot row-bind a dataframe with 2 columns to a data frame with 3 columns: the columns must match",
     "output_type": "error",
     "traceback": [
      "\u001b[1;31m---------------------------------------------------------------------------\u001b[0m",
      "\u001b[1;31mH2OValueError\u001b[0m                             Traceback (most recent call last)",
      "\u001b[1;32m<ipython-input-14-61d1dec679e1>\u001b[0m in \u001b[0;36m<module>\u001b[1;34m\u001b[0m\n\u001b[1;32m----> 1\u001b[1;33m \u001b[0mA\u001b[0m\u001b[1;33m.\u001b[0m\u001b[0mrbind\u001b[0m\u001b[1;33m(\u001b[0m\u001b[0mB\u001b[0m\u001b[1;33m)\u001b[0m\u001b[1;33m\u001b[0m\u001b[1;33m\u001b[0m\u001b[0m\n\u001b[0m",
      "\u001b[1;32mC:\\MachineLearning\\anaconda3\\envs\\tf2-gpu\\lib\\site-packages\\h2o\\frame.py\u001b[0m in \u001b[0;36mrbind\u001b[1;34m(self, data)\u001b[0m\n\u001b[0;32m   2633\u001b[0m             \u001b[1;32mif\u001b[0m \u001b[0mframe\u001b[0m\u001b[1;33m.\u001b[0m\u001b[0mncol\u001b[0m \u001b[1;33m!=\u001b[0m \u001b[0mself\u001b[0m\u001b[1;33m.\u001b[0m\u001b[0mncol\u001b[0m\u001b[1;33m:\u001b[0m\u001b[1;33m\u001b[0m\u001b[1;33m\u001b[0m\u001b[0m\n\u001b[0;32m   2634\u001b[0m                 raise H2OValueError(\"Cannot row-bind a dataframe with %d columns to a data frame with %d columns: \"\n\u001b[1;32m-> 2635\u001b[1;33m                                     \"the columns must match\" % (frame.ncol, self.ncol))\n\u001b[0m\u001b[0;32m   2636\u001b[0m             \u001b[1;32mif\u001b[0m \u001b[0mframe\u001b[0m\u001b[1;33m.\u001b[0m\u001b[0mcolumns\u001b[0m \u001b[1;33m!=\u001b[0m \u001b[0mself\u001b[0m\u001b[1;33m.\u001b[0m\u001b[0mcolumns\u001b[0m\u001b[1;33m:\u001b[0m\u001b[1;33m\u001b[0m\u001b[1;33m\u001b[0m\u001b[0m\n\u001b[0;32m   2637\u001b[0m                 \u001b[1;32mraise\u001b[0m \u001b[0mH2OValueError\u001b[0m\u001b[1;33m(\u001b[0m\u001b[1;34m\"Column names must match for rbind() to work\"\u001b[0m\u001b[1;33m)\u001b[0m\u001b[1;33m\u001b[0m\u001b[1;33m\u001b[0m\u001b[0m\n",
      "\u001b[1;31mH2OValueError\u001b[0m: Cannot row-bind a dataframe with 2 columns to a data frame with 3 columns: the columns must match"
     ]
    }
   ],
   "source": [
    "A.rbind(B)"
   ]
  },
  {
   "cell_type": "code",
   "execution_count": 15,
   "metadata": {},
   "outputs": [
    {
     "data": {
      "text/html": [
       "<table>\n",
       "<thead>\n",
       "<tr><th style=\"text-align: right;\">  DayofMonth</th><th style=\"text-align: right;\">  Year</th><th style=\"text-align: right;\">  Month</th><th style=\"text-align: right;\">  DayOfWeek</th></tr>\n",
       "</thead>\n",
       "<tbody>\n",
       "<tr><td style=\"text-align: right;\">          14</td><td style=\"text-align: right;\">  1987</td><td style=\"text-align: right;\">     10</td><td style=\"text-align: right;\">          3</td></tr>\n",
       "<tr><td style=\"text-align: right;\">          15</td><td style=\"text-align: right;\">  1987</td><td style=\"text-align: right;\">     10</td><td style=\"text-align: right;\">          4</td></tr>\n",
       "<tr><td style=\"text-align: right;\">          17</td><td style=\"text-align: right;\">  1987</td><td style=\"text-align: right;\">     10</td><td style=\"text-align: right;\">          6</td></tr>\n",
       "<tr><td style=\"text-align: right;\">          18</td><td style=\"text-align: right;\">  1987</td><td style=\"text-align: right;\">     10</td><td style=\"text-align: right;\">          7</td></tr>\n",
       "<tr><td style=\"text-align: right;\">          19</td><td style=\"text-align: right;\">  1987</td><td style=\"text-align: right;\">     10</td><td style=\"text-align: right;\">          1</td></tr>\n",
       "<tr><td style=\"text-align: right;\">          21</td><td style=\"text-align: right;\">  1987</td><td style=\"text-align: right;\">     10</td><td style=\"text-align: right;\">          3</td></tr>\n",
       "<tr><td style=\"text-align: right;\">          22</td><td style=\"text-align: right;\">  1987</td><td style=\"text-align: right;\">     10</td><td style=\"text-align: right;\">          4</td></tr>\n",
       "<tr><td style=\"text-align: right;\">          23</td><td style=\"text-align: right;\">  1987</td><td style=\"text-align: right;\">     10</td><td style=\"text-align: right;\">          5</td></tr>\n",
       "<tr><td style=\"text-align: right;\">          24</td><td style=\"text-align: right;\">  1987</td><td style=\"text-align: right;\">     10</td><td style=\"text-align: right;\">          6</td></tr>\n",
       "<tr><td style=\"text-align: right;\">          25</td><td style=\"text-align: right;\">  1987</td><td style=\"text-align: right;\">     10</td><td style=\"text-align: right;\">          7</td></tr>\n",
       "</tbody>\n",
       "</table>"
      ]
     },
     "metadata": {},
     "output_type": "display_data"
    },
    {
     "data": {
      "text/plain": []
     },
     "execution_count": 15,
     "metadata": {},
     "output_type": "execute_result"
    }
   ],
   "source": [
    "A.merge(B, by_x=['DayofMonth'], by_y=['DayofMonth'])"
   ]
  },
  {
   "cell_type": "code",
   "execution_count": 16,
   "metadata": {},
   "outputs": [
    {
     "data": {
      "text/html": [
       "<table>\n",
       "<thead>\n",
       "<tr><th style=\"text-align: right;\">  DayofMonth</th><th style=\"text-align: right;\">  Year</th><th style=\"text-align: right;\">  Month</th><th style=\"text-align: right;\">  DayOfWeek</th></tr>\n",
       "</thead>\n",
       "<tbody>\n",
       "<tr><td style=\"text-align: right;\">          14</td><td style=\"text-align: right;\">  1987</td><td style=\"text-align: right;\">     10</td><td style=\"text-align: right;\">          3</td></tr>\n",
       "<tr><td style=\"text-align: right;\">          15</td><td style=\"text-align: right;\">  1987</td><td style=\"text-align: right;\">     10</td><td style=\"text-align: right;\">          4</td></tr>\n",
       "<tr><td style=\"text-align: right;\">          17</td><td style=\"text-align: right;\">  1987</td><td style=\"text-align: right;\">     10</td><td style=\"text-align: right;\">          6</td></tr>\n",
       "<tr><td style=\"text-align: right;\">          18</td><td style=\"text-align: right;\">  1987</td><td style=\"text-align: right;\">     10</td><td style=\"text-align: right;\">          7</td></tr>\n",
       "<tr><td style=\"text-align: right;\">          19</td><td style=\"text-align: right;\">  1987</td><td style=\"text-align: right;\">     10</td><td style=\"text-align: right;\">          1</td></tr>\n",
       "<tr><td style=\"text-align: right;\">          21</td><td style=\"text-align: right;\">  1987</td><td style=\"text-align: right;\">     10</td><td style=\"text-align: right;\">          3</td></tr>\n",
       "<tr><td style=\"text-align: right;\">          22</td><td style=\"text-align: right;\">  1987</td><td style=\"text-align: right;\">     10</td><td style=\"text-align: right;\">          4</td></tr>\n",
       "<tr><td style=\"text-align: right;\">          23</td><td style=\"text-align: right;\">  1987</td><td style=\"text-align: right;\">     10</td><td style=\"text-align: right;\">          5</td></tr>\n",
       "<tr><td style=\"text-align: right;\">          24</td><td style=\"text-align: right;\">  1987</td><td style=\"text-align: right;\">     10</td><td style=\"text-align: right;\">          6</td></tr>\n",
       "<tr><td style=\"text-align: right;\">          25</td><td style=\"text-align: right;\">  1987</td><td style=\"text-align: right;\">     10</td><td style=\"text-align: right;\">          7</td></tr>\n",
       "</tbody>\n",
       "</table>"
      ]
     },
     "metadata": {},
     "output_type": "display_data"
    },
    {
     "data": {
      "text/plain": []
     },
     "execution_count": 16,
     "metadata": {},
     "output_type": "execute_result"
    }
   ],
   "source": [
    "A.merge(B)"
   ]
  },
  {
   "cell_type": "code",
   "execution_count": null,
   "metadata": {},
   "outputs": [],
   "source": []
  }
 ],
 "metadata": {
  "kernelspec": {
   "display_name": "Python 3",
   "language": "python",
   "name": "python3"
  },
  "language_info": {
   "codemirror_mode": {
    "name": "ipython",
    "version": 3
   },
   "file_extension": ".py",
   "mimetype": "text/x-python",
   "name": "python",
   "nbconvert_exporter": "python",
   "pygments_lexer": "ipython3",
   "version": "3.7.6"
  }
 },
 "nbformat": 4,
 "nbformat_minor": 4
}
