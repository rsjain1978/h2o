{
 "cells": [
  {
   "cell_type": "code",
   "execution_count": 1,
   "metadata": {},
   "outputs": [
    {
     "name": "stdout",
     "output_type": "stream",
     "text": [
      "Checking whether there is an H2O instance running at http://localhost:54321 . connected.\n"
     ]
    },
    {
     "data": {
      "text/html": [
       "<div style=\"overflow:auto\"><table style=\"width:50%\"><tr><td>H2O_cluster_uptime:</td>\n",
       "<td>1 day 8 hours 44 mins</td></tr>\n",
       "<tr><td>H2O_cluster_timezone:</td>\n",
       "<td>Asia/Kolkata</td></tr>\n",
       "<tr><td>H2O_data_parsing_timezone:</td>\n",
       "<td>UTC</td></tr>\n",
       "<tr><td>H2O_cluster_version:</td>\n",
       "<td>3.30.0.1</td></tr>\n",
       "<tr><td>H2O_cluster_version_age:</td>\n",
       "<td>9 days </td></tr>\n",
       "<tr><td>H2O_cluster_name:</td>\n",
       "<td>H2O_started_from_R_Aditya_Jain_hwc841</td></tr>\n",
       "<tr><td>H2O_cluster_total_nodes:</td>\n",
       "<td>1</td></tr>\n",
       "<tr><td>H2O_cluster_free_memory:</td>\n",
       "<td>6.929 Gb</td></tr>\n",
       "<tr><td>H2O_cluster_total_cores:</td>\n",
       "<td>4</td></tr>\n",
       "<tr><td>H2O_cluster_allowed_cores:</td>\n",
       "<td>4</td></tr>\n",
       "<tr><td>H2O_cluster_status:</td>\n",
       "<td>locked, healthy</td></tr>\n",
       "<tr><td>H2O_connection_url:</td>\n",
       "<td>http://localhost:54321</td></tr>\n",
       "<tr><td>H2O_connection_proxy:</td>\n",
       "<td>{\"http\": null, \"https\": null}</td></tr>\n",
       "<tr><td>H2O_internal_security:</td>\n",
       "<td>False</td></tr>\n",
       "<tr><td>H2O_API_Extensions:</td>\n",
       "<td>Amazon S3, Algos, AutoML, Core V3, TargetEncoder, Core V4</td></tr>\n",
       "<tr><td>Python_version:</td>\n",
       "<td>3.7.6 final</td></tr></table></div>"
      ],
      "text/plain": [
       "--------------------------  ---------------------------------------------------------\n",
       "H2O_cluster_uptime:         1 day 8 hours 44 mins\n",
       "H2O_cluster_timezone:       Asia/Kolkata\n",
       "H2O_data_parsing_timezone:  UTC\n",
       "H2O_cluster_version:        3.30.0.1\n",
       "H2O_cluster_version_age:    9 days\n",
       "H2O_cluster_name:           H2O_started_from_R_Aditya_Jain_hwc841\n",
       "H2O_cluster_total_nodes:    1\n",
       "H2O_cluster_free_memory:    6.929 Gb\n",
       "H2O_cluster_total_cores:    4\n",
       "H2O_cluster_allowed_cores:  4\n",
       "H2O_cluster_status:         locked, healthy\n",
       "H2O_connection_url:         http://localhost:54321\n",
       "H2O_connection_proxy:       {\"http\": null, \"https\": null}\n",
       "H2O_internal_security:      False\n",
       "H2O_API_Extensions:         Amazon S3, Algos, AutoML, Core V3, TargetEncoder, Core V4\n",
       "Python_version:             3.7.6 final\n",
       "--------------------------  ---------------------------------------------------------"
      ]
     },
     "metadata": {},
     "output_type": "display_data"
    }
   ],
   "source": [
    "import h2o\n",
    "\n",
    "h2o.init()"
   ]
  },
  {
   "cell_type": "code",
   "execution_count": 2,
   "metadata": {},
   "outputs": [
    {
     "name": "stdout",
     "output_type": "stream",
     "text": [
      "Parse progress: |█████████████████████████████████████████████████████████| 100%\n"
     ]
    }
   ],
   "source": [
    "url = 'http://H2O-public-test-data.s3.amazonaws.com/smalldata/iris/iris_wheader.csv'\n",
    "data = h2o.import_file(url)"
   ]
  },
  {
   "cell_type": "code",
   "execution_count": 3,
   "metadata": {},
   "outputs": [],
   "source": [
    "train, test = data.split_frame([0.8])"
   ]
  },
  {
   "cell_type": "code",
   "execution_count": 4,
   "metadata": {},
   "outputs": [
    {
     "data": {
      "text/html": [
       "<table>\n",
       "<thead>\n",
       "<tr><th>       </th><th>sepal_len         </th><th>sepal_wid         </th><th>petal_len         </th><th>petal_wid         </th><th>class      </th></tr>\n",
       "</thead>\n",
       "<tbody>\n",
       "<tr><td>type   </td><td>real              </td><td>real              </td><td>real              </td><td>real              </td><td>enum       </td></tr>\n",
       "<tr><td>mins   </td><td>4.3               </td><td>2.0               </td><td>1.0               </td><td>0.1               </td><td>           </td></tr>\n",
       "<tr><td>mean   </td><td>5.926446280991737 </td><td>3.021487603305785 </td><td>3.9677685950413224</td><td>1.2826446280991732</td><td>           </td></tr>\n",
       "<tr><td>maxs   </td><td>7.9               </td><td>4.2               </td><td>6.9               </td><td>2.5               </td><td>           </td></tr>\n",
       "<tr><td>sigma  </td><td>0.8551577432498756</td><td>0.4137645489023617</td><td>1.73326353430136  </td><td>0.7442756753997377</td><td>           </td></tr>\n",
       "<tr><td>zeros  </td><td>0                 </td><td>0                 </td><td>0                 </td><td>0                 </td><td>           </td></tr>\n",
       "<tr><td>missing</td><td>0                 </td><td>0                 </td><td>0                 </td><td>0                 </td><td>0          </td></tr>\n",
       "<tr><td>0      </td><td>5.1               </td><td>3.5               </td><td>1.4               </td><td>0.2               </td><td>Iris-setosa</td></tr>\n",
       "<tr><td>1      </td><td>4.9               </td><td>3.0               </td><td>1.4               </td><td>0.2               </td><td>Iris-setosa</td></tr>\n",
       "<tr><td>2      </td><td>4.6               </td><td>3.1               </td><td>1.5               </td><td>0.2               </td><td>Iris-setosa</td></tr>\n",
       "<tr><td>3      </td><td>5.0               </td><td>3.6               </td><td>1.4               </td><td>0.2               </td><td>Iris-setosa</td></tr>\n",
       "<tr><td>4      </td><td>5.4               </td><td>3.9               </td><td>1.7               </td><td>0.4               </td><td>Iris-setosa</td></tr>\n",
       "<tr><td>5      </td><td>4.6               </td><td>3.4               </td><td>1.4               </td><td>0.3               </td><td>Iris-setosa</td></tr>\n",
       "<tr><td>6      </td><td>5.0               </td><td>3.4               </td><td>1.5               </td><td>0.2               </td><td>Iris-setosa</td></tr>\n",
       "<tr><td>7      </td><td>4.4               </td><td>2.9               </td><td>1.4               </td><td>0.2               </td><td>Iris-setosa</td></tr>\n",
       "<tr><td>8      </td><td>4.9               </td><td>3.1               </td><td>1.5               </td><td>0.1               </td><td>Iris-setosa</td></tr>\n",
       "<tr><td>9      </td><td>5.4               </td><td>3.7               </td><td>1.5               </td><td>0.2               </td><td>Iris-setosa</td></tr>\n",
       "</tbody>\n",
       "</table>"
      ]
     },
     "metadata": {},
     "output_type": "display_data"
    }
   ],
   "source": [
    "train.summary()"
   ]
  },
  {
   "cell_type": "code",
   "execution_count": 6,
   "metadata": {},
   "outputs": [
    {
     "data": {
      "text/plain": [
       "121"
      ]
     },
     "execution_count": 6,
     "metadata": {},
     "output_type": "execute_result"
    }
   ],
   "source": [
    "train.nrow"
   ]
  },
  {
   "cell_type": "code",
   "execution_count": 7,
   "metadata": {},
   "outputs": [
    {
     "data": {
      "text/plain": [
       "29"
      ]
     },
     "execution_count": 7,
     "metadata": {},
     "output_type": "execute_result"
    }
   ],
   "source": [
    "test.nrow"
   ]
  },
  {
   "cell_type": "markdown",
   "metadata": {},
   "source": [
    "#### Considerations\n",
    "\n",
    "- AutoML takes 15% of train data for validation.\n",
    "- AutoML can also accept a Leaderboard object as input"
   ]
  },
  {
   "cell_type": "code",
   "execution_count": 8,
   "metadata": {},
   "outputs": [
    {
     "name": "stdout",
     "output_type": "stream",
     "text": [
      "AutoML progress: |█\n",
      "23:46:21.462: AutoML: XGBoost is not available; skipping it.\n",
      "\n",
      "███████████████████████████████████████████████████████| 100%\n",
      "\n",
      "23:46:28.620: Skipping training of model GBM_5_AutoML_20200412_234621 due to exception: water.exceptions.H2OModelBuilderIllegalArgumentException: Illegal argument(s) for GBM model: GBM_5_AutoML_20200412_234621.  Details: ERRR on field: _min_rows: The dataset size is too small to split for min_rows=100.0: must have at least 200.0 (weighted) rows, but have only 121.0.\n",
      "\n",
      "\n"
     ]
    }
   ],
   "source": [
    "from h2o.automl import H2OAutoML\n",
    "\n",
    "estimator = H2OAutoML(max_runtime_secs=20)\n",
    "estimator.train([\"sepal_len\",\"sepal_wid\",\"petal_len\",\"petal_wid\"],\"class\",train)"
   ]
  },
  {
   "cell_type": "code",
   "execution_count": 9,
   "metadata": {},
   "outputs": [
    {
     "data": {
      "text/html": [
       "<table>\n",
       "<thead>\n",
       "<tr><th>model_id                                           </th><th style=\"text-align: right;\">  mean_per_class_error</th><th style=\"text-align: right;\">  logloss</th><th style=\"text-align: right;\">    rmse</th><th style=\"text-align: right;\">      mse</th></tr>\n",
       "</thead>\n",
       "<tbody>\n",
       "<tr><td>GLM_1_AutoML_20200412_234621                       </td><td style=\"text-align: right;\">             0.0235065</td><td style=\"text-align: right;\">0.0615812</td><td style=\"text-align: right;\">0.133612</td><td style=\"text-align: right;\">0.0178522</td></tr>\n",
       "<tr><td>GBM_grid__1_AutoML_20200412_234621_model_31        </td><td style=\"text-align: right;\">             0.038883 </td><td style=\"text-align: right;\">0.641294 </td><td style=\"text-align: right;\">0.474058</td><td style=\"text-align: right;\">0.224731 </td></tr>\n",
       "<tr><td>DeepLearning_grid__1_AutoML_20200412_234621_model_1</td><td style=\"text-align: right;\">             0.038883 </td><td style=\"text-align: right;\">0.0955113</td><td style=\"text-align: right;\">0.16825 </td><td style=\"text-align: right;\">0.0283079</td></tr>\n",
       "<tr><td>GBM_grid__1_AutoML_20200412_234621_model_29        </td><td style=\"text-align: right;\">             0.0461294</td><td style=\"text-align: right;\">0.190216 </td><td style=\"text-align: right;\">0.218066</td><td style=\"text-align: right;\">0.0475528</td></tr>\n",
       "<tr><td>GBM_grid__1_AutoML_20200412_234621_model_3         </td><td style=\"text-align: right;\">             0.0461294</td><td style=\"text-align: right;\">0.1482   </td><td style=\"text-align: right;\">0.196145</td><td style=\"text-align: right;\">0.038473 </td></tr>\n",
       "<tr><td>StackedEnsemble_BestOfFamily_AutoML_20200412_234621</td><td style=\"text-align: right;\">             0.0461294</td><td style=\"text-align: right;\">0.242472 </td><td style=\"text-align: right;\">0.233677</td><td style=\"text-align: right;\">0.0546049</td></tr>\n",
       "<tr><td>GBM_grid__1_AutoML_20200412_234621_model_11        </td><td style=\"text-align: right;\">             0.0470131</td><td style=\"text-align: right;\">0.193465 </td><td style=\"text-align: right;\">0.215017</td><td style=\"text-align: right;\">0.0462323</td></tr>\n",
       "<tr><td>GBM_grid__1_AutoML_20200412_234621_model_23        </td><td style=\"text-align: right;\">             0.0470131</td><td style=\"text-align: right;\">0.210669 </td><td style=\"text-align: right;\">0.226649</td><td style=\"text-align: right;\">0.0513696</td></tr>\n",
       "<tr><td>GBM_grid__1_AutoML_20200412_234621_model_2         </td><td style=\"text-align: right;\">             0.052492 </td><td style=\"text-align: right;\">0.178317 </td><td style=\"text-align: right;\">0.214619</td><td style=\"text-align: right;\">0.0460615</td></tr>\n",
       "<tr><td>DRF_1_AutoML_20200412_234621                       </td><td style=\"text-align: right;\">             0.0533758</td><td style=\"text-align: right;\">0.386919 </td><td style=\"text-align: right;\">0.198925</td><td style=\"text-align: right;\">0.0395713</td></tr>\n",
       "</tbody>\n",
       "</table>"
      ]
     },
     "metadata": {},
     "output_type": "display_data"
    },
    {
     "data": {
      "text/plain": []
     },
     "execution_count": 9,
     "metadata": {},
     "output_type": "execute_result"
    }
   ],
   "source": [
    "estimator.leaderboard"
   ]
  },
  {
   "cell_type": "code",
   "execution_count": 10,
   "metadata": {},
   "outputs": [
    {
     "name": "stdout",
     "output_type": "stream",
     "text": [
      "glm prediction progress: |████████████████████████████████████████████████| 100%\n"
     ]
    }
   ],
   "source": [
    "pred = estimator.leader.predict(test)"
   ]
  },
  {
   "cell_type": "code",
   "execution_count": 11,
   "metadata": {},
   "outputs": [
    {
     "data": {
      "text/html": [
       "<table>\n",
       "<thead>\n",
       "<tr><th>predict    </th><th style=\"text-align: right;\">  Iris-setosa</th><th style=\"text-align: right;\">  Iris-versicolor</th><th style=\"text-align: right;\">  Iris-virginica</th></tr>\n",
       "</thead>\n",
       "<tbody>\n",
       "<tr><td>Iris-setosa</td><td style=\"text-align: right;\">     0.999604</td><td style=\"text-align: right;\">      0.000395699</td><td style=\"text-align: right;\">     8.9002e-19 </td></tr>\n",
       "<tr><td>Iris-setosa</td><td style=\"text-align: right;\">     0.999709</td><td style=\"text-align: right;\">      0.000290944</td><td style=\"text-align: right;\">     1.66642e-18</td></tr>\n",
       "<tr><td>Iris-setosa</td><td style=\"text-align: right;\">     0.999602</td><td style=\"text-align: right;\">      0.000397747</td><td style=\"text-align: right;\">     4.81289e-21</td></tr>\n",
       "<tr><td>Iris-setosa</td><td style=\"text-align: right;\">     0.999918</td><td style=\"text-align: right;\">      8.19096e-05</td><td style=\"text-align: right;\">     2.15297e-20</td></tr>\n",
       "<tr><td>Iris-setosa</td><td style=\"text-align: right;\">     0.998473</td><td style=\"text-align: right;\">      0.00152747 </td><td style=\"text-align: right;\">     5.02057e-17</td></tr>\n",
       "<tr><td>Iris-setosa</td><td style=\"text-align: right;\">     0.999184</td><td style=\"text-align: right;\">      0.000815523</td><td style=\"text-align: right;\">     8.07876e-19</td></tr>\n",
       "<tr><td>Iris-setosa</td><td style=\"text-align: right;\">     0.998728</td><td style=\"text-align: right;\">      0.00127159 </td><td style=\"text-align: right;\">     9.32686e-19</td></tr>\n",
       "<tr><td>Iris-setosa</td><td style=\"text-align: right;\">     0.999395</td><td style=\"text-align: right;\">      0.000605373</td><td style=\"text-align: right;\">     7.41572e-18</td></tr>\n",
       "<tr><td>Iris-setosa</td><td style=\"text-align: right;\">     0.998312</td><td style=\"text-align: right;\">      0.00168762 </td><td style=\"text-align: right;\">     2.13692e-17</td></tr>\n",
       "<tr><td>Iris-setosa</td><td style=\"text-align: right;\">     0.992347</td><td style=\"text-align: right;\">      0.00765325 </td><td style=\"text-align: right;\">     5.6677e-17 </td></tr>\n",
       "</tbody>\n",
       "</table>"
      ]
     },
     "metadata": {},
     "output_type": "display_data"
    },
    {
     "data": {
      "text/plain": []
     },
     "execution_count": 11,
     "metadata": {},
     "output_type": "execute_result"
    }
   ],
   "source": [
    "pred"
   ]
  },
  {
   "cell_type": "code",
   "execution_count": 12,
   "metadata": {},
   "outputs": [
    {
     "name": "stdout",
     "output_type": "stream",
     "text": [
      "\n",
      "ModelMetricsMultinomialGLM: glm\n",
      "** Reported on test data. **\n",
      "\n",
      "MSE: 0.01905516791381111\n",
      "RMSE: 0.13804045752536143\n"
     ]
    },
    {
     "data": {
      "text/plain": []
     },
     "execution_count": 12,
     "metadata": {},
     "output_type": "execute_result"
    }
   ],
   "source": [
    "estimator.leader.model_performance(test)"
   ]
  },
  {
   "cell_type": "code",
   "execution_count": null,
   "metadata": {},
   "outputs": [],
   "source": []
  }
 ],
 "metadata": {
  "kernelspec": {
   "display_name": "Python 3",
   "language": "python",
   "name": "python3"
  },
  "language_info": {
   "codemirror_mode": {
    "name": "ipython",
    "version": 3
   },
   "file_extension": ".py",
   "mimetype": "text/x-python",
   "name": "python",
   "nbconvert_exporter": "python",
   "pygments_lexer": "ipython3",
   "version": "3.7.6"
  }
 },
 "nbformat": 4,
 "nbformat_minor": 4
}
