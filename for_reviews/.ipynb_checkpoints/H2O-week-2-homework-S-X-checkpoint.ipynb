{
 "cells": [
  {
   "cell_type": "code",
   "execution_count": 1,
   "metadata": {},
   "outputs": [],
   "source": [
    "import h2o\n",
    "import numpy as np\n",
    "import pandas as pd\n",
    "import matplotlib.pyplot as plt"
   ]
  },
  {
   "cell_type": "code",
   "execution_count": 2,
   "metadata": {},
   "outputs": [
    {
     "name": "stdout",
     "output_type": "stream",
     "text": [
      "Checking whether there is an H2O instance running at http://localhost:54321 . connected.\n"
     ]
    },
    {
     "data": {
      "text/html": [
       "<div style=\"overflow:auto\"><table style=\"width:50%\"><tr><td>H2O_cluster_uptime:</td>\n",
       "<td>9 hours 51 mins</td></tr>\n",
       "<tr><td>H2O_cluster_timezone:</td>\n",
       "<td>Asia/Kolkata</td></tr>\n",
       "<tr><td>H2O_data_parsing_timezone:</td>\n",
       "<td>UTC</td></tr>\n",
       "<tr><td>H2O_cluster_version:</td>\n",
       "<td>3.30.0.1</td></tr>\n",
       "<tr><td>H2O_cluster_version_age:</td>\n",
       "<td>26 days </td></tr>\n",
       "<tr><td>H2O_cluster_name:</td>\n",
       "<td>H2O_from_python_Aditya_Jain_lwamvf</td></tr>\n",
       "<tr><td>H2O_cluster_total_nodes:</td>\n",
       "<td>1</td></tr>\n",
       "<tr><td>H2O_cluster_free_memory:</td>\n",
       "<td>223.1 Mb</td></tr>\n",
       "<tr><td>H2O_cluster_total_cores:</td>\n",
       "<td>4</td></tr>\n",
       "<tr><td>H2O_cluster_allowed_cores:</td>\n",
       "<td>4</td></tr>\n",
       "<tr><td>H2O_cluster_status:</td>\n",
       "<td>locked, healthy</td></tr>\n",
       "<tr><td>H2O_connection_url:</td>\n",
       "<td>http://localhost:54321</td></tr>\n",
       "<tr><td>H2O_connection_proxy:</td>\n",
       "<td>{\"http\": null, \"https\": null}</td></tr>\n",
       "<tr><td>H2O_internal_security:</td>\n",
       "<td>False</td></tr>\n",
       "<tr><td>H2O_API_Extensions:</td>\n",
       "<td>Amazon S3, Algos, AutoML, Core V3, TargetEncoder, Core V4</td></tr>\n",
       "<tr><td>Python_version:</td>\n",
       "<td>3.7.6 final</td></tr></table></div>"
      ],
      "text/plain": [
       "--------------------------  ---------------------------------------------------------\n",
       "H2O_cluster_uptime:         9 hours 51 mins\n",
       "H2O_cluster_timezone:       Asia/Kolkata\n",
       "H2O_data_parsing_timezone:  UTC\n",
       "H2O_cluster_version:        3.30.0.1\n",
       "H2O_cluster_version_age:    26 days\n",
       "H2O_cluster_name:           H2O_from_python_Aditya_Jain_lwamvf\n",
       "H2O_cluster_total_nodes:    1\n",
       "H2O_cluster_free_memory:    223.1 Mb\n",
       "H2O_cluster_total_cores:    4\n",
       "H2O_cluster_allowed_cores:  4\n",
       "H2O_cluster_status:         locked, healthy\n",
       "H2O_connection_url:         http://localhost:54321\n",
       "H2O_connection_proxy:       {\"http\": null, \"https\": null}\n",
       "H2O_internal_security:      False\n",
       "H2O_API_Extensions:         Amazon S3, Algos, AutoML, Core V3, TargetEncoder, Core V4\n",
       "Python_version:             3.7.6 final\n",
       "--------------------------  ---------------------------------------------------------"
      ]
     },
     "metadata": {},
     "output_type": "display_data"
    }
   ],
   "source": [
    "h2o.init()"
   ]
  },
  {
   "cell_type": "code",
   "execution_count": 3,
   "metadata": {},
   "outputs": [
    {
     "name": "stdout",
     "output_type": "stream",
     "text": [
      "Parse progress: |█████████████████████████████████████████████████████████| 100%\n"
     ]
    }
   ],
   "source": [
    "N=1000\n",
    "''' TransactionType from Subscription, Add-on, Upgrade '''\n",
    "\n",
    "TransactionType = ['Subscription','Subscription','Subscription','Add-on','Add-on','Upgrade','Upgrade','Upgrade']\n",
    "\n",
    "TransactionType = TransactionType*(round(N/8))\n",
    "\n",
    "TransactionAmount = np.random.randint(low=200,high=1300,size=N)\n",
    "''' CBRscore from 0 ...900 '''\n",
    "\n",
    "\n",
    "CBRscore = np.random.normal(loc=5,scale=2,size=N)\n",
    "\n",
    "CBRscore[CBRscore<0] = 0\n",
    "\n",
    "CBRscore[CBRscore>900] = 900\n",
    "\n",
    "CBRscore = CBRscore.round().astype(int)\n",
    "\n",
    "\n",
    "\n",
    "d = {'TransactionType': TransactionType, 'TransactionAmount': TransactionAmount,'CBRscore': CBRscore}\n",
    "\n",
    "df = pd.DataFrame(data=d)\n",
    "\n",
    "transaction = h2o.H2OFrame(df,destination_frame='transaction')"
   ]
  },
  {
   "cell_type": "code",
   "execution_count": 5,
   "metadata": {},
   "outputs": [],
   "source": [
    "train, test=transaction.split_frame(\n",
    "ratios=[0.8],\n",
    "destination_frames=[\"transaction_train\",\"transaction_test\"],\n",
    "seed=123\n",
    ")"
   ]
  },
  {
   "cell_type": "code",
   "execution_count": 6,
   "metadata": {},
   "outputs": [
    {
     "name": "stdout",
     "output_type": "stream",
     "text": [
      "788/212\n"
     ]
    }
   ],
   "source": [
    "print (\"%d/%d\" % (train.nrows,test.nrows))"
   ]
  },
  {
   "cell_type": "code",
   "execution_count": 7,
   "metadata": {},
   "outputs": [],
   "source": [
    "from h2o.estimators.gbm import H2OGradientBoostingEstimator"
   ]
  },
  {
   "cell_type": "code",
   "execution_count": 8,
   "metadata": {},
   "outputs": [
    {
     "name": "stdout",
     "output_type": "stream",
     "text": [
      "gbm Model Build progress: |███████████████████████████████████████████████| 100%\n"
     ]
    }
   ],
   "source": [
    "mGBM_1=H2OGradientBoostingEstimator(model_id=\"5folds\",nfolds=5)\n",
    "\n",
    "mGBM_1.train([\"TransactionType\", \"TransactionAmount\"], \"CBRscore\", train)"
   ]
  },
  {
   "cell_type": "code",
   "execution_count": 9,
   "metadata": {},
   "outputs": [
    {
     "name": "stdout",
     "output_type": "stream",
     "text": [
      "gbm Model Build progress: |███████████████████████████████████████████████| 100%\n"
     ]
    }
   ],
   "source": [
    "mGBM_2=H2OGradientBoostingEstimator(model_id=\"overfit\",ntrees=1000,max_depth=10)\n",
    "\n",
    "mGBM_2.train([\"TransactionType\", \"TransactionAmount\"], \"CBRscore\", train)"
   ]
  },
  {
   "cell_type": "code",
   "execution_count": 10,
   "metadata": {},
   "outputs": [
    {
     "name": "stdout",
     "output_type": "stream",
     "text": [
      "Model Details\n",
      "=============\n",
      "H2OGradientBoostingEstimator :  Gradient Boosting Machine\n",
      "Model Key:  5folds\n",
      "\n",
      "\n",
      "ModelMetricsRegression: gbm\n",
      "** Reported on train data. **\n",
      "\n",
      "MSE: 3.7031104454164123\n",
      "RMSE: 1.9243467581016713\n",
      "MAE: 1.5508097903377513\n",
      "RMSLE: 0.39918860766933717\n",
      "Mean Residual Deviance: 3.7031104454164123\n",
      "\n",
      "ModelMetricsRegression: gbm\n",
      "** Reported on cross-validation data. **\n",
      "\n",
      "MSE: 4.725624436099063\n",
      "RMSE: 2.1738501411318727\n",
      "MAE: 1.7505620407492495\n",
      "RMSLE: 0.43807809775136175\n",
      "Mean Residual Deviance: 4.725624436099063\n",
      "Cross-Validation Metrics Summary: \n"
     ]
    },
    {
     "data": {
      "text/html": [
       "<div style=\"overflow:auto\"><table style=\"width:50%\"><tr><td><b></b></td>\n",
       "<td><b>mean</b></td>\n",
       "<td><b>sd</b></td>\n",
       "<td><b>cv_1_valid</b></td>\n",
       "<td><b>cv_2_valid</b></td>\n",
       "<td><b>cv_3_valid</b></td>\n",
       "<td><b>cv_4_valid</b></td>\n",
       "<td><b>cv_5_valid</b></td></tr>\n",
       "<tr><td>mae</td>\n",
       "<td>1.7488256</td>\n",
       "<td>0.0566293</td>\n",
       "<td>1.8344646</td>\n",
       "<td>1.7310925</td>\n",
       "<td>1.7556741</td>\n",
       "<td>1.607575</td>\n",
       "<td>1.8153213</td></tr>\n",
       "<tr><td>mean_residual_deviance</td>\n",
       "<td>4.7177577</td>\n",
       "<td>0.2454809</td>\n",
       "<td>5.063019</td>\n",
       "<td>4.6102433</td>\n",
       "<td>4.7536707</td>\n",
       "<td>4.1155734</td>\n",
       "<td>5.0462832</td></tr>\n",
       "<tr><td>mse</td>\n",
       "<td>4.7177577</td>\n",
       "<td>0.2454809</td>\n",
       "<td>5.063019</td>\n",
       "<td>4.6102433</td>\n",
       "<td>4.7536707</td>\n",
       "<td>4.1155734</td>\n",
       "<td>5.0462832</td></tr>\n",
       "<tr><td>r2</td>\n",
       "<td>-0.0758882</td>\n",
       "<td>0.0287445</td>\n",
       "<td>-0.0323666</td>\n",
       "<td>-0.1084698</td>\n",
       "<td>-0.0781188</td>\n",
       "<td>-0.0289404</td>\n",
       "<td>-0.1315455</td></tr>\n",
       "<tr><td>residual_deviance</td>\n",
       "<td>4.7177577</td>\n",
       "<td>0.2454809</td>\n",
       "<td>5.063019</td>\n",
       "<td>4.6102433</td>\n",
       "<td>4.7536707</td>\n",
       "<td>4.1155734</td>\n",
       "<td>5.0462832</td></tr>\n",
       "<tr><td>rmse</td>\n",
       "<td>2.170527</td>\n",
       "<td>0.0573152</td>\n",
       "<td>2.2501152</td>\n",
       "<td>2.1471477</td>\n",
       "<td>2.1802914</td>\n",
       "<td>2.0286877</td>\n",
       "<td>2.2463934</td></tr>\n",
       "<tr><td>rmsle</td>\n",
       "<td>0.4381795</td>\n",
       "<td>0.0140893</td>\n",
       "<td>0.4723544</td>\n",
       "<td>0.4142317</td>\n",
       "<td>0.4229727</td>\n",
       "<td>0.4407212</td>\n",
       "<td>0.4406175</td></tr></table></div>"
      ],
      "text/plain": [
       "                        mean        sd         cv_1_valid    cv_2_valid    cv_3_valid    cv_4_valid    cv_5_valid\n",
       "----------------------  ----------  ---------  ------------  ------------  ------------  ------------  ------------\n",
       "mae                     1.74883     0.0566293  1.83446       1.73109       1.75567       1.60757       1.81532\n",
       "mean_residual_deviance  4.71776     0.245481   5.06302       4.61024       4.75367       4.11557       5.04628\n",
       "mse                     4.71776     0.245481   5.06302       4.61024       4.75367       4.11557       5.04628\n",
       "r2                      -0.0758882  0.0287445  -0.0323666    -0.10847      -0.0781188    -0.0289404    -0.131545\n",
       "residual_deviance       4.71776     0.245481   5.06302       4.61024       4.75367       4.11557       5.04628\n",
       "rmse                    2.17053     0.0573152  2.25012       2.14715       2.18029       2.02869       2.24639\n",
       "rmsle                   0.438179    0.0140893  0.472354      0.414232      0.422973      0.440721      0.440618"
      ]
     },
     "metadata": {},
     "output_type": "display_data"
    },
    {
     "name": "stdout",
     "output_type": "stream",
     "text": [
      "Scoring History: \n"
     ]
    },
    {
     "data": {
      "text/html": [
       "<div style=\"overflow:auto\"><table style=\"width:50%\"><tr><td><b></b></td>\n",
       "<td><b>timestamp</b></td>\n",
       "<td><b>duration</b></td>\n",
       "<td><b>number_of_trees</b></td>\n",
       "<td><b>training_rmse</b></td>\n",
       "<td><b>training_mae</b></td>\n",
       "<td><b>training_deviance</b></td></tr>\n",
       "<tr><td></td>\n",
       "<td>2018-12-28 00:17:46</td>\n",
       "<td> 0.386 sec</td>\n",
       "<td>0.0</td>\n",
       "<td>2.0972773</td>\n",
       "<td>1.6537820</td>\n",
       "<td>4.3985722</td></tr>\n",
       "<tr><td></td>\n",
       "<td>2018-12-28 00:17:46</td>\n",
       "<td> 0.386 sec</td>\n",
       "<td>1.0</td>\n",
       "<td>2.0880803</td>\n",
       "<td>1.6488651</td>\n",
       "<td>4.3600794</td></tr>\n",
       "<tr><td></td>\n",
       "<td>2018-12-28 00:17:46</td>\n",
       "<td> 0.386 sec</td>\n",
       "<td>2.0</td>\n",
       "<td>2.0775266</td>\n",
       "<td>1.6443618</td>\n",
       "<td>4.3161167</td></tr>\n",
       "<tr><td></td>\n",
       "<td>2018-12-28 00:17:46</td>\n",
       "<td> 0.386 sec</td>\n",
       "<td>3.0</td>\n",
       "<td>2.0703057</td>\n",
       "<td>1.6409154</td>\n",
       "<td>4.2861657</td></tr>\n",
       "<tr><td></td>\n",
       "<td>2018-12-28 00:17:46</td>\n",
       "<td> 0.386 sec</td>\n",
       "<td>4.0</td>\n",
       "<td>2.0592094</td>\n",
       "<td>1.6372666</td>\n",
       "<td>4.2403433</td></tr>\n",
       "<tr><td>---</td>\n",
       "<td>---</td>\n",
       "<td>---</td>\n",
       "<td>---</td>\n",
       "<td>---</td>\n",
       "<td>---</td>\n",
       "<td>---</td></tr>\n",
       "<tr><td></td>\n",
       "<td>2018-12-28 00:17:46</td>\n",
       "<td> 0.473 sec</td>\n",
       "<td>46.0</td>\n",
       "<td>1.9276539</td>\n",
       "<td>1.5523460</td>\n",
       "<td>3.7158494</td></tr>\n",
       "<tr><td></td>\n",
       "<td>2018-12-28 00:17:46</td>\n",
       "<td> 0.474 sec</td>\n",
       "<td>47.0</td>\n",
       "<td>1.9270696</td>\n",
       "<td>1.5517760</td>\n",
       "<td>3.7135973</td></tr>\n",
       "<tr><td></td>\n",
       "<td>2018-12-28 00:17:46</td>\n",
       "<td> 0.476 sec</td>\n",
       "<td>48.0</td>\n",
       "<td>1.9261894</td>\n",
       "<td>1.5516641</td>\n",
       "<td>3.7102055</td></tr>\n",
       "<tr><td></td>\n",
       "<td>2018-12-28 00:17:46</td>\n",
       "<td> 0.478 sec</td>\n",
       "<td>49.0</td>\n",
       "<td>1.9256911</td>\n",
       "<td>1.5516039</td>\n",
       "<td>3.7082863</td></tr>\n",
       "<tr><td></td>\n",
       "<td>2018-12-28 00:17:46</td>\n",
       "<td> 0.480 sec</td>\n",
       "<td>50.0</td>\n",
       "<td>1.9243468</td>\n",
       "<td>1.5508098</td>\n",
       "<td>3.7031104</td></tr></table></div>"
      ],
      "text/plain": [
       "     timestamp            duration    number_of_trees    training_rmse       training_mae        training_deviance\n",
       "---  -------------------  ----------  -----------------  ------------------  ------------------  -------------------\n",
       "     2018-12-28 00:17:46  0.386 sec   0.0                2.097277324051414   1.6537819835605145  4.39857217398026\n",
       "     2018-12-28 00:17:46  0.386 sec   1.0                2.0880803129098524  1.6488651351880301  4.360079393161707\n",
       "     2018-12-28 00:17:46  0.386 sec   2.0                2.0775265813977426  1.6443618445226988  4.31611669641419\n",
       "     2018-12-28 00:17:46  0.386 sec   3.0                2.0703056977295953  1.6409153793063866  4.286165682051625\n",
       "     2018-12-28 00:17:46  0.386 sec   4.0                2.0592093868764896  1.637266551782637   4.240343299000249\n",
       "---  ---                  ---         ---                ---                 ---                 ---\n",
       "     2018-12-28 00:17:46  0.473 sec   46.0               1.9276538623272788  1.5523459738886296  3.7158494129452757\n",
       "     2018-12-28 00:17:46  0.474 sec   47.0               1.927069613721175   1.5517759737629575  3.7135972961274786\n",
       "     2018-12-28 00:17:46  0.476 sec   48.0               1.9261893846440297  1.5516641143009748  3.710205545515346\n",
       "     2018-12-28 00:17:46  0.478 sec   49.0               1.9256911248387159  1.5516038782100388  3.7082863082825988\n",
       "     2018-12-28 00:17:46  0.480 sec   50.0               1.9243467581016713  1.5508097903377513  3.7031104454164123"
      ]
     },
     "metadata": {},
     "output_type": "display_data"
    },
    {
     "name": "stdout",
     "output_type": "stream",
     "text": [
      "\n",
      "See the whole table with table.as_data_frame()\n",
      "Variable Importances: \n"
     ]
    },
    {
     "data": {
      "text/html": [
       "<div style=\"overflow:auto\"><table style=\"width:50%\"><tr><td><b>variable</b></td>\n",
       "<td><b>relative_importance</b></td>\n",
       "<td><b>scaled_importance</b></td>\n",
       "<td><b>percentage</b></td></tr>\n",
       "<tr><td>TransactionAmount</td>\n",
       "<td>2619.1821289</td>\n",
       "<td>1.0</td>\n",
       "<td>0.9080709</td></tr>\n",
       "<tr><td>TransactionType</td>\n",
       "<td>265.1544189</td>\n",
       "<td>0.1012356</td>\n",
       "<td>0.0919291</td></tr></table></div>"
      ],
      "text/plain": [
       "variable           relative_importance    scaled_importance    percentage\n",
       "-----------------  ---------------------  -------------------  ------------\n",
       "TransactionAmount  2619.18                1                    0.908071\n",
       "TransactionType    265.154                0.101236             0.0919291"
      ]
     },
     "metadata": {},
     "output_type": "display_data"
    },
    {
     "data": {
      "text/plain": []
     },
     "execution_count": 10,
     "metadata": {},
     "output_type": "execute_result"
    }
   ],
   "source": [
    "mGBM_1"
   ]
  },
  {
   "cell_type": "code",
   "execution_count": 11,
   "metadata": {},
   "outputs": [
    {
     "name": "stdout",
     "output_type": "stream",
     "text": [
      "Model Details\n",
      "=============\n",
      "H2OGradientBoostingEstimator :  Gradient Boosting Machine\n",
      "Model Key:  overfit\n",
      "\n",
      "\n",
      "ModelMetricsRegression: gbm\n",
      "** Reported on train data. **\n",
      "\n",
      "MSE: 1.365409217491593\n",
      "RMSE: 1.168507260350398\n",
      "MAE: 0.9158952208944988\n",
      "RMSLE: 0.26158040137942046\n",
      "Mean Residual Deviance: 1.365409217491593\n",
      "Scoring History: \n"
     ]
    },
    {
     "data": {
      "text/html": [
       "<div style=\"overflow:auto\"><table style=\"width:50%\"><tr><td><b></b></td>\n",
       "<td><b>timestamp</b></td>\n",
       "<td><b>duration</b></td>\n",
       "<td><b>number_of_trees</b></td>\n",
       "<td><b>training_rmse</b></td>\n",
       "<td><b>training_mae</b></td>\n",
       "<td><b>training_deviance</b></td></tr>\n",
       "<tr><td></td>\n",
       "<td>2018-12-28 00:17:49</td>\n",
       "<td> 0.012 sec</td>\n",
       "<td>0.0</td>\n",
       "<td>2.0972773</td>\n",
       "<td>1.6537820</td>\n",
       "<td>4.3985722</td></tr>\n",
       "<tr><td></td>\n",
       "<td>2018-12-28 00:17:49</td>\n",
       "<td> 0.020 sec</td>\n",
       "<td>1.0</td>\n",
       "<td>2.0718698</td>\n",
       "<td>1.6392338</td>\n",
       "<td>4.2926444</td></tr>\n",
       "<tr><td></td>\n",
       "<td>2018-12-28 00:17:49</td>\n",
       "<td> 0.022 sec</td>\n",
       "<td>2.0</td>\n",
       "<td>2.0495696</td>\n",
       "<td>1.6286472</td>\n",
       "<td>4.2007356</td></tr>\n",
       "<tr><td></td>\n",
       "<td>2018-12-28 00:17:49</td>\n",
       "<td> 0.024 sec</td>\n",
       "<td>3.0</td>\n",
       "<td>2.0310931</td>\n",
       "<td>1.6188132</td>\n",
       "<td>4.1253391</td></tr>\n",
       "<tr><td></td>\n",
       "<td>2018-12-28 00:17:49</td>\n",
       "<td> 0.027 sec</td>\n",
       "<td>4.0</td>\n",
       "<td>2.0178313</td>\n",
       "<td>1.6088901</td>\n",
       "<td>4.0716431</td></tr>\n",
       "<tr><td>---</td>\n",
       "<td>---</td>\n",
       "<td>---</td>\n",
       "<td>---</td>\n",
       "<td>---</td>\n",
       "<td>---</td>\n",
       "<td>---</td></tr>\n",
       "<tr><td></td>\n",
       "<td>2018-12-28 00:17:53</td>\n",
       "<td> 4.004 sec</td>\n",
       "<td>629.0</td>\n",
       "<td>1.3347008</td>\n",
       "<td>1.0638289</td>\n",
       "<td>1.7814263</td></tr>\n",
       "<tr><td></td>\n",
       "<td>2018-12-28 00:17:53</td>\n",
       "<td> 4.012 sec</td>\n",
       "<td>630.0</td>\n",
       "<td>1.3340605</td>\n",
       "<td>1.0632255</td>\n",
       "<td>1.7797175</td></tr>\n",
       "<tr><td></td>\n",
       "<td>2018-12-28 00:17:53</td>\n",
       "<td> 4.013 sec</td>\n",
       "<td>631.0</td>\n",
       "<td>1.3335694</td>\n",
       "<td>1.0626337</td>\n",
       "<td>1.7784073</td></tr>\n",
       "<tr><td></td>\n",
       "<td>2018-12-28 00:17:53</td>\n",
       "<td> 4.013 sec</td>\n",
       "<td>632.0</td>\n",
       "<td>1.3331851</td>\n",
       "<td>1.0620870</td>\n",
       "<td>1.7773825</td></tr>\n",
       "<tr><td></td>\n",
       "<td>2018-12-28 00:17:53</td>\n",
       "<td> 4.531 sec</td>\n",
       "<td>1000.0</td>\n",
       "<td>1.1685073</td>\n",
       "<td>0.9158952</td>\n",
       "<td>1.3654092</td></tr></table></div>"
      ],
      "text/plain": [
       "     timestamp            duration    number_of_trees    training_rmse       training_mae        training_deviance\n",
       "---  -------------------  ----------  -----------------  ------------------  ------------------  -------------------\n",
       "     2018-12-28 00:17:49  0.012 sec   0.0                2.097277324051414   1.6537819835605145  4.39857217398026\n",
       "     2018-12-28 00:17:49  0.020 sec   1.0                2.0718697841749076  1.6392337876528047  4.292644402576978\n",
       "     2018-12-28 00:17:49  0.022 sec   2.0                2.0495696055236823  1.6286471991369567  4.200735567886502\n",
       "     2018-12-28 00:17:49  0.024 sec   3.0                2.0310930859272665  1.6188132206195502  4.125339123701546\n",
       "     2018-12-28 00:17:49  0.027 sec   4.0                2.0178312789310113  1.6088900783945461  4.071643070232361\n",
       "---  ---                  ---         ---                ---                 ---                 ---\n",
       "     2018-12-28 00:17:53  4.004 sec   629.0              1.3347008280384245  1.063828860140089   1.781426300366456\n",
       "     2018-12-28 00:17:53  4.012 sec   630.0              1.334060525670249   1.0632255461615354  1.779717486151581\n",
       "     2018-12-28 00:17:53  4.013 sec   631.0              1.333569374278933   1.0626336553980251  1.7784072760147047\n",
       "     2018-12-28 00:17:53  4.013 sec   632.0              1.3331850838916808  1.0620870490364618  1.7773824679112677\n",
       "     2018-12-28 00:17:53  4.531 sec   1000.0             1.168507260350398   0.9158952208944988  1.365409217491593"
      ]
     },
     "metadata": {},
     "output_type": "display_data"
    },
    {
     "name": "stdout",
     "output_type": "stream",
     "text": [
      "\n",
      "See the whole table with table.as_data_frame()\n",
      "Variable Importances: \n"
     ]
    },
    {
     "data": {
      "text/html": [
       "<div style=\"overflow:auto\"><table style=\"width:50%\"><tr><td><b>variable</b></td>\n",
       "<td><b>relative_importance</b></td>\n",
       "<td><b>scaled_importance</b></td>\n",
       "<td><b>percentage</b></td></tr>\n",
       "<tr><td>TransactionAmount</td>\n",
       "<td>11192.8662109</td>\n",
       "<td>1.0</td>\n",
       "<td>0.8896420</td></tr>\n",
       "<tr><td>TransactionType</td>\n",
       "<td>1388.4481201</td>\n",
       "<td>0.1240476</td>\n",
       "<td>0.1103580</td></tr></table></div>"
      ],
      "text/plain": [
       "variable           relative_importance    scaled_importance    percentage\n",
       "-----------------  ---------------------  -------------------  ------------\n",
       "TransactionAmount  11192.9                1                    0.889642\n",
       "TransactionType    1388.45                0.124048             0.110358"
      ]
     },
     "metadata": {},
     "output_type": "display_data"
    },
    {
     "data": {
      "text/plain": []
     },
     "execution_count": 11,
     "metadata": {},
     "output_type": "execute_result"
    }
   ],
   "source": [
    "mGBM_2"
   ]
  },
  {
   "cell_type": "code",
   "execution_count": 12,
   "metadata": {},
   "outputs": [
    {
     "data": {
      "text/plain": [
       "1.8057249898216485"
      ]
     },
     "execution_count": 12,
     "metadata": {},
     "output_type": "execute_result"
    }
   ],
   "source": [
    "perf1=mGBM_1.model_performance(test)\n",
    "perf1.mae()"
   ]
  },
  {
   "cell_type": "code",
   "execution_count": 13,
   "metadata": {},
   "outputs": [
    {
     "data": {
      "text/plain": [
       "1.9073428070460987"
      ]
     },
     "execution_count": 13,
     "metadata": {},
     "output_type": "execute_result"
    }
   ],
   "source": [
    "perf2=mGBM_2.model_performance(test)\n",
    "perf2.mae()"
   ]
  },
  {
   "cell_type": "code",
   "execution_count": null,
   "metadata": {},
   "outputs": [],
   "source": []
  }
 ],
 "metadata": {
  "kernelspec": {
   "display_name": "Python 3",
   "language": "python",
   "name": "python3"
  },
  "language_info": {
   "codemirror_mode": {
    "name": "ipython",
    "version": 3
   },
   "file_extension": ".py",
   "mimetype": "text/x-python",
   "name": "python",
   "nbconvert_exporter": "python",
   "pygments_lexer": "ipython3",
   "version": "3.7.6"
  }
 },
 "nbformat": 4,
 "nbformat_minor": 2
}
