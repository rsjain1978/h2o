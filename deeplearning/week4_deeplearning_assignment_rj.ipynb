{
 "cells": [
  {
   "cell_type": "code",
   "execution_count": 1,
   "metadata": {},
   "outputs": [],
   "source": [
    "import matplotlib.pyplot as plt\n",
    "%matplotlib inline"
   ]
  },
  {
   "cell_type": "code",
   "execution_count": 2,
   "metadata": {},
   "outputs": [
    {
     "name": "stdout",
     "output_type": "stream",
     "text": [
      "Checking whether there is an H2O instance running at http://localhost:54321 ..... not found.\n",
      "Attempting to start a local H2O server...\n",
      "; Java HotSpot(TM) Client VM (build 25.231-b11, mixed mode, sharing)\n"
     ]
    },
    {
     "name": "stderr",
     "output_type": "stream",
     "text": [
      "C:\\MachineLearning\\anaconda3\\envs\\tf2-gpu\\lib\\site-packages\\h2o\\backend\\server.py:385: UserWarning:   You have a 32-bit version of Java. H2O works best with 64-bit Java.\n",
      "  Please download the latest 64-bit Java SE JDK from Oracle.\n",
      "\n",
      "  warn(\"  You have a 32-bit version of Java. H2O works best with 64-bit Java.\\n\"\n"
     ]
    },
    {
     "name": "stdout",
     "output_type": "stream",
     "text": [
      "  Starting server from C:\\MachineLearning\\anaconda3\\envs\\tf2-gpu\\lib\\site-packages\\h2o\\backend\\bin\\h2o.jar\n",
      "  Ice root: C:\\Users\\ADITYA~1\\AppData\\Local\\Temp\\tmphk8pd7mw\n",
      "  JVM stdout: C:\\Users\\ADITYA~1\\AppData\\Local\\Temp\\tmphk8pd7mw\\h2o_Aditya_Jain_started_from_python.out\n",
      "  JVM stderr: C:\\Users\\ADITYA~1\\AppData\\Local\\Temp\\tmphk8pd7mw\\h2o_Aditya_Jain_started_from_python.err\n",
      "  Server is running at http://127.0.0.1:54321\n",
      "Connecting to H2O server at http://127.0.0.1:54321 ... successful.\n"
     ]
    },
    {
     "data": {
      "text/html": [
       "<div style=\"overflow:auto\"><table style=\"width:50%\"><tr><td>H2O_cluster_uptime:</td>\n",
       "<td>03 secs</td></tr>\n",
       "<tr><td>H2O_cluster_timezone:</td>\n",
       "<td>Asia/Kolkata</td></tr>\n",
       "<tr><td>H2O_data_parsing_timezone:</td>\n",
       "<td>UTC</td></tr>\n",
       "<tr><td>H2O_cluster_version:</td>\n",
       "<td>3.30.0.1</td></tr>\n",
       "<tr><td>H2O_cluster_version_age:</td>\n",
       "<td>27 days </td></tr>\n",
       "<tr><td>H2O_cluster_name:</td>\n",
       "<td>H2O_from_python_Aditya_Jain_3ct6ke</td></tr>\n",
       "<tr><td>H2O_cluster_total_nodes:</td>\n",
       "<td>1</td></tr>\n",
       "<tr><td>H2O_cluster_free_memory:</td>\n",
       "<td>989 Mb</td></tr>\n",
       "<tr><td>H2O_cluster_total_cores:</td>\n",
       "<td>4</td></tr>\n",
       "<tr><td>H2O_cluster_allowed_cores:</td>\n",
       "<td>4</td></tr>\n",
       "<tr><td>H2O_cluster_status:</td>\n",
       "<td>accepting new members, healthy</td></tr>\n",
       "<tr><td>H2O_connection_url:</td>\n",
       "<td>http://127.0.0.1:54321</td></tr>\n",
       "<tr><td>H2O_connection_proxy:</td>\n",
       "<td>{\"http\": null, \"https\": null}</td></tr>\n",
       "<tr><td>H2O_internal_security:</td>\n",
       "<td>False</td></tr>\n",
       "<tr><td>H2O_API_Extensions:</td>\n",
       "<td>Amazon S3, Algos, AutoML, Core V3, TargetEncoder, Core V4</td></tr>\n",
       "<tr><td>Python_version:</td>\n",
       "<td>3.7.6 final</td></tr></table></div>"
      ],
      "text/plain": [
       "--------------------------  ---------------------------------------------------------\n",
       "H2O_cluster_uptime:         03 secs\n",
       "H2O_cluster_timezone:       Asia/Kolkata\n",
       "H2O_data_parsing_timezone:  UTC\n",
       "H2O_cluster_version:        3.30.0.1\n",
       "H2O_cluster_version_age:    27 days\n",
       "H2O_cluster_name:           H2O_from_python_Aditya_Jain_3ct6ke\n",
       "H2O_cluster_total_nodes:    1\n",
       "H2O_cluster_free_memory:    989 Mb\n",
       "H2O_cluster_total_cores:    4\n",
       "H2O_cluster_allowed_cores:  4\n",
       "H2O_cluster_status:         accepting new members, healthy\n",
       "H2O_connection_url:         http://127.0.0.1:54321\n",
       "H2O_connection_proxy:       {\"http\": null, \"https\": null}\n",
       "H2O_internal_security:      False\n",
       "H2O_API_Extensions:         Amazon S3, Algos, AutoML, Core V3, TargetEncoder, Core V4\n",
       "Python_version:             3.7.6 final\n",
       "--------------------------  ---------------------------------------------------------"
      ]
     },
     "metadata": {},
     "output_type": "display_data"
    }
   ],
   "source": [
    "import h2o\n",
    "\n",
    "#specify 1GB max size for H2O\n",
    "h2o.init(max_mem_size=\"1G\")"
   ]
  },
  {
   "cell_type": "code",
   "execution_count": 3,
   "metadata": {},
   "outputs": [
    {
     "name": "stdout",
     "output_type": "stream",
     "text": [
      "Parse progress: |█████████████████████████████████████████████████████████| 100%\n",
      "Number of rows train (1430), validation (189) and test (176)\n"
     ]
    }
   ],
   "source": [
    "data = h2o.import_file('http://coursera.h2o.ai/cacao.882.csv',\n",
    "                      destination_frame='coursera')\n",
    "\n",
    "train, valid, test = data.split_frame([0.8,0.1], seed=100)\n",
    "print ('Number of rows train (%d), validation (%d) and test (%d)'%(train.nrows, valid.nrows, test.nrows))"
   ]
  },
  {
   "cell_type": "markdown",
   "metadata": {},
   "source": [
    "### Step 1: Exploratory Data Analysis"
   ]
  },
  {
   "cell_type": "markdown",
   "metadata": {},
   "source": [
    "### 1.1 - Print variable names"
   ]
  },
  {
   "cell_type": "code",
   "execution_count": 4,
   "metadata": {},
   "outputs": [
    {
     "data": {
      "text/plain": [
       "['Maker',\n",
       " 'Origin',\n",
       " 'REF',\n",
       " 'Review Date',\n",
       " 'Cocoa Percent',\n",
       " 'Maker Location',\n",
       " 'Rating',\n",
       " 'Bean Type',\n",
       " 'Bean Origin']"
      ]
     },
     "execution_count": 4,
     "metadata": {},
     "output_type": "execute_result"
    }
   ],
   "source": [
    "data.names"
   ]
  },
  {
   "cell_type": "markdown",
   "metadata": {},
   "source": [
    "### 1.2 - Print Summary of Data"
   ]
  },
  {
   "cell_type": "code",
   "execution_count": 5,
   "metadata": {},
   "outputs": [
    {
     "data": {
      "text/html": [
       "<table>\n",
       "<thead>\n",
       "<tr><th>       </th><th>Maker   </th><th>Origin        </th><th>REF               </th><th>Review Date      </th><th>Cocoa Percent     </th><th>Maker Location  </th><th>Rating            </th><th>Bean Type  </th><th>Bean Origin  </th></tr>\n",
       "</thead>\n",
       "<tbody>\n",
       "<tr><td>type   </td><td>enum    </td><td>enum          </td><td>int               </td><td>int              </td><td>real              </td><td>enum            </td><td>real              </td><td>enum       </td><td>enum         </td></tr>\n",
       "<tr><td>mins   </td><td>        </td><td>              </td><td>5.0               </td><td>2006.0           </td><td>0.42              </td><td>                </td><td>1.0               </td><td>           </td><td>             </td></tr>\n",
       "<tr><td>mean   </td><td>        </td><td>              </td><td>1035.9047353760463</td><td>2012.325348189414</td><td>0.7169832869080772</td><td>                </td><td>3.185933147632313 </td><td>           </td><td>             </td></tr>\n",
       "<tr><td>maxs   </td><td>        </td><td>              </td><td>1952.0            </td><td>2017.0           </td><td>1.0               </td><td>                </td><td>5.0               </td><td>           </td><td>             </td></tr>\n",
       "<tr><td>sigma  </td><td>        </td><td>              </td><td>552.8863650101442 </td><td>2.92721027766861 </td><td>0.0632311833842919</td><td>                </td><td>0.4780623935863306</td><td>           </td><td>             </td></tr>\n",
       "<tr><td>zeros  </td><td>        </td><td>              </td><td>0                 </td><td>0                </td><td>0                 </td><td>                </td><td>0                 </td><td>           </td><td>             </td></tr>\n",
       "<tr><td>missing</td><td>0       </td><td>0             </td><td>0                 </td><td>0                </td><td>0                 </td><td>0               </td><td>0                 </td><td>1          </td><td>1            </td></tr>\n",
       "<tr><td>0      </td><td>A. Morin</td><td>Agua Grande   </td><td>1876.0            </td><td>2016.0           </td><td>0.63              </td><td>France          </td><td>3.75              </td><td>Â          </td><td>Sao Tome     </td></tr>\n",
       "<tr><td>1      </td><td>A. Morin</td><td>Kpime         </td><td>1676.0            </td><td>2015.0           </td><td>0.7               </td><td>France          </td><td>2.75              </td><td>Â          </td><td>Togo         </td></tr>\n",
       "<tr><td>2      </td><td>A. Morin</td><td>Atsane        </td><td>1676.0            </td><td>2015.0           </td><td>0.7               </td><td>France          </td><td>3.0               </td><td>Â          </td><td>Togo         </td></tr>\n",
       "<tr><td>3      </td><td>A. Morin</td><td>Akata         </td><td>1680.0            </td><td>2015.0           </td><td>0.7               </td><td>France          </td><td>3.5               </td><td>Â          </td><td>Togo         </td></tr>\n",
       "<tr><td>4      </td><td>A. Morin</td><td>Quilla        </td><td>1704.0            </td><td>2015.0           </td><td>0.7               </td><td>France          </td><td>3.5               </td><td>Â          </td><td>Peru         </td></tr>\n",
       "<tr><td>5      </td><td>A. Morin</td><td>Carenero      </td><td>1315.0            </td><td>2014.0           </td><td>0.7               </td><td>France          </td><td>2.75              </td><td>Criollo    </td><td>Venezuela    </td></tr>\n",
       "<tr><td>6      </td><td>A. Morin</td><td>Cuba          </td><td>1315.0            </td><td>2014.0           </td><td>0.7               </td><td>France          </td><td>3.5               </td><td>Â          </td><td>Cuba         </td></tr>\n",
       "<tr><td>7      </td><td>A. Morin</td><td>Sur del Lago  </td><td>1315.0            </td><td>2014.0           </td><td>0.7               </td><td>France          </td><td>3.5               </td><td>Criollo    </td><td>Venezuela    </td></tr>\n",
       "<tr><td>8      </td><td>A. Morin</td><td>Puerto Cabello</td><td>1319.0            </td><td>2014.0           </td><td>0.7               </td><td>France          </td><td>3.75              </td><td>Criollo    </td><td>Venezuela    </td></tr>\n",
       "<tr><td>9      </td><td>A. Morin</td><td>Pablino       </td><td>1319.0            </td><td>2014.0           </td><td>0.7               </td><td>France          </td><td>4.0               </td><td>Â          </td><td>Peru         </td></tr>\n",
       "</tbody>\n",
       "</table>"
      ]
     },
     "metadata": {},
     "output_type": "display_data"
    }
   ],
   "source": [
    "data.summary()"
   ]
  },
  {
   "cell_type": "markdown",
   "metadata": {},
   "source": [
    "### 1.3 - > Evaluate data distribution of target variable\n",
    "\n",
    " - Ratings seem to be normally distributed so need to specify a different 'distribution'"
   ]
  },
  {
   "cell_type": "code",
   "execution_count": 6,
   "metadata": {},
   "outputs": [],
   "source": [
    "#what we want to predict\n",
    "y = 'Rating'\n",
    "seed = 99\n",
    "\n",
    "#fields which we may not have while doing prediction.\n",
    "ignoreFields = [\"\"]\n",
    "\n",
    "#all fields minus those which we would not have during predictions\n",
    "xAll = [i for i in train.names if i not in ignoreFields]"
   ]
  },
  {
   "cell_type": "code",
   "execution_count": 7,
   "metadata": {},
   "outputs": [
    {
     "data": {
      "image/png": "[encoded data removed]",
      "text/plain": [
       "<Figure size 432x288 with 1 Axes>"
      ]
     },
     "metadata": {
      "needs_background": "light"
     },
     "output_type": "display_data"
    }
   ],
   "source": [
    "train[y].hist(150)"
   ]
  },
  {
   "cell_type": "markdown",
   "metadata": {},
   "source": [
    "### 1.4 ->Evaluate the levels for training data and see if there are any fields which can be dropped\n",
    "\n",
    "    - None in this case"
   ]
  },
  {
   "cell_type": "code",
   "execution_count": 8,
   "metadata": {},
   "outputs": [
    {
     "name": "stdout",
     "output_type": "stream",
     "text": [
      "[415, 1039, 1, 0, 0, 59, 1, 40, 100]\n",
      "H2OFrame: 'py_2_sid_873d' \n",
      "Dimensions: 1430 obs. of 9 variables\n",
      "$ Maker          :  Factor w/ 415 level(s) \"A. Morin\",\"AMMA\",\"Acalli\",\"Adi\",\"Aequare (Gianduja)\",\"Ah Cacao\",\"Akesson's (Pralus)\",\"Alain Ducasse\",\"Alexandre\",\"Altus aka Cao Artisan\",\"Amano\",\"Amatller (Simon Coll)\",\"Amazona\",\"Ambrosia\",\"Amedei\",\"Anahata\",\"Animas\",\"Ara\",\"Arete\",\"Artisan du Chocolat\",\"Artisan du Chocolat (Casa Luker)\",\"Askinosie\",\"Bahen & Co.\",\"Bakau\",\"Bar Au Chocolat\",\"Baravelli's\",\"Batch\",\"Beau Cacao\",\"Beehive\",\"Belcolade\",\"Bellflower\",\"Belyzium\",\"Benoit Nihant\",\"Bernachon\",\"Beschle (Felchlin)\",\"Bisou\",\"Bittersweet Origins\",\"Black Mountain\",\"Black River (A. Morin)\",\"Blanxart\",\"Blue Bandana\",\"Bonnat\",\"Bouga Cacao (Tulicorp)\",\"Bowler Man\",\"Brasstown aka It's Chocolate\",\"Brazen\",\"Breeze Mill\",\"Bright\",\"Britarev\",\"Bronx Grrl Chocolate\",\"Burnt Fork Bend\",\"C-Amaro\",\"Cacao Arabuco\",\"Cacao Atlanta\",\"Cacao Barry\",\"Cacao Hunters\",\"Cacao Market\",\"Cacao Prieto\",\"Cacao Sampaka\",\"Cacao Store\",\"Cacao de Origen\",\"Cacao de Origin\",\"Cacaosuyo (Theobroma Inversiones)\",\"Cacaoyere (Ecuatoriana)\",\"Callebaut\",\"Cao\",\"Caoni (Tulicorp)\",\"Captain Pembleton\",\"Caribeans\",\"Carlotta Chocolat\",\"Castronovo\",\"Cello\",\"Cemoi\",\"Chaleur B\",\"Charm School\",\"Chchukululu (Tulicorp)\",\"Chequessett\",\"Chloe Chocolat\",\"Chocablog\",\"Choco Del Sol\",\"Choco Dong\",\"ChocoReko\",\"Chocola'te\",\"Chocolarder\",\"Chocolate Alchemist-Philly\",\"Chocolate Con Amor\",\"Chocolate Conspiracy\",\"Chocolate Makers\",\"Chocolate Tree, The\",\"Chocolats Privilege\",\"Chocosol\",\"Chocovic\",\"Chocovivo\",\"Choklat\",\"Chokolat Elot (Girard)\",\"Choocsol\",\"Christopher Morel (Felchlin)\",\"Chuao Chocolatier\",\"Chuao Chocolatier (Pralus)\",\"Claudio Corallo\",\"Cloudforest\",\"Coleman & Davis\",\"Compania de Chocolate (Salgado)\",\"Condor\",\"Confluence\",\"Coppeneur\",\"Cote d' Or (Kraft)\",\"Cravve\",\"Creo\",\"DAR\",\"Daintree\",\"Dalloway\",\"Damson\",\"Dandelion\",\"Danta\",\"Dark Forest\",\"Davis\",\"De Mendes\",\"De Villiers\",\"DeVries\",\"Dean and Deluca (Belcolade)\",\"Debauve & Gallais (Michel Cluizel)\",\"Desbarres\",\"Dick Taylor\",\"Doble & Bignall\",\"Dole (Guittard)\",\"Dolfin (Belcolade)\",\"Domori\",\"Dormouse\",\"Duffy's\",\"Dulcinea\",\"Durand\",\"Durci\",\"ENNA\",\"East Van Roasters\",\"Eau de Rose\",\"Eclat (Felchlin)\",\"Edelmond\",\"El Ceibo\",\"El Rey\",\"Emerald Estate\",\"Emily's\",\"Enric Rovira (Claudio Corallo)\",\"Erithaj (A. Morin)\",\"Escazu\",\"Ethel's Artisan (Mars)\",\"Ethereal\",\"Fearless (AMMA)\",\"Feitoria Cacao\",\"Felchlin\",\"Finca\",\"Forever Cacao\",\"Forteza (Cortes)\",\"Fossa\",\"Franceschi\",\"Frederic Blondeel\",\"French Broad\",\"Fresco\",\"Friis Holm\",\"Friis Holm (Bonnat)\",\"Fruition\",\"Garden Island\",\"Georgia Ramon\",\"Glennmade\",\"Goodnow Farms\",\"Grand Place\",\"Green & Black's (ICAM)\",\"Green Bean to Bar\",\"Grenada Chocolate Co.\",\"Guido Castagna\",\"Guittard\",\"Habitual\",\"Hachez\",\"Hacienda El Castillo\",\"Haigh\",\"Harper Macaw\",\"Heilemann\",\"Heirloom Cacao Preservation (Brasstown)\",\"Heirloom Cacao Preservation (Fruition)\",\"Heirloom Cacao Preservation (Guittard)\",\"Heirloom Cacao Preservation (Manoa)\",\"Heirloom Cacao Preservation (Millcreek)\",\"Heirloom Cacao Preservation (Mindo)\",\"Heirloom Cacao Preservation (Zokoko)\",\"Hogarth\",\"Hoja Verde (Tulicorp)\",\"Holy Cacao\",\"Honest\",\"Hotel Chocolat\",\"Hotel Chocolat (Coppeneur)\",\"Hummingbird\",\"Idilio (Felchlin)\",\"Indah\",\"Indaphoria\",\"Indi\",\"Isidro\",\"Izard\",\"Jacque Torres\",\"Jordis\",\"Just Good Chocolate\",\"K'ul\",\"Kah Kow\",\"Kakao\",\"Kallari (Ecuatoriana)\",\"Kaoka (Cemoi)\",\"Kerchner\",\"Ki' Xocolatl\",\"Kiskadee\",\"Kto\",\"Kyya\",\"L'Amourette\",\"L.A. Burdick (Felchlin)\",\"La Chocolaterie Nanairo\",\"La Maison du Chocolat (Valrhona)\",\"La Oroquidea\",\"La Pepa de Oro\",\"Laia aka Chat-Noir\",\"Lajedo do Ouro\",\"Lake Champlain (Callebaut)\",\"Letterpress\",\"Levy\",\"Lilla\",\"Lillie Belle\",\"Lindt & Sprungli\",\"Loiza\",\"Lonohana\",\"Love Bar\",\"Luker\",\"Machu Picchu Trading Co.\",\"Madecasse (Cinagra)\",\"Madre\",\"Maglio\",\"Majani\",\"Malagasy (Chocolaterie Robert)\",\"Malagos\",\"Malie Kai (Guittard)\",\"Malmo\",\"Mana\",\"Manifesto Cacao\",\"Manoa\",\"Manufaktura Czekolady\",\"Map Chocolate\",\"Marana\",\"Marigold's Finest\",\"Marou\",\"Mars\",\"Marsatta\",\"Martin Mayer\",\"Mast Brothers\",\"Matale\",\"Maverick\",\"Mayacama\",\"Meadowlands\",\"Menakao (aka Cinagra)\",\"Mesocacao\",\"Metiisto\",\"Metropolitan\",\"Michel Cluizel\",\"Middlebury\",\"Millcreek Cacao Roasters\",\"Mindo\",\"Minimal\",\"Mission\",\"Mita\",\"Moho\",\"Molucca\",\"Momotombo\",\"Monarque\",\"Monsieur Truffe\",\"Montecristi\",\"Muchomas (Mesocacao)\",\"Mutari\",\"Nahua\",\"Naive\",\"Nanea\",\"Nathan Miller\",\"Neuhaus (Callebaut)\",\"Nibble\",\"Night Owl\",\"Noble Bean aka Jerjobo\",\"Noir d' Ebine\",\"Nova Monda\",\"Nuance\",\"Nugali\",\"Oakland Chocolate Co.\",\"Obolo\",\"Ocelot\",\"Ocho\",\"Ohiyo\",\"Oialla by Bojessen (Malmo)\",\"Olive and Sinclair\",\"Olivia\",\"Omanhene\",\"Omnom\",\"Original Beans (Felchlin)\",\"Original Hawaiin Chocolate Factory\",\"Orquidea\",\"Pacari\",\"Palette de Bine\",\"Pangea\",\"Park 75\",\"Parliament\",\"Pascha\",\"Patric\",\"Paul Young\",\"Peppalo\",\"Pierre Marcolini\",\"Pinellas\",\"Pitch Dark\",\"Pomm (aka Dead Dog)\",\"Potomac\",\"Pralus\",\"Pump Street Bakery\",\"Pura Delizia\",\"Q Chocolate\",\"Quetzalli (Wolter)\",\"Raaka\",\"Rain Republic\",\"Rancho San Jacinto\",\"Ranger\",\"Raoul Boulanger\",\"Raw Cocoa\",\"Republica del Cacao (aka Confecta)\",\"Ritual\",\"Roasting Masters\",\"Robert (aka Chocolaterie Robert)\",\"Rococo (Grenada Chocolate Co.)\",\"Rogue\",\"Rozsavolgyi\",\"S.A.I.D.\",\"SRSLY\",\"Sacred\",\"Salgado\",\"Santander (Compania Nacional)\",\"Santome\",\"Scharffen Berger\",\"Seaforth\",\"Shark Mountain\",\"Shark's\",\"Shattel\",\"Shattell\",\"Sibu\",\"Sibu Sura\",\"Silvio Bessone\",\"Sirene\",\"Sjolinds\",\"Smooth Chocolator, The\",\"Snake & Butterfly\",\"Sol Cacao\",\"Solkiki\",\"Solomons Gold\",\"Solstice\",\"Soma\",\"Somerville\",\"Soul\",\"Spagnvola\",\"Spencer\",\"Sprungli (Felchlin)\",\"StRita Supreme\",\"Starchild\",\"Stella (aka Bernrain)\",\"Stone Grindz\",\"Sublime Origins\",\"Summerbird\",\"Suruca Chocolate\",\"Svenska Kakaobolaget\",\"Szanto Tibor\",\"TCHO\",\"Tabal\",\"Tablette (aka Vanillabeans)\",\"Tan Ban Skrati\",\"Taza\",\"Tejas\",\"Terroir\",\"The Barn\",\"Theo\",\"Theobroma\",\"Timo A. Meyer\",\"To'ak (Ecuatoriana)\",\"Tobago Estate (Pralus)\",\"Tocoti\",\"Treehouse\",\"Tsara (Cinagra)\",\"Two Ravens\",\"Un Dimanche A Paris\",\"Undone\",\"Upchurch\",\"Urzi\",\"Valrhona\",\"Vanleer (Barry Callebaut)\",\"Vao Vao (Chocolaterie Robert)\",\"Vicuna\",\"Videri\",\"Vietcacao (A. Morin)\",\"Vintage Plantations\",\"Vintage Plantations (Tulicorp)\",\"Violet Sky\",\"Vivra\",\"Wellington Chocolate Factory\",\"Whittakers\",\"Wilkie's Organic\",\"Willie's Cacao\",\"Wm\",\"Woodblock\",\"Xocolat\",\"Xocolla\",\"Zak's\",\"Zart Pralinen\",\"Zokoko\",\"Zotter\",\"hello cocoa\",\"hexx\",\"iQ Chocolate\",\"organicfair\",\"twenty-four blackbirds\" \n"
     ]
    },
    {
     "name": "stdout",
     "output_type": "stream",
     "text": [
      "$ Origin         :  Factor w/ 1039 level(s) \"heirloom\"\",\"100 percent\",\"2009 Hapa Nibby\",\"A case of the Xerces Blues, triple roast\",\"ABOCFA Coop\",\"Abinao\",\"Abstract S. w/ Jamaica nibs,batch abs60323.0\",\"Acarigua, w/ nibs\",\"Acopagro\",\"Acul-du-Nord, 2015\",\"Africa\",\"Africa meets Latina\",\"AgroCriso Plantation\",\"Agua Fria; Sucre region\",\"Agua Grande\",\"Akata\",\"Akesson Estate\",\"Akesson P.\",\"Akesson's E., Sambirano V.\",\"Akesson's Estate\",\"Akesson's, batch 4411\",\"Akessons Estate, Sambirano, 2013\",\"Akessons Estate, Sambirano, Ambanja\",\"Akosombo\",\"Almendra Blanca, batch 1004\",\"Alpaco\",\"Alta Verapaz, 2014\",\"Alto Beni\",\"Alto Beni, Covendo Region\",\"Alto Beni, Cru Savage\",\"Alto Beni, Palos Blanco\",\"Alto Beni, Palos Blancos\",\"Alto Beni, Upper Rio Beni, 2014\",\"Alto Beni, Upper Rio Beni, 2015\",\"Alto Beni, Wild Bolivian\",\"Alto Beni, Wild Harvest, Itenez R. 24hr c.\",\"Alto Beni, Wild Harvest, Itenez R., 60hr c.\",\"Alto Beni, Wild Harvest, Limited Ed.\",\"Amazon Basin Blend\",\"Amazonas\",\"Amazonas Frucht\",\"Amazonas w/ nibs\",\"Amazonia\",\"Ambanja, Sambirano Valley\",\"Ambanja, Tsara Valley\",\"Ambanja, batch 1 SRB\",\"Ambolikapiky\",\"Ambolikapiky P.\",\"Ambolikapkly P.\",\"Amina\",\"Andoa, Grand Cru blend\",\"Ankasa\",\"Anselmo Paraiso Estate\",\"Antigua, Special Reserve\",\"Antilles (Trin/Gren/DR/Ven)\",\"Apurimac\",\"Apurimac, El Quinacho Co-op\",\"Aragua, Trincheras\",\"Araguani\",\"Aranama\",\"Arauca\",\"Arawak\",\"Arhuacos\",\"Arriba\",\"Asajaya E, NW Borneo, b. #132/4500\",\"Asante\",\"Asochivite, batch 1005\",\"Atsane\",\"Australia\",\"Autumn, Primary Harvest, 2012\",\"Ayacucho, El Guinacho\"\"\",\"Ba Lai\",\"Ba Ria\",\"Ba Ria Vung Tau Province\",\"Bachelor's Hall E., St. Thomas Parish\",\"Bahia\",\"Bahia Black, batch bra50722.1\",\"Bahia Brazil, Fazenda Sao Pedro\",\"Bahia Superior\",\"Bahia, Agri-Forestal Plantation, 2010\",\"Bahia, Batch 148\",\"Bahia, Fazenda Camboa\",\"Bahia, Fazenda Venturosa\",\"Bahia, Floresta Azul,Good Friends Reserve#3\",\"Bahia, Scavina\",\"Bahia, batch a1213\",\"Baking\",\"Bali\",\"Bali (west), Sukrama Family, Melaya area\",\"Bali, Jembrana\",\"Bali, Singaraja\",\"Bali, Sukrama Bros. Farm, Melaya, 62hr C\",\"Balinese, Java\",\"Bambamarca, 2015\",\"Baracoa\",\"Baracoa, Cuba\",\"Barba, Xoco\",\"Barinas\",\"Barlovento, Venezuela\",\"Bayou Blend\",\"Belize\",\"Belize south\",\"Belize south, low fermentation\",\"Belize, 2013\",\"Belize, 2014 Harvest, Batch 9\",\"Belize, Batch 2\",\"Belize, med roast\",\"Bellavista Coop, #225, LR, MC, CG Exclusive\",\"Bellavista Gran Pajeten, San Martin\",\"Ben Tre\",\"Ben Tre, Dong Nai\",\"Ben Tre, Mekong Delta\",\"Ben Tre, Mekong Delta, MoCay\",\"Ben Tre, Surprise Valley\",\"Beniamo\",\"Birmanie\",\"Bittersweet\",\"Black Science Blend 1\",\"Blend\",\"Blend No. 1\",\"Blue Mountain\",\"Blue Mountain Region\",\"Bocas del Toro\",\"Bocas del Toro, Cocabo Co-op\",\"Bocas del Toro, Tierra Oscura\",\"Bolivar\",\"Bolivar, Arriba\",\"Bolivar, Guaranda\",\"Bolivia\",\"Bolivia, Bo-nib-ia, w/ nibs\",\"Bolivia, Wild Thing\",\"Bolivian\",\"Boyaca, Aprocampa Coop, Pauna\",\"Brazil\",\"Brazil Blend\",\"Brazil Rio Doce\",\"Brazil, Batch 20316\",\"Brazil, Mitzi Blue\",\"Brazilian\",\"Brooklyn Blend\",\"Bundibugyo\",\"Bundibugyo District\",\"Buto\",\"CIAAB Coop\",\"CSB Chama\",\"Cabosse\",\"Cacao Blanco\",\"Cacao Nacional W.F.\",\"Cacao Nib Crunch\",\"Cacao Verapaz\",\"Cahabon\",\"Cahabon Region\",\"Camahogne\",\"Camino Verde\",\"Camino Verde P., 2012, Balao, Guayas\",\"Camino Verde P., Balao, 2015 harvest, batch8\",\"Camino Verde P., Balao, Guayas\",\"Camino Verde P., Balao, Guayas, Floral\"\"\",\"Camino Verde P., Balao, Guayas, Fruity\"\"\",\"Camino Verde P., Balao, Guayas, 2012\",\"Camino Verde P., Balao, Guayas, 2013\",\"Camino Verde P., Balao, Guayas, 2014\",\"Camino Verde, Balao, Guayas\",\"Camino Verde, Black S., batch cvu6030.0\",\"Camino Verde, Guayas\",\"Campesino w/ nibs\",\"Canoabo\",\"Canoabo, 2013\",\"Canoabo, Hacienda San Jose\",\"Capistrano\",\"Capistrano*\",\"Caracas, Venezuela and Ghana\",\"Caraibe\",\"Caranero, Choc. Garage Exclusive\",\"Caraque\",\"Carenero\",\"Carenero S., Barlovento, Grand Cru\",\"Carenero Superior\",\"Carenero Superior, #203, MR, SC\",\"Carenero Superior, Apamate\",\"Carenero Superior, Bucare\",\"Carenero Superior, Concepcion\",\"Carenero Superior, Gran Saman\",\"Carenero Superior, Mijao\",\"Carenero Superior, Urrutia, Barlovento\",\"Carenero, Empyrean Sabor\",\"Carenero, Guapiles, Ocumare blend\",\"Caribe\",\"Carre Amer\",\"Carre Grand Noir\",\"Carribean\",\"Carribean-Raw\",\"Carupano, H. San Jose\",\"Castillo, Hispaniola, unroasted\",\"Catongo\",\"Cedeno, lot 271\",\"Cesar\",\"Ceylan\",\"Chanchamayo Province\",\"Chanchamayo, Pichanadi, 2012, 60hr c.\",\"Chef's Blend\",\"Chiapan\",\"Chiapas\",\"Chiapas, Lacandon Jungle\",\"Chiapas, Lacandon Jungle, Oaxacom Mtn\",\"Chiapas, Mokaya P.\",\"Chiapas, Triple Cacao\",\"Chimelb, Lanquin, Alta Verapaz, b-GUA001\",\"Chocoan Rainforest, Teroro Escondido, ESM\",\"Chocolatey-beta\",\"Choobua, Kona\",\"Choroni\",\"Choroni, Finca Torres, 48hr c.\",\"Chuao\",\"Chuao 100hr\",\"Chuao 2002 P.\",\"Chuao 70hr\",\"Chuao, #217, DR, MC\",\"Chuao, #218, MR, MC\",\"Chuao, Aragua region\",\"Chuao, Dark Roast\",\"Chuao, Hacienda San Jose\",\"Chuao, Light Roast\",\"Chuao, Mantuano blend\",\"Chuao, Med. Roast\",\"Chuao, Venezuela\",\"Chuao, batch 3\",\"Chucuri\",\"Chulucanas, Batch 1\",\"Chulucanas, El Platanal\",\"Chuno\",\"Chuno, San Jose de Bocay, Pantasma R.,B.S.\",\"Chuno, Xoco\",\"Chuno, double turned, Xoco\",\"Chuno, triple turned, Xoco\",\"Citrus-beta\",\"Classic\",\"Claudio Corallo w/ nibs\",\"Colombia\",\"Colombia, Batch 9\",\"Colombia, Casa Luker\",\"Colombian\",\"Colombian 2008\",\"Colombian Dark\",\"Colombian Semi Dark\",\"Colombian w/ nibs\",\"Colombie\",\"Complexite\",\"Conacado\",\"Conacado Coop\",\"Conacado, #212, LR, SC\",\"Conacado, #213, DR, -C\",\"Conacado, #223, MR, SC\",\"Conacado, #224, MR, MC\",\"Conacado, 2012, 120hr c.\",\"Conacado, Manifesto\",\"Concepcion\",\"Concepcion*\",\"Congo\",\"Congo w/ nibs\",\"Congo, Gorilla bar\",\"Congo, Grand Cru\",\"Coopertiva Amazona\",\"Coopertiva Amazona w/ nibs\",\"Cooproagro\",\"Corazon del Ecuador, Calceta beans\",\"Cordoba\",\"Corona Arriba\",\"Cortes\",\"Costa Esmeraldas\",\"Costa Rica\",\"Costa Rica, Oscuro\",\"Cota Brus, Terciopelo, 2015\",\"Coto Brus\",\"Coto Brus, Heirloom, Batch 1\",\"Coto Brus, Terciopelo\",\"Coucher du Soleil\",\"Crayfish Bay Estate, 2014\",\"Crayfish Bay aka Non Pariel Estate\",\"Crazy 88\",\"Criollo Blend\",\"Criollo, Dominican Republic\",\"Criollo, Hawaii\",\"Crudo\",\"Cuana, 2008\",\"Cuana, 2013\",\"Cuba\",\"Cuba, Batch 59/100\",\"Cumbia\",\"Cumboto, farmer Jose Lugo\",\"Cusco\",\"Cusco, Cacao Cusco\",\"Cuyagua\",\"Cuyagua Village\",\"Cuyagua, 2013\",\"D.R. Congo, Cru Virunga\",\"DUO, batch 002\",\"Daintree Estates, N. Queensland\",\"Dak Lak, Batch 2451\",\"Dancing in Your Head, 5 bean blend\",\"Dark\",\"Dark 67\",\"Dark 75\",\"Dark, Stone Ground\",\"Davao\",\"Davao, Mt. Talamo foothills\",\"Diego 48hr/ W.F. blend prototype\",\"Diego 60hr/ W.F. blend prototype\",\"Diego/ original micro\",\"Djakarta, Java and Ghana\",\"Djual Island\",\"Dominican\",\"Dominican Republic\",\"Dominican Republic prototype\",\"Dominican Republic w/ nibs\",\"Dominican Republic, Love Bar\"\"\",\"Dominican Republic, Batch 3\",\"Dominican Republic, Batch 31616\",\"Dominican Republic, Batch D2\",\"Dominican Republic, Coop\",\"Dominican Republic, batch 7\",\"Dominican Republic, lot D82R\",\"Dominican Republic, rustic\",\"Dominican Republic-Organic\",\"Dominican Republicm, rustic\",\"Don Homero- Cerecita Valley\",\"Dong Nai\",\"Dos Rios\",\"Downtown London\",\"Dual Origins, Sambirano, Elvesia\",\"Duarte Province\",\"Duarte, Batch 360\",\"Duo- Gran Couva & Camino Verde\",\"Eastern Promises\",\"Ecuador\",\"Ecuador Puristique\",\"Ecuador, 2013\",\"Ecuador, Batch 1\",\"Ecuador, Batch 31516\",\"Ecuador, Bob Bar\",\"Ecuador, Choc. Garage Exclusive\",\"Ecuador, Midnight Dark\",\"Ecuador, Puristique\",\"Ecuador, Twilght Dark\",\"Ecuador, lot E432314L\",\"Ecuador, raw\",\"Ecuador, w/ nibs\",\"El Carmen, batch 1003\",\"El Ceibo Coop\",\"El Oro\",\"El Oro, Hacienda de Oro\",\"El Salvador\",\"Elvesia\",\"Elvesia P.\",\"Elvesia P., Batch 32\",\"Elvesia P., Black Science\",\"Elvesia, 2011\",\"Emerald Estate\",\"Epique, Blend No. 49\",\"Equateur\",\"Equator\",\"Esmeraldas\",\"Esmeraldas, Salazar Farm\",\"Espada\",\"Espiritu Santo, 'Smoke Monster'\",\"Excellence (US Version)\",\"Extra Dark\",\"Fazenda Camboa\",\"Fazenda Camboa, Bahia\",\"Fazenda Leolinda\",\"Fazenda Sempre Firme P., Bahia\",\"Fazenda Sempre Firme, Bahia\",\"Finisterra\",\"Fleur de Cacao\",\"Fortissima\",\"French Laundry 20th Anniversary\",\"Fruity-beta\",\"Gabon\",\"Garaua\",\"Ghana\",\"Ghana Puristique\",\"Ghana prototype\",\"Ghana, #211, MR, MC\",\"Ghana, 2013\",\"Ghana, 2013, batch 129\",\"Ghana, Kumasi\",\"Ghana, Panama, Ecuador\",\"Ghana, prototype\",\"Goddess Blend\",\"Goodman Estate\",\"Gran Blanco\",\"Gran Couva\",\"Gran Couva 2005 P.\",\"Grand 'Anse\",\"Grand Cru Blend No.1, 5 yr. Anniversary Ed\",\"Grand Cru Dominican Republic\",\"Grand Cru Ecuador\",\"Grand Cru Ghana\",\"Granella\",\"Grenada\",\"Grenada, Black Science\",\"Grenade\",\"Gru Grococo, St. Andrews\",\"Gruppo Salinas\",\"Guadalcanal\",\"Guadeloupe\",\"Guanaja\",\"Guaniamo\",\"Guaniamo, Amazonas\",\"Guantupi River\",\"Guapiles\",\"Guasare\",\"Guasare, La Sierra de Perija, batch gua001\",\"Guasare, Zulia Prov.\",\"Guasare, Zulia Prov., 2015, batch 124\",\"Guatemala\",\"Guayas\",\"Guyave\",\"Hacienda Las Trincheras\",\"Hacienda Victoria\",\"Hacienda la Trinidad\",\"Haiti\",\"Haleiwa E, O'ahu, 2014\",\"Haleiwa, O'ahu; Lonohana E., Kanahiku\",\"Ham Luong\",\"Hamakua Coast, Kokoleka\",\"Hamakua, Hawaiian Crown, #176\",\"Haut Penja, w/ nibs\",\"Hawai'i, Kona Estate Grown\",\"Hawai'i, Kona Grand Cru E.\",\"Hawaiian Crown, Kona Vanilla\",\"Hawaiian, Big Island\",\"Hilo\",\"Hilo, w/ added cocoa butter\",\"Hispaniola\",\"Hispaniola w/ nibs\",\"Hispaniola, 2008\",\"Hispaniola, 2013\",\"Hispaniola, batch 170104\",\"Honduras\",\"House Blend, Batch 2\",\"Houseblend\",\"Huallabamba, 2015\",\"Huila\",\"Huiwani Coop\",\"IL100, H. San Jose\",\"Ilblend\",\"India\",\"India (south)\",\"Indianer, Raw\",\"Indigena Amazonia, Grand Cru, Quizas\",\"Indio Rojo, Xoco\",\"Indonesia\",\"Island Growers, 120hr c.\",\"Island Growers, 2012, 120hr c.\",\"Island Growers, 96hr c.\",\"Ivory Coast\",\"Ivory Coast, Batch 56/100\",\"Jamaica\",\"Jamaica a l'ancienne\",\"Jamaica, #204, DR, SC\",\"Jamaica, #205, DR, MC\",\"Jamaica, #206, DR, LC\",\"Jamaica, #209, DR, SC\",\"Jamaica, #210, DR, MC\",\"Jamaique\",\"Java\",\"Java, Grand Cru\",\"Java, Indonesian Black\",\"Java, Indonesie\",\"Java, Javablond\",\"Johe\",\"Johe, Xoco\",\"Juliana\",\"Jutiapa, lot 050916D\",\"Kafupbo, Petit Bourg, De Borgnes\",\"Kakao Kamili, Kilombero Valley\",\"Kakoa Kamili, Both Man & Bird & Beast\",\"Kaori\",\"Kaua'I, Alea Estate +world\",\"Kaua'i\",\"Kendari\",\"Kendem Lembu, Java\",\"Kerala State\",\"Kilombero Valley\",\"Kilombero, batch 41\",\"Kokoa Kamili\",\"Kokoa Kamili Coop\",\"Kokoa Kamili Coop, Kilombero\",\"Kokoa Kamili, batch 1 SRB\",\"Kolumbia\",\"Kongo, Highlands\",\"Kpime\",\"Kulili Estate\",\"Kulili P., 2013\",\"Kumasi Sambirano\",\"Kuruba\",\"La Bahia, w/ cane juice\",\"La Bahia, w/ cane sugar\",\"La Dalia\",\"La Dalia, Matagalpa\",\"La Dalia, Matagalpa,cacao Bisesto,green label\",\"La Dorado, light roast\",\"La Masica, Batch 1, FHIA Research Center\",\"La Masica, Batch 7, FHIA\",\"La Masica, FHIA\",\"La Patriota, cacao Indio, purple label\",\"La Red\",\"La Red de Guanconejo, N. Highlands coop\",\"La Red, 2011\",\"La Red, Guaconejo\",\"La Red, Guanconjeco\",\"La Red, Project Reserva, Guaconejo\",\"La Selva\",\"La Tronca, Matagalpa\",\"Lachua\",\"Lachua w/ cane sugar\",\"Lachua w/ maple sugar, batch 5\",\"Lachua, Q'egchi families\",\"Lacri Blend\",\"Lago di Como, Blu\",\"Lam Dong\",\"Lam Dong, Batch 153\",\"LamasdelChanka, San Martin, Oro Verde coop\",\"Lanquin Estate\",\"Las Acacias E.\",\"Las Islas\",\"Latino\",\"Le Chocolat Chaud\",\"Le Noir Amer\",\"Le Noir Extra Amer\",\"Lever du Soleil\",\"Libanio\",\"Liberia\",\"Liberia, #174\",\"Little Big Man\",\"Loma Los Pinos, Yacao region, D.R.\",\"Loma Sotavento\",\"Loma Sotavento, 2013\",\"Los Ancones P.\",\"Los Colorados, Santo Domingo, Equateur\",\"Los Llanos\",\"Los Rios\",\"Los Rios, H. Iara\",\"Los Rios, H. Iara, 2012\",\"Los Rios, H. Iara, 2012, 120hr c.\",\"Los Rios, H. Iara, 96hr c.\",\"Los Rios, Hacienda Limon, Heirloom\",\"Los Rios, Hacienda Limon, Orecao, 2014\",\"Los Rios, Hacienda Limon, Orecao, 2015\",\"Los Rios, Puerto Romero, Equateur\",\"Los Rios, Quevedo\",\"Los Rios, Quevedo, Arriba\",\"Los Rios, Rancho Grande 2004/2007\",\"Los Rios, Rancho Grande 2007\",\"Los Rios, Vinces\",\"Los Ujuxtes\",\"Lumas, 2015 Harvest, Batch 6, brown sugar\",\"Lumas, 2015 Harvest, Batch 7\",\"Mababa\",\"Machu Pichu\",\"Macondo\",\"Macuare; Miranda; Chloe formula\",\"Madagared\",\"Madagascar\",\"Madagascar w/ nibs\",\"Madagascar, 100% criollo\",\"Madagascar, Ambolikapiky P.\",\"Madagascar, Batch 2\",\"Madagascar, Batch 59/100\",\"Madagascar, Batch 8\",\"Madagascar, Grand Cru\",\"Madagascar, Nosy Be Isle.\",\"Madagascar, Sassy Bar\",\"Madagascar, lot M0403R\",\"Madagascar, w/ shell\",\"Mahali, Kasai\",\"Makwale Village, Kyela\",\"Maleku\",\"Malekula Island\",\"Malekula P., 2013\",\"Malgascio\",\"Manabi\",\"Mangaro P.\",\"Manhattan\",\"Manickchand Estate\",\"Manjari\",\"Mantuano\",\"Mantuano, 2012\",\"Mara\",\"Marabel Farms\",\"Maracaibo\",\"Maracaibo Clasificado\",\"Maracaibo, El Rosario\",\"Maracaibo, El Vigia\",\"Maragda\",\"Maragnam\",\"Maralumi P.\",\"Maranon\",\"Maranon Canyon\",\"Maranon Canyon, Fortunato No. 4\",\"Maranon, #227, LR, MC\",\"Maranon, #228, MR, SC\",\"Maranon, #229, MR, LC\",\"Maranon, #230, DR, LC\",\"Maranon, 2014\",\"Maranon, Cajamarca\",\"Maranon, Fortunato No. 4\",\"Maranon, Good & Evil, w/ nibs\",\"Maranon, Joya Rara\",\"Maranon, batch 2\",\"Maranura\",\"Marcial, single Cote, 2012\",\"Markham Valley\",\"Markham Valley, #219, LR, MC\",\"Markham Valley, #220, MR, MC\",\"Markham Valley, #221, DR, MC\",\"Markham Valley, #222, LR, 0C\",\"Matagalpa\",\"Matagalpa, Cacao Bisiesto\",\"Matasawalevu\",\"Matiguas\",\"Matina 1-6, prototype\",\"Maunawili, O'ahu, Agri Research C., 2014\",\"Maunawili, O'ahu, Agri Research C., 2015\",\"Maya Belize\",\"Maya Mountain\",\"Maya Mountain w/ nibs\",\"Maya Mountain, Toledo, Batch 29\",\"Maya Mtn\",\"Maya Mtn, Batch 18, Heirloom\",\"Maya Mtn, Batch 454, Heirloom\",\"Maya Mtn, Moho R., Toledo D.\",\"Maya Mtn, Moho R., Toledo D., 2015\",\"Maya Mtn., Break Bar- Snark\",\"Medagla, Xoco\",\"Mekong Delta & Dong Nai\",\"Mekong Delta, early 2014 Harvest\",\"Mexico\",\"Mexico, Lot 28022016\",\"Mid Mountain, 2014\",\"Midnight\",\"Millot P., Ambanja\",\"Millot Plantation\",\"Mindo\",\"Misterio\",\"Moho River\",\"Moho River Valley\",\"Moho Valley\",\"Mombacho\",\"Momotombo\",\"Montanya\",\"Monte Alegre (Itacare), Brazil\",\"Monte Alegre, 3 diff. plantations\",\"Monte Alegre, D. Badaro, Raw, Organic\",\"Monte Alegre, D. Badero\",\"Monte Alegre, Diego Badero\",\"Montubia\",\"Mora Mora 2006\",\"Morobe\",\"Morogoro\",\"Morropon, Norandiono Coop, Piura\",\"Moxos\",\"Nacional\",\"Namau Village\",\"Namau Village, N. Taileva P., batch a2812\",\"Napa\",\"Nativo, Varzea\",\"Nature\",\"New Ireland\",\"Nibby\",\"Nicaliso, Xoco\",\"Nicalizo\",\"Nicaragua\",\"Nicaragua, American style\",\"Nicaragua, w/ inbs\",\"Nicaraqua\",\"Nigeria\",\"Nine\",\"Nocturne\",\"Noir\",\"Noir Infini\",\"Non Pariel Estate\",\"Norandino, batch 161208\",\"Noula Coop\",\"Nourish\",\"Nube- prototype\",\"Nutty-beta\",\"Nyangbo\",\"O'Payo\",\"O'ahu\",\"O'ahu, N. Shore, Waialua E., Kakoleka\",\"O'ahu, N. Shore, Waialua Estate\",\"O'ahu, N. Shore, Waialua Estate w/ nibs\",\"O'payo, Waslala\",\"Oahu, Winward, #151, Maunawili district\",\"Ocumare\",\"Ocumare 61\",\"Ocumare 61, Puertomar\",\"Ocumare 67, Puertofino\",\"Ocumare 77\",\"Ocumare de la Costa\",\"Ocumare, Cumboto\",\"Ocumare, H. Cata, 48hr c.\",\"Ocumare, H. Cata, w/ nibs\",\"Ocumare, Premier Cru, Quizas No. 2\",\"Ocumare, Puerto Cabello\",\"Ocumare, Puerto Cabello, Venezuela\",\"Ocumare, Venezuela\",\"Ocumare, prototype\",\"Oko Caribe\",\"Oko Caribe, DOR005\",\"Oko Caribe, Duarte P.\",\"Oko Caribe, Duarte P., Collab w Chocosol\",\"Oko Caribe, Duarte Province, 2016 H.\",\"Oko Caribe, batch 1 SRB\",\"One Hundred\",\"Onyx\",\"Opaeula Estate, O'ahu, Ele'ele\",\"Opaeula Estate, O'ahu, Nene, CG Exclusive\",\"Organic Dark\",\"Orinoco\",\"Orinoqua Region, Arauca\",\"Oro\",\"Oscuro\",\"Oscuro, Finca Chimelb\",\"Otucan, Grand Cru\",\"PNG, Devotion\",\"PNG, Nib Bar\",\"PNG, Revolution\",\"PNG, Voodoo\",\"Pablino\",\"Palo Blanco w/ panela, Chulucanas\",\"Palo Blanco, Chulucanas\",\"Palos Blancos\",\"Palos Blancos + nibs\",\"Panama\",\"Panama, Raven\",\"Pangoa\",\"Pangoa, w/ nibs\",\"Papaua New Guinea\",\"Papouasie\",\"Papua\",\"Papua Kerafat\",\"Papua New Guinea\",\"Papua New Guinea, Batch 2\",\"Papua New Guinea, triple roast, batch 1\",\"Paramaribo, batch 20160043-01\",\"Patanemo\",\"Patanemo Vil., Carabobo State, Tisano family\",\"Patanemo, Epoch, Donaldo\",\"Pepiniere, single Cote\",\"Perfect Illusion\",\"Perla Negra\",\"Peru\",\"Peru + nibs\",\"Peru Brutus\",\"Peru, Awagum bar\",\"Peru, Batch 1\",\"Peru, Batch 51/100\",\"Peru, Las Pampas P.\",\"Peru, Madagascar\",\"Peru- Ecuador\",\"Peruvian\",\"Peruvian Amazon\",\"Phantom\",\"Philly Blend, 5 plantations\",\"Piaroa, Amazonas, Batch 350\",\"Pichincha\",\"Pinchincha, Mindo, Coop Nueva Esper., 2015\",\"Pisa\",\"Piura\",\"Piura Blanco\",\"Piura Blanco, Norandino\",\"Piura Select, Cacao Blanc\",\"Piura, Apotequil, Porcelana\" 72hr c.\"\",\"Piura, Blanco de Criollo\",\"Piura, Choc. Garage Exclusive\",\"Piura, Illanka, Quemazon\",\"Piura, Perou\",\"Porcelana\",\"Porcelana, Apotequil\",\"Porcelana, Batch 5163\",\"Porcelana, Colombia, Amazonas\",\"Porcelana, Maracaibo, Palmira P. 2005\",\"Porcelana, Maracaibo, Palmira P. 2006\",\"Porcelana, Pariguan\",\"Porcelana, Pedegral\",\"Porcelana, Premier Cru, Quizas No. 1\",\"Porcelana, S. of Lake Maracaibo\",\"Porcelana, Sorotaima,Machiques,batch pcl001\",\"Porcelana, Tabasco\",\"Porcelana, Tabasco, Finca La Joya\",\"Porcelana, Tabasco, La Joya\",\"Porcelana, Tabasco, Limited Ed.\",\"Porcelana, Tabasco, Marfil de Blanco\",\"Porcelana, Tabasco, Mexico\",\"Porcelana, Venezuela\",\"Porcelana, Zulia\",\"Presidio\",\"Principe\",\"Puerto Cabello\",\"Puerto Cabello, Mantuano\",\"Puerto Plata\",\"Puerto Quito, heirloom\",\"Puerto Rico\",\"Punta Galera, cacao Nacional, gold label\",\"Purple Haze\",\"Quetzalcoatl\",\"Quilla\",\"Quito\",\"ROIG\",\"ROIG, 2014\",\"Rainforest\",\"Raw\",\"Red Mayan, Xoco\",\"Red Vanilla\",\"Rico Rugoso, Xoco\",\"Rio Arriba\",\"Rio Caribe\",\"Rio Caribe Superior, Paria Penninsula\",\"Rio Caribe, Batch 7\",\"Rio Caribe, Cariaco\",\"Rio Caribe, Macuro\",\"Rio Caribe, Paria Penninsula\",\"Rio Caribe, Tepui Treasure\",\"Rio Dulce, Xoco\",\"Rio Eni\",\"Rio Peripa H.\",\"Rio Tuma\",\"Rizek Cacao, Cibao Valley, Domin. Rep.\",\"Rizek Cacao, Domin. Rep.\",\"Roberto\",\"Robson Estate\",\"Roxborough, Tobago\",\"Rugoso\",\"Rugoso, Bad Fermentation\",\"Rugoso, Xoco\",\"Saidor Estate, Madang P.\",\"Samana\",\"Samar, East Visayas region\",\"Sambirano\",\"Sambirano 2006\",\"Sambirano Valley\",\"Sambirano Valley, #214, LR, MC\",\"Sambirano Valley, #215, MR, MC\",\"Sambirano Valley, #216, MR, LC\",\"Sambirano Valley, 2012\",\"Sambirano Valley, Black Science, B-60307.0\",\"Sambirano Valley, Le 100%\",\"Sambirano Valley, batch 2477\",\"Sambirano, 2008\",\"Sambirano, 2009\",\"Sambirano, Akesson Estate\",\"Sambirano, Ambanja\",\"Sambirano, Ambanja, Madagascar\",\"Sambirano, Ampamakia 2005, Millot P.\",\"Sambirano, Menava P.\",\"Sambirano, batch 170102\",\"San Andres\",\"San Andres, American style\",\"San Andres, silk\",\"San Francisco de Macoris, Cibao region\",\"San Joaquin\",\"San Jose\",\"San Jose del Tambo\",\"San Juan\",\"San Juan Estate\",\"San Juan Estate, Cherry Blossoms at Night\",\"San Juan Estate, Gran Couva\",\"San Juan de Cheni\",\"San Martin\",\"San Martin, Amazonian Highlands\",\"San Martin, Batch 2\",\"San Martin, Bellavista Coop, #226, DR, MC\",\"Sang Yum Coop\",\"Sangre Grande P., Trinidad\",\"Santander\",\"Santo Domingo\",\"Sao Tome\",\"Sao Tome & Principe\",\"Sao Tome, Batch 151\",\"Satipo Pangoa region, 16hr conche\",\"Satipo Pangoa region, 20hr conche\",\"Satipo region, white label\",\"Selva\",\"Selva Maya\",\"Selvagem, Jari\",\"Semisweet\",\"Sensations Intense\",\"Serian E., NW Borneo, b. #134/3800\",\"Shake Shack\",\"Sharkey\",\"Sierra Nevada\",\"Sierra Nevada, Tutu Iku\",\"Signature Blend\",\"Silvestre, Batch 1, 2011\",\"Silvestre, Batch 7, 2013\",\"Silvestre, La Paz, Beni\",\"Sisa 36hr/ W. F. blend prototype\",\"Sisa's Secret/ original micro\",\"Solomon Island\",\"Solomon Island w/ nibs\",\"Somia Plantation\",\"Somia Plantation, 2012\",\"Somia Plantation, Akesson, 2012\",\"Somia Plantation, Sambirano, 70hr C\",\"Somia, 2013\",\"South America\",\"South America and Africa\",\"Special Maker Reserve\",\"Spring, Secondary Harvest, 2012\",\"Sri Lanka\",\"St. Lucia\",\"Star of Ecuador\",\"Star of Peru\",\"Suchitepequez E.\",\"Supremo- SF\",\"Sur del Lago\",\"Sur del Lago Classificado\",\"Sur del Lago, Amiari Meridena, Zulia, 48hr c.\",\"Sur del Lago, Amiari Meridena, Zulia, w/ nibs\",\"Sur del Lago, Merida\",\"Surfin\",\"Sylvestre, Oialla\",\"TCHOPro 60.5\",\"TCHOPro 68\",\"Tabasco\",\"Taino Secret\",\"Tainori\",\"Talamanca, Raul-Kekoldo community\",\"Tamarina\",\"Tan Phu Dong Island, Heart of Darkness\",\"Tan Phu Dong, Treasure Island\",\"Tangara\",\"Tanzania\",\"Tanzania, Party Bar\",\"Tanzania, batch a1\",\"Tapanti, light roast\",\"Tarakan\",\"Tawau, Oct. 2015 Harvest\",\"Tenende, Uwate\",\"Tenor\",\"Terreiro Velho P.\",\"Terreiro Velho P. w/ sugar crystals\",\"Teyuna\",\"The Other One, Grand Cru\",\"Three Amigos(Chuao, Wild Bolivia, D.R.)\",\"Tien Giang\",\"Tien Giang, 2015, batch 10-2-16\",\"Tien Giang, Black S., batch VIT60420.0\",\"Tien Giang, Gao Co-op\",\"Tien Giang, batch 1 SRB\",\"Tingo Maria\",\"Tobago\",\"Tokiala\",\"Toledo District\",\"Toledo District, 2015 Harvest\",\"Toledo District, Maya\",\"Toledo District, w/ nibs\",\"Tome Acu\",\"Tome Acu E., Amazon Rainforest\",\"Toscano Black\",\"Tranquilidad, Batch 1\",\"Tranquilidad, Baures\",\"Tres Hombres\",\"Trinatario Treasure\",\"Trincheras\",\"Trinidad\",\"Trinidad & Tobago\",\"Trinidad, Heritage, Limited ed.\",\"Trinidad-Tobago\",\"Trinitario\",\"Trinite\",\"Trintade, Sao Tome\",\"Tsaranta\",\"Tumaco\",\"Tumbes\",\"Tumbes Coop\",\"Tumbes, Zarumilla\"\"\",\"Tumbes, 2013 Harvest, Batch 8\",\"Tumbes, Batch 2\",\"Tumbes, Dear Mr. Finley, 2014\",\"Tumbes, Norandino\",\"Twilight\",\"UNOCACE\",\"Uba Budo\",\"Uganda\",\"Umoho R., Toledo District, San Felipe\",\"Upala\",\"Upala w/ nibs\",\"Upala, Batch 12\",\"Upala, Batch 18\",\"Uranga, Lot 22032016\",\"Vale do Juliana E., Atlantic Forest\",\"Vale do Juliana, w/ nibs\",\"Vanua Levu\",\"Vanua Levu, Ami-Ami-CA\",\"Vanua Levu, Toto-A\",\"Vanuatu\",\"Vanuatu, batch 2410\",\"Venezuela\",\"Venezuela, Trinidad\",\"Venezuela, batch 122\",\"Venezuela; Barinos, Merida, Tachron\",\"Venzuela\",\"Vietnam\",\"Vietnam, Batch 50/100\",\"Vila Gracinda\",\"Villa Andina\",\"Vinces\",\"Virunga\",\"Waiahole, O'ahu\",\"Wampusirpi Region\",\"Wampusirpi, batch 007\",\"Wasatch\",\"West Africa\",\"Wild Beni, Lower Rio Beni, Tranquilidad, 2014\",\"Wild Beni, Lower Rio Beni, Tranquilidad, 2015\",\"Wild Beniano, 2016, batch 128, Heirloom\",\"Wild Bolivia\",\"Wild Bolivian\",\"Wild Bolivian, Batch 2\",\"Wild Bolivian, Jungle Love\",\"Wild Thing\",\"Winak Coop, Napo\",\"Winak, Sumaco\",\"Xoconusco\",\"Xoconusco, Chiapas\",\"Xoconusco, cacao Real\",\"Xocunusco, Chiapas, Pichucalco\",\"Zorzal Reserva\",\"Zorzal Reserva w/ Charles Kerchner\",\"Zorzal Reserva, 2015 H., Kerchner\",\"black label\",\"la Amistad\",\"one hundred\",\"single estate\",\"the lost city, gracias a dias, batch 362\" \n"
     ]
    },
    {
     "name": "stdout",
     "output_type": "stream",
     "text": [
      "$ REF            :  num 1876 1676 1676 1680 1704 1315 1315 1315 1319 1011\n",
      "$ Review Date    :  num 2016 2015 2015 2015 2015 2014 2014 2014 2014 2013\n",
      "$ Cocoa Percent  :  num 0.63 0.7 0.7 0.7 0.7 0.7 0.7 0.7 0.7 0.7\n",
      "$ Maker Location :  Factor w/ 59 level(s) \"Argentina\",\"Australia\",\"Austria\",\"Belgium\",\"Bolivia\",\"Brazil\",\"Canada\",\"Chile\",\"Colombia\",\"Costa Rica\",\"Czech Republic\",\"Denmark\",\"Domincan Republic\",\"Ecuador\",\"Eucador\",\"Fiji\",\"Finland\",\"France\",\"Germany\",\"Ghana\",\"Grenada\",\"Guatemala\",\"Honduras\",\"Hungary\",\"Iceland\",\"India\",\"Ireland\",\"Israel\",\"Italy\",\"Japan\",\"Lithuania\",\"Madagascar\",\"Martinique\",\"Mexico\",\"Netherlands\",\"New Zealand\",\"Niacragua\",\"Nicaragua\",\"Peru\",\"Philippines\",\"Poland\",\"Portugal\",\"Puerto Rico\",\"Russia\",\"Sao Tome\",\"Scotland\",\"Singapore\",\"South Africa\",\"South Korea\",\"Spain\",\"St. Lucia\",\"Suriname\",\"Sweden\",\"Switzerland\",\"U.K.\",\"U.S.A.\",\"Venezuela\",\"Vietnam\",\"Wales\" \n",
      "$ Rating         :  num 3.75 2.75 3.0 3.5 3.5 2.75 3.5 3.5 3.75 2.75\n",
      "$ Bean Type      :  Factor w/ 40 level(s) \"Amazon mix\",\"Amazon, ICS\",\"Beniano\",\"Blend\",\"Blend-Forastero,Criollo\",\"CCN51\",\"Criollo\",\"Criollo (Amarru)\",\"Criollo (Ocumare 61)\",\"Criollo (Ocumare 67)\",\"Criollo (Ocumare 77)\",\"Criollo (Ocumare)\",\"Criollo (Porcelana)\",\"Criollo (Wild)\",\"Criollo, +\",\"Criollo, Forastero\",\"Criollo, Trinitario\",\"EET\",\"Forastero\",\"Forastero (Amelonado)\",\"Forastero (Arriba)\",\"Forastero (Arriba) ASS\",\"Forastero (Arriba) ASSS\",\"Forastero (Catongo)\",\"Forastero (Nacional)\",\"Forastero (Parazinho)\",\"Forastero(Arriba, CCN)\",\"Forastero, Trinitario\",\"Matina\",\"Nacional\",\"Nacional (Arriba)\",\"Trinitario\",\"Trinitario (85% Criollo)\",\"Trinitario (Amelonado)\",\"Trinitario (Scavina)\",\"Trinitario, Criollo\",\"Trinitario, Forastero\",\"Trinitario, Nacional\",\"Trinitario, TCGA\",\" \" \n",
      "$ Bean Origin    :  Factor w/ 100 level(s) \"Amazon\",\"Australia\",\"Belize\",\"Bolivia\",\"Brazil\",\"Burma\",\"Cameroon\",\"Carribean\",\"Carribean(DR/Jam/Tri)\",\"Central and S. America\",\"Colombia\",\"Colombia, Ecuador\",\"Congo\",\"Cost Rica, Ven\",\"Costa Rica\",\"Cuba\",\"DR, Ecuador, Peru\",\"Dom. Rep., Madagascar\",\"Domincan Republic\",\"Dominican Rep., Bali\",\"Dominican Republic\",\"Ecuador\",\"Ecuador, Costa Rica\",\"Ecuador, Mad., PNG\",\"El Salvador\",\"Fiji\",\"Gabon\",\"Ghana\",\"Ghana & Madagascar\",\"Ghana, Domin. Rep\",\"Ghana, Panama, Ecuador\",\"Gre., PNG, Haw., Haiti, Mad\",\"Grenada\",\"Guat., D.R., Peru, Mad., PNG\",\"Guatemala\",\"Haiti\",\"Hawaii\",\"Honduras\",\"India\",\"Indonesia\",\"Indonesia, Ghana\",\"Ivory Coast\",\"Jamaica\",\"Liberia\",\"Mad., Java, PNG\",\"Madagascar\",\"Madagascar & Ecuador\",\"Malaysia\",\"Martinique\",\"Mexico\",\"Nicaragua\",\"Nigeria\",\"PNG, Vanuatu, Mad\",\"Panama\",\"Papua New Guinea\",\"Peru\",\"Peru(SMartin,Pangoa,nacional)\",\"Peru, Belize\",\"Peru, Dom. Rep\",\"Peru, Ecuador\",\"Peru, Ecuador, Venezuela\",\"Peru, Mad., Dom. Rep.\",\"Peru, Madagascar\",\"Philippines\",\"Principe\",\"Puerto Rico\",\"Samoa\",\"Sao Tome\",\"Sao Tome & Principe\",\"Solomon Islands\",\"South America\",\"South America, Africa\",\"Sri Lanka\",\"St. Lucia\",\"Suriname\",\"Tanzania\",\"Tobago\",\"Togo\",\"Trinidad\",\"Trinidad, Ecuador\",\"Trinidad, Tobago\",\"Trinidad-Tobago\",\"Uganda\",\"Vanuatu\",\"Ven, Bolivia, D.R.\",\"Ven, Trinidad, Ecuador\",\"Ven., Indonesia, Ecuad.\",\"Ven., Trinidad, Mad.\",\"Ven.,Ecu.,Peru,Nic.\",\"Venez,Africa,Brasil,Peru,Mex\",\"Venezuela\",\"Venezuela, Carribean\",\"Venezuela, Dom. Rep.\",\"Venezuela, Ghana\",\"Venezuela, Java\",\"Venezuela, Trinidad\",\"Venezuela/ Ghana\",\"Vietnam\",\"West Africa\",\" \" \n"
     ]
    }
   ],
   "source": [
    "print (train.nlevels())\n",
    "\n",
    "# this gives the different values of attribute\n",
    "train.structure()"
   ]
  },
  {
   "cell_type": "markdown",
   "metadata": {},
   "source": [
    "## Model 1 -> Baseline Model\n",
    "\n",
    " - Ratings seem to be normally distributed so need to specify a different 'distribution'"
   ]
  },
  {
   "cell_type": "code",
   "execution_count": 9,
   "metadata": {},
   "outputs": [
    {
     "name": "stdout",
     "output_type": "stream",
     "text": [
      "deeplearning Model Build progress: |██████████████████████████████████████| 100%\n",
      "Wall time: 17.8 s\n"
     ]
    }
   ],
   "source": [
    "from h2o.estimators.deeplearning import H2ODeepLearningEstimator\n",
    "\n",
    "estimator = H2ODeepLearningEstimator(variable_importances=True, #variable_importance gives feature importance (explainability)\n",
    "                                    stopping_rounds=5,\n",
    "                                    stopping_tolerance=0,\n",
    "                                    stopping_metric='deviance',\n",
    "                                     model_id ='baseline_ratings_model',\n",
    "                                    seed=seed) \n",
    "%time estimator.train(xAll,y,train, validation_frame=valid)"
   ]
  },
  {
   "cell_type": "code",
   "execution_count": 10,
   "metadata": {},
   "outputs": [
    {
     "name": "stdout",
     "output_type": "stream",
     "text": [
      "\n",
      "Status of Neuron Layers: predicting Rating, regression, gaussian distribution, Quadratic loss, 373,201 weights/biases, 4.3 MB, 14,300 training samples, mini-batch size 1\n"
     ]
    },
    {
     "data": {
      "text/html": [
       "<div>\n",
       "<style scoped>\n",
       "    .dataframe tbody tr th:only-of-type {\n",
       "        vertical-align: middle;\n",
       "    }\n",
       "\n",
       "    .dataframe tbody tr th {\n",
       "        vertical-align: top;\n",
       "    }\n",
       "\n",
       "    .dataframe thead th {\n",
       "        text-align: right;\n",
       "    }\n",
       "</style>\n",
       "<table border=\"1\" class=\"dataframe\">\n",
       "  <thead>\n",
       "    <tr style=\"text-align: right;\">\n",
       "      <th></th>\n",
       "      <th></th>\n",
       "      <th>layer</th>\n",
       "      <th>units</th>\n",
       "      <th>type</th>\n",
       "      <th>dropout</th>\n",
       "      <th>l1</th>\n",
       "      <th>l2</th>\n",
       "      <th>mean_rate</th>\n",
       "      <th>rate_rms</th>\n",
       "      <th>momentum</th>\n",
       "      <th>mean_weight</th>\n",
       "      <th>weight_rms</th>\n",
       "      <th>mean_bias</th>\n",
       "      <th>bias_rms</th>\n",
       "    </tr>\n",
       "  </thead>\n",
       "  <tbody>\n",
       "    <tr>\n",
       "      <th>0</th>\n",
       "      <td></td>\n",
       "      <td>1</td>\n",
       "      <td>1663</td>\n",
       "      <td>Input</td>\n",
       "      <td>0</td>\n",
       "      <td></td>\n",
       "      <td></td>\n",
       "      <td></td>\n",
       "      <td></td>\n",
       "      <td></td>\n",
       "      <td></td>\n",
       "      <td></td>\n",
       "      <td></td>\n",
       "      <td></td>\n",
       "    </tr>\n",
       "    <tr>\n",
       "      <th>1</th>\n",
       "      <td></td>\n",
       "      <td>2</td>\n",
       "      <td>200</td>\n",
       "      <td>Rectifier</td>\n",
       "      <td>0</td>\n",
       "      <td>0</td>\n",
       "      <td>0</td>\n",
       "      <td>0.157668</td>\n",
       "      <td>0.347348</td>\n",
       "      <td>0</td>\n",
       "      <td>-0.000433101</td>\n",
       "      <td>0.0336049</td>\n",
       "      <td>-0.0449793</td>\n",
       "      <td>0.101184</td>\n",
       "    </tr>\n",
       "    <tr>\n",
       "      <th>2</th>\n",
       "      <td></td>\n",
       "      <td>3</td>\n",
       "      <td>200</td>\n",
       "      <td>Rectifier</td>\n",
       "      <td>0</td>\n",
       "      <td>0</td>\n",
       "      <td>0</td>\n",
       "      <td>0.172989</td>\n",
       "      <td>0.249995</td>\n",
       "      <td>0</td>\n",
       "      <td>-0.014523</td>\n",
       "      <td>0.0751984</td>\n",
       "      <td>0.692984</td>\n",
       "      <td>0.251289</td>\n",
       "    </tr>\n",
       "    <tr>\n",
       "      <th>3</th>\n",
       "      <td></td>\n",
       "      <td>4</td>\n",
       "      <td>1</td>\n",
       "      <td>Linear</td>\n",
       "      <td></td>\n",
       "      <td>0</td>\n",
       "      <td>0</td>\n",
       "      <td>0.00128157</td>\n",
       "      <td>0.00151266</td>\n",
       "      <td>0</td>\n",
       "      <td>0.00169916</td>\n",
       "      <td>0.0785315</td>\n",
       "      <td>-0.00113646</td>\n",
       "      <td>1.09713e-154</td>\n",
       "    </tr>\n",
       "  </tbody>\n",
       "</table>\n",
       "</div>"
      ],
      "text/plain": [
       "     layer  units       type dropout l1 l2   mean_rate    rate_rms momentum  \\\n",
       "0        1   1663      Input       0                                          \n",
       "1        2    200  Rectifier       0  0  0    0.157668    0.347348        0   \n",
       "2        3    200  Rectifier       0  0  0    0.172989    0.249995        0   \n",
       "3        4      1     Linear          0  0  0.00128157  0.00151266        0   \n",
       "\n",
       "   mean_weight weight_rms   mean_bias      bias_rms  \n",
       "0                                                    \n",
       "1 -0.000433101  0.0336049  -0.0449793      0.101184  \n",
       "2    -0.014523  0.0751984    0.692984      0.251289  \n",
       "3   0.00169916  0.0785315 -0.00113646  1.09713e-154  "
      ]
     },
     "metadata": {},
     "output_type": "display_data"
    },
    {
     "data": {
      "text/plain": []
     },
     "execution_count": 10,
     "metadata": {},
     "output_type": "execute_result"
    }
   ],
   "source": [
    "estimator.summary()"
   ]
  },
  {
   "cell_type": "code",
   "execution_count": 11,
   "metadata": {},
   "outputs": [
    {
     "data": {
      "image/png": "[encoded data removed]",
      "text/plain": [
       "<Figure size 432x288 with 1 Axes>"
      ]
     },
     "metadata": {
      "needs_background": "light"
     },
     "output_type": "display_data"
    }
   ],
   "source": [
    "# plot training lostt for model\n",
    "estimator.plot()"
   ]
  },
  {
   "cell_type": "code",
   "execution_count": 12,
   "metadata": {},
   "outputs": [
    {
     "name": "stdout",
     "output_type": "stream",
     "text": [
      "\n",
      "ModelMetricsRegression: deeplearning\n",
      "** Reported on test data. **\n",
      "\n",
      "MSE: 0.20582828874635425\n",
      "RMSE: 0.4536830267338136\n",
      "MAE: 0.36619192224051245\n",
      "RMSLE: 0.11429422201928713\n",
      "Mean Residual Deviance: 0.20582828874635425\n"
     ]
    },
    {
     "data": {
      "text/plain": []
     },
     "execution_count": 12,
     "metadata": {},
     "output_type": "execute_result"
    }
   ],
   "source": [
    "# get model performance on test data\n",
    "baseline_model_performance = estimator.model_performance(test)\n",
    "baseline_model_performance"
   ]
  },
  {
   "cell_type": "code",
   "execution_count": 13,
   "metadata": {},
   "outputs": [
    {
     "name": "stdout",
     "output_type": "stream",
     "text": [
      "\n",
      "Status of Neuron Layers: predicting Rating, regression, gaussian distribution, Quadratic loss, 373,201 weights/biases, 4.3 MB, 14,300 training samples, mini-batch size 1\n"
     ]
    },
    {
     "data": {
      "text/html": [
       "<div>\n",
       "<style scoped>\n",
       "    .dataframe tbody tr th:only-of-type {\n",
       "        vertical-align: middle;\n",
       "    }\n",
       "\n",
       "    .dataframe tbody tr th {\n",
       "        vertical-align: top;\n",
       "    }\n",
       "\n",
       "    .dataframe thead th {\n",
       "        text-align: right;\n",
       "    }\n",
       "</style>\n",
       "<table border=\"1\" class=\"dataframe\">\n",
       "  <thead>\n",
       "    <tr style=\"text-align: right;\">\n",
       "      <th></th>\n",
       "      <th></th>\n",
       "      <th>layer</th>\n",
       "      <th>units</th>\n",
       "      <th>type</th>\n",
       "      <th>dropout</th>\n",
       "      <th>l1</th>\n",
       "      <th>l2</th>\n",
       "      <th>mean_rate</th>\n",
       "      <th>rate_rms</th>\n",
       "      <th>momentum</th>\n",
       "      <th>mean_weight</th>\n",
       "      <th>weight_rms</th>\n",
       "      <th>mean_bias</th>\n",
       "      <th>bias_rms</th>\n",
       "    </tr>\n",
       "  </thead>\n",
       "  <tbody>\n",
       "    <tr>\n",
       "      <th>0</th>\n",
       "      <td></td>\n",
       "      <td>1</td>\n",
       "      <td>1663</td>\n",
       "      <td>Input</td>\n",
       "      <td>0</td>\n",
       "      <td></td>\n",
       "      <td></td>\n",
       "      <td></td>\n",
       "      <td></td>\n",
       "      <td></td>\n",
       "      <td></td>\n",
       "      <td></td>\n",
       "      <td></td>\n",
       "      <td></td>\n",
       "    </tr>\n",
       "    <tr>\n",
       "      <th>1</th>\n",
       "      <td></td>\n",
       "      <td>2</td>\n",
       "      <td>200</td>\n",
       "      <td>Rectifier</td>\n",
       "      <td>0</td>\n",
       "      <td>0</td>\n",
       "      <td>0</td>\n",
       "      <td>0.157668</td>\n",
       "      <td>0.347348</td>\n",
       "      <td>0</td>\n",
       "      <td>-0.000433101</td>\n",
       "      <td>0.0336049</td>\n",
       "      <td>-0.0449793</td>\n",
       "      <td>0.101184</td>\n",
       "    </tr>\n",
       "    <tr>\n",
       "      <th>2</th>\n",
       "      <td></td>\n",
       "      <td>3</td>\n",
       "      <td>200</td>\n",
       "      <td>Rectifier</td>\n",
       "      <td>0</td>\n",
       "      <td>0</td>\n",
       "      <td>0</td>\n",
       "      <td>0.172989</td>\n",
       "      <td>0.249995</td>\n",
       "      <td>0</td>\n",
       "      <td>-0.014523</td>\n",
       "      <td>0.0751984</td>\n",
       "      <td>0.692984</td>\n",
       "      <td>0.251289</td>\n",
       "    </tr>\n",
       "    <tr>\n",
       "      <th>3</th>\n",
       "      <td></td>\n",
       "      <td>4</td>\n",
       "      <td>1</td>\n",
       "      <td>Linear</td>\n",
       "      <td></td>\n",
       "      <td>0</td>\n",
       "      <td>0</td>\n",
       "      <td>0.00128157</td>\n",
       "      <td>0.00151266</td>\n",
       "      <td>0</td>\n",
       "      <td>0.00169916</td>\n",
       "      <td>0.0785315</td>\n",
       "      <td>-0.00113646</td>\n",
       "      <td>1.09713e-154</td>\n",
       "    </tr>\n",
       "  </tbody>\n",
       "</table>\n",
       "</div>"
      ],
      "text/plain": [
       "     layer  units       type dropout l1 l2   mean_rate    rate_rms momentum  \\\n",
       "0        1   1663      Input       0                                          \n",
       "1        2    200  Rectifier       0  0  0    0.157668    0.347348        0   \n",
       "2        3    200  Rectifier       0  0  0    0.172989    0.249995        0   \n",
       "3        4      1     Linear          0  0  0.00128157  0.00151266        0   \n",
       "\n",
       "   mean_weight weight_rms   mean_bias      bias_rms  \n",
       "0                                                    \n",
       "1 -0.000433101  0.0336049  -0.0449793      0.101184  \n",
       "2    -0.014523  0.0751984    0.692984      0.251289  \n",
       "3   0.00169916  0.0785315 -0.00113646  1.09713e-154  "
      ]
     },
     "metadata": {},
     "output_type": "display_data"
    },
    {
     "data": {
      "text/plain": []
     },
     "execution_count": 13,
     "metadata": {},
     "output_type": "execute_result"
    }
   ],
   "source": [
    "# print summary of model\n",
    "estimator.summary()"
   ]
  },
  {
   "cell_type": "markdown",
   "metadata": {},
   "source": [
    "## Model 2 -> Improved Model\n",
    "\n",
    " - Ratings seem to be normally distributed so need to specify a different 'distribution'\n",
    " - Increase hidden layers to 3\n",
    " - Increase number of neurons in each layer from default value\n",
    " - Increase epochs to `5,\n",
    " - Change stopping metric to 'mae'\n",
    " - Added drop out to hidden layers\n",
    " - Change activation to 'ReluDropOut'\n",
    " - Reduce stopping rounds to 3 (for early stopping)"
   ]
  },
  {
   "cell_type": "code",
   "execution_count": 14,
   "metadata": {},
   "outputs": [
    {
     "name": "stdout",
     "output_type": "stream",
     "text": [
      "deeplearning Model Build progress: |██████████████████████████████████████| 100%\n",
      "Wall time: 5.69 s\n"
     ]
    }
   ],
   "source": [
    "estimator_tuned = H2ODeepLearningEstimator(variable_importances=True, #variable_importance gives feature importance (explainability)\n",
    "                                    hidden=[100,100],\n",
    "                                    stopping_rounds=5,                                           \n",
    "                                    stopping_tolerance=0,\n",
    "                                    stopping_metric='deviance',\n",
    "                                    model_id ='tuned_ratings_model',\n",
    "                                    #activation='rectifier',\n",
    "                                    seed=seed) \n",
    "%time estimator_tuned.train(xAll,y,train, validation_frame=valid)"
   ]
  },
  {
   "cell_type": "code",
   "execution_count": 15,
   "metadata": {},
   "outputs": [
    {
     "name": "stdout",
     "output_type": "stream",
     "text": [
      "\n",
      "ModelMetricsRegression: deeplearning\n",
      "** Reported on test data. **\n",
      "\n",
      "MSE: 0.18835170044085103\n",
      "RMSE: 0.4339950465625743\n",
      "MAE: 0.34618582025496997\n",
      "RMSLE: 0.111439789101217\n",
      "Mean Residual Deviance: 0.18835170044085103\n"
     ]
    },
    {
     "data": {
      "text/plain": []
     },
     "execution_count": 15,
     "metadata": {},
     "output_type": "execute_result"
    }
   ],
   "source": [
    "# get model performance on test data\n",
    "tuned_model_performance = estimator_tuned.model_performance(test)\n",
    "tuned_model_performance"
   ]
  },
  {
   "cell_type": "code",
   "execution_count": 16,
   "metadata": {},
   "outputs": [
    {
     "data": {
      "image/png": "[encoded data removed]",
      "text/plain": [
       "<Figure size 432x288 with 1 Axes>"
      ]
     },
     "metadata": {
      "needs_background": "light"
     },
     "output_type": "display_data"
    }
   ],
   "source": [
    "# plot training loss plot\n",
    "estimator_tuned.plot()"
   ]
  },
  {
   "cell_type": "code",
   "execution_count": 17,
   "metadata": {},
   "outputs": [
    {
     "name": "stdout",
     "output_type": "stream",
     "text": [
      "\n",
      "Status of Neuron Layers: predicting Rating, regression, gaussian distribution, Quadratic loss, 176,601 weights/biases, 2.1 MB, 14,300 training samples, mini-batch size 1\n"
     ]
    },
    {
     "data": {
      "text/html": [
       "<div>\n",
       "<style scoped>\n",
       "    .dataframe tbody tr th:only-of-type {\n",
       "        vertical-align: middle;\n",
       "    }\n",
       "\n",
       "    .dataframe tbody tr th {\n",
       "        vertical-align: top;\n",
       "    }\n",
       "\n",
       "    .dataframe thead th {\n",
       "        text-align: right;\n",
       "    }\n",
       "</style>\n",
       "<table border=\"1\" class=\"dataframe\">\n",
       "  <thead>\n",
       "    <tr style=\"text-align: right;\">\n",
       "      <th></th>\n",
       "      <th></th>\n",
       "      <th>layer</th>\n",
       "      <th>units</th>\n",
       "      <th>type</th>\n",
       "      <th>dropout</th>\n",
       "      <th>l1</th>\n",
       "      <th>l2</th>\n",
       "      <th>mean_rate</th>\n",
       "      <th>rate_rms</th>\n",
       "      <th>momentum</th>\n",
       "      <th>mean_weight</th>\n",
       "      <th>weight_rms</th>\n",
       "      <th>mean_bias</th>\n",
       "      <th>bias_rms</th>\n",
       "    </tr>\n",
       "  </thead>\n",
       "  <tbody>\n",
       "    <tr>\n",
       "      <th>0</th>\n",
       "      <td></td>\n",
       "      <td>1</td>\n",
       "      <td>1663</td>\n",
       "      <td>Input</td>\n",
       "      <td>0</td>\n",
       "      <td></td>\n",
       "      <td></td>\n",
       "      <td></td>\n",
       "      <td></td>\n",
       "      <td></td>\n",
       "      <td></td>\n",
       "      <td></td>\n",
       "      <td></td>\n",
       "      <td></td>\n",
       "    </tr>\n",
       "    <tr>\n",
       "      <th>1</th>\n",
       "      <td></td>\n",
       "      <td>2</td>\n",
       "      <td>100</td>\n",
       "      <td>Rectifier</td>\n",
       "      <td>0</td>\n",
       "      <td>0</td>\n",
       "      <td>0</td>\n",
       "      <td>0.169406</td>\n",
       "      <td>0.369764</td>\n",
       "      <td>0</td>\n",
       "      <td>-0.000517221</td>\n",
       "      <td>0.0352393</td>\n",
       "      <td>-0.0799606</td>\n",
       "      <td>0.198764</td>\n",
       "    </tr>\n",
       "    <tr>\n",
       "      <th>2</th>\n",
       "      <td></td>\n",
       "      <td>3</td>\n",
       "      <td>100</td>\n",
       "      <td>Rectifier</td>\n",
       "      <td>0</td>\n",
       "      <td>0</td>\n",
       "      <td>0</td>\n",
       "      <td>0.0969007</td>\n",
       "      <td>0.187069</td>\n",
       "      <td>0</td>\n",
       "      <td>-0.0156589</td>\n",
       "      <td>0.105714</td>\n",
       "      <td>0.777595</td>\n",
       "      <td>0.227704</td>\n",
       "    </tr>\n",
       "    <tr>\n",
       "      <th>3</th>\n",
       "      <td></td>\n",
       "      <td>4</td>\n",
       "      <td>1</td>\n",
       "      <td>Linear</td>\n",
       "      <td></td>\n",
       "      <td>0</td>\n",
       "      <td>0</td>\n",
       "      <td>0.00107543</td>\n",
       "      <td>0.00159646</td>\n",
       "      <td>0</td>\n",
       "      <td>0.00673142</td>\n",
       "      <td>0.120329</td>\n",
       "      <td>-0.00397949</td>\n",
       "      <td>1.09713e-154</td>\n",
       "    </tr>\n",
       "  </tbody>\n",
       "</table>\n",
       "</div>"
      ],
      "text/plain": [
       "     layer  units       type dropout l1 l2   mean_rate    rate_rms momentum  \\\n",
       "0        1   1663      Input       0                                          \n",
       "1        2    100  Rectifier       0  0  0    0.169406    0.369764        0   \n",
       "2        3    100  Rectifier       0  0  0   0.0969007    0.187069        0   \n",
       "3        4      1     Linear          0  0  0.00107543  0.00159646        0   \n",
       "\n",
       "   mean_weight weight_rms   mean_bias      bias_rms  \n",
       "0                                                    \n",
       "1 -0.000517221  0.0352393  -0.0799606      0.198764  \n",
       "2   -0.0156589   0.105714    0.777595      0.227704  \n",
       "3   0.00673142   0.120329 -0.00397949  1.09713e-154  "
      ]
     },
     "metadata": {},
     "output_type": "display_data"
    },
    {
     "data": {
      "text/plain": []
     },
     "execution_count": 17,
     "metadata": {},
     "output_type": "execute_result"
    }
   ],
   "source": [
    "estimator_tuned.summary()"
   ]
  },
  {
   "cell_type": "markdown",
   "metadata": {},
   "source": [
    "## Comparision of Results"
   ]
  },
  {
   "cell_type": "code",
   "execution_count": 18,
   "metadata": {},
   "outputs": [
    {
     "data": {
      "text/html": [
       "<div>\n",
       "<style scoped>\n",
       "    .dataframe tbody tr th:only-of-type {\n",
       "        vertical-align: middle;\n",
       "    }\n",
       "\n",
       "    .dataframe tbody tr th {\n",
       "        vertical-align: top;\n",
       "    }\n",
       "\n",
       "    .dataframe thead th {\n",
       "        text-align: right;\n",
       "    }\n",
       "</style>\n",
       "<table border=\"1\" class=\"dataframe\">\n",
       "  <thead>\n",
       "    <tr style=\"text-align: right;\">\n",
       "      <th></th>\n",
       "      <th>Models</th>\n",
       "      <th>MAE</th>\n",
       "      <th>MSE</th>\n",
       "      <th>RMSE</th>\n",
       "    </tr>\n",
       "  </thead>\n",
       "  <tbody>\n",
       "    <tr>\n",
       "      <th>0</th>\n",
       "      <td>Baseline</td>\n",
       "      <td>0.366192</td>\n",
       "      <td>0.205828</td>\n",
       "      <td>0.453683</td>\n",
       "    </tr>\n",
       "    <tr>\n",
       "      <th>1</th>\n",
       "      <td>Tuned</td>\n",
       "      <td>0.346186</td>\n",
       "      <td>0.188352</td>\n",
       "      <td>0.433995</td>\n",
       "    </tr>\n",
       "  </tbody>\n",
       "</table>\n",
       "</div>"
      ],
      "text/plain": [
       "     Models       MAE       MSE      RMSE\n",
       "0  Baseline  0.366192  0.205828  0.453683\n",
       "1     Tuned  0.346186  0.188352  0.433995"
      ]
     },
     "execution_count": 18,
     "metadata": {},
     "output_type": "execute_result"
    }
   ],
   "source": [
    "import pandas as pd\n",
    "\n",
    "maes = []\n",
    "mses = []\n",
    "rmses = []\n",
    "models = ['Baseline','Tuned']\n",
    "\n",
    "maes.append(baseline_model_performance.mae())\n",
    "maes.append(tuned_model_performance.mae())\n",
    "\n",
    "mses.append(baseline_model_performance.mse())\n",
    "mses.append(tuned_model_performance.mse())\n",
    "\n",
    "rmses.append(baseline_model_performance.rmse())\n",
    "rmses.append(tuned_model_performance.rmse())\n",
    "\n",
    "results_df = pd.DataFrame(data=list(zip(models, maes, mses, rmses)), columns=['Models','MAE','MSE','RMSE'])\n",
    "results_df.head(10)"
   ]
  },
  {
   "cell_type": "markdown",
   "metadata": {},
   "source": [
    "## Save Models"
   ]
  },
  {
   "cell_type": "code",
   "execution_count": 20,
   "metadata": {},
   "outputs": [
    {
     "data": {
      "text/plain": [
       "'C:\\\\MachineLearning\\\\repos\\\\personel\\\\h2o\\\\coursera_models\\\\tuned_ratings_model'"
      ]
     },
     "execution_count": 20,
     "metadata": {},
     "output_type": "execute_result"
    }
   ],
   "source": [
    "h2o.save_model(model=estimator, path=\"coursera_models\", force=True)\n",
    "h2o.save_model(model=estimator_tuned, path=\"coursera_models\", force=True)"
   ]
  },
  {
   "cell_type": "code",
   "execution_count": null,
   "metadata": {},
   "outputs": [],
   "source": []
  }
 ],
 "metadata": {
  "kernelspec": {
   "display_name": "Python 3",
   "language": "python",
   "name": "python3"
  },
  "language_info": {
   "codemirror_mode": {
    "name": "ipython",
    "version": 3
   },
   "file_extension": ".py",
   "mimetype": "text/x-python",
   "name": "python",
   "nbconvert_exporter": "python",
   "pygments_lexer": "ipython3",
   "version": "3.7.6"
  }
 },
 "nbformat": 4,
 "nbformat_minor": 4
}
