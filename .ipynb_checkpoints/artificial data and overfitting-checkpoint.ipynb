{
 "cells": [
  {
   "cell_type": "code",
   "execution_count": 1,
   "metadata": {},
   "outputs": [],
   "source": [
    "import pandas as pd\n",
    "import numpy as np\n",
    "import h2o"
   ]
  },
  {
   "cell_type": "markdown",
   "metadata": {},
   "source": [
    "# Step 1 - Create an artifical data set\n",
    "\n",
    "- N number of people\n",
    "- Id -> sequential numbered value from 1 to N\n",
    "- Age -> Random value from 18 to 62\n",
    "- EatingHabit -> Random value from 1 to 10\n",
    "- ActiveLifeStyle -> Randome value from 1 to 10\n",
    "- Salary -> (Dependent variable) -> 18000 + Age*2 + EatingHabit * 5000 - ActiveLifeStyle * 4000 + Random (2000,5000)"
   ]
  },
  {
   "cell_type": "code",
   "execution_count": 2,
   "metadata": {},
   "outputs": [],
   "source": [
    "import random\n",
    "\n",
    "N = 1000\n",
    "id = list(range(1,N))\n",
    "age = [random.randint(18,62) for x in range(N)]\n",
    "eatingHabit = [random.randint(1,10) for x in range(N)]\n",
    "lifestyle = [random.randint(1,10) for x in range(N)]\n",
    "salary = list()\n",
    "\n",
    "for i in range(N):\n",
    "    salary.append(age[i]*2 + eatingHabit[i]*5000 + random.randint(2000,5000) - lifestyle[i]*400 + 18000)"
   ]
  },
  {
   "cell_type": "code",
   "execution_count": 3,
   "metadata": {},
   "outputs": [],
   "source": [
    "person_df = pd.DataFrame(data=list(zip(id, age, eatingHabit, lifestyle, salary)), columns=['id','age','eatinghabit','lifestyle','salary'])"
   ]
  },
  {
   "cell_type": "markdown",
   "metadata": {},
   "source": [
    "# Step 2 - Initialize H2o and convert pandas dataframe to H2o frame"
   ]
  },
  {
   "cell_type": "code",
   "execution_count": 4,
   "metadata": {},
   "outputs": [
    {
     "name": "stdout",
     "output_type": "stream",
     "text": [
      "Checking whether there is an H2O instance running at http://localhost:54321 . connected.\n"
     ]
    },
    {
     "data": {
      "text/html": [
       "<div style=\"overflow:auto\"><table style=\"width:50%\"><tr><td>H2O_cluster_uptime:</td>\n",
       "<td>37 mins 41 secs</td></tr>\n",
       "<tr><td>H2O_cluster_timezone:</td>\n",
       "<td>Asia/Kolkata</td></tr>\n",
       "<tr><td>H2O_data_parsing_timezone:</td>\n",
       "<td>UTC</td></tr>\n",
       "<tr><td>H2O_cluster_version:</td>\n",
       "<td>3.30.0.1</td></tr>\n",
       "<tr><td>H2O_cluster_version_age:</td>\n",
       "<td>20 days </td></tr>\n",
       "<tr><td>H2O_cluster_name:</td>\n",
       "<td>H2O_from_python_Aditya_Jain_qlgbo4</td></tr>\n",
       "<tr><td>H2O_cluster_total_nodes:</td>\n",
       "<td>1</td></tr>\n",
       "<tr><td>H2O_cluster_free_memory:</td>\n",
       "<td>70.6 Mb</td></tr>\n",
       "<tr><td>H2O_cluster_total_cores:</td>\n",
       "<td>4</td></tr>\n",
       "<tr><td>H2O_cluster_allowed_cores:</td>\n",
       "<td>4</td></tr>\n",
       "<tr><td>H2O_cluster_status:</td>\n",
       "<td>locked, healthy</td></tr>\n",
       "<tr><td>H2O_connection_url:</td>\n",
       "<td>http://localhost:54321</td></tr>\n",
       "<tr><td>H2O_connection_proxy:</td>\n",
       "<td>{\"http\": null, \"https\": null}</td></tr>\n",
       "<tr><td>H2O_internal_security:</td>\n",
       "<td>False</td></tr>\n",
       "<tr><td>H2O_API_Extensions:</td>\n",
       "<td>Amazon S3, Algos, AutoML, Core V3, TargetEncoder, Core V4</td></tr>\n",
       "<tr><td>Python_version:</td>\n",
       "<td>3.7.6 final</td></tr></table></div>"
      ],
      "text/plain": [
       "--------------------------  ---------------------------------------------------------\n",
       "H2O_cluster_uptime:         37 mins 41 secs\n",
       "H2O_cluster_timezone:       Asia/Kolkata\n",
       "H2O_data_parsing_timezone:  UTC\n",
       "H2O_cluster_version:        3.30.0.1\n",
       "H2O_cluster_version_age:    20 days\n",
       "H2O_cluster_name:           H2O_from_python_Aditya_Jain_qlgbo4\n",
       "H2O_cluster_total_nodes:    1\n",
       "H2O_cluster_free_memory:    70.6 Mb\n",
       "H2O_cluster_total_cores:    4\n",
       "H2O_cluster_allowed_cores:  4\n",
       "H2O_cluster_status:         locked, healthy\n",
       "H2O_connection_url:         http://localhost:54321\n",
       "H2O_connection_proxy:       {\"http\": null, \"https\": null}\n",
       "H2O_internal_security:      False\n",
       "H2O_API_Extensions:         Amazon S3, Algos, AutoML, Core V3, TargetEncoder, Core V4\n",
       "Python_version:             3.7.6 final\n",
       "--------------------------  ---------------------------------------------------------"
      ]
     },
     "metadata": {},
     "output_type": "display_data"
    }
   ],
   "source": [
    "#initialize h2o\n",
    "h2o.init()"
   ]
  },
  {
   "cell_type": "code",
   "execution_count": 5,
   "metadata": {},
   "outputs": [
    {
     "name": "stdout",
     "output_type": "stream",
     "text": [
      "Parse progress: |█████████████████████████████████████████████████████████| 100%\n"
     ]
    }
   ],
   "source": [
    "#convert pandas dataframe to h2o frame\n",
    "person_h2o = h2o.H2OFrame(person_df, destination_frame='person')"
   ]
  },
  {
   "cell_type": "code",
   "execution_count": 6,
   "metadata": {},
   "outputs": [
    {
     "data": {
      "text/html": [
       "<table>\n",
       "<thead>\n",
       "<tr><th>       </th><th>id               </th><th>age               </th><th>eatinghabit      </th><th>lifestyle         </th><th>salary            </th></tr>\n",
       "</thead>\n",
       "<tbody>\n",
       "<tr><td>type   </td><td>int              </td><td>int               </td><td>int              </td><td>int               </td><td>int               </td></tr>\n",
       "<tr><td>mins   </td><td>1.0              </td><td>18.0              </td><td>1.0              </td><td>1.0               </td><td>21237.0           </td></tr>\n",
       "<tr><td>mean   </td><td>500.0            </td><td>40.218218218218205</td><td>5.450450450450448</td><td>5.395395395395391 </td><td>46674.68268268267 </td></tr>\n",
       "<tr><td>maxs   </td><td>999.0            </td><td>62.0              </td><td>10.0             </td><td>10.0              </td><td>72308.0           </td></tr>\n",
       "<tr><td>sigma  </td><td>288.5307609250702</td><td>12.75043432905671 </td><td>2.853696631779517</td><td>2.8805231549340227</td><td>14282.151655553676</td></tr>\n",
       "<tr><td>zeros  </td><td>0                </td><td>0                 </td><td>0                </td><td>0                 </td><td>0                 </td></tr>\n",
       "<tr><td>missing</td><td>0                </td><td>0                 </td><td>0                </td><td>0                 </td><td>0                 </td></tr>\n",
       "<tr><td>0      </td><td>1.0              </td><td>55.0              </td><td>9.0              </td><td>8.0               </td><td>64396.0           </td></tr>\n",
       "<tr><td>1      </td><td>2.0              </td><td>35.0              </td><td>9.0              </td><td>7.0               </td><td>63996.0           </td></tr>\n",
       "<tr><td>2      </td><td>3.0              </td><td>34.0              </td><td>3.0              </td><td>7.0               </td><td>32854.0           </td></tr>\n",
       "<tr><td>3      </td><td>4.0              </td><td>20.0              </td><td>8.0              </td><td>9.0               </td><td>57637.0           </td></tr>\n",
       "<tr><td>4      </td><td>5.0              </td><td>21.0              </td><td>8.0              </td><td>6.0               </td><td>59971.0           </td></tr>\n",
       "<tr><td>5      </td><td>6.0              </td><td>27.0              </td><td>5.0              </td><td>9.0               </td><td>42194.0           </td></tr>\n",
       "<tr><td>6      </td><td>7.0              </td><td>49.0              </td><td>8.0              </td><td>8.0               </td><td>58750.0           </td></tr>\n",
       "<tr><td>7      </td><td>8.0              </td><td>26.0              </td><td>3.0              </td><td>3.0               </td><td>35631.0           </td></tr>\n",
       "<tr><td>8      </td><td>9.0              </td><td>21.0              </td><td>7.0              </td><td>3.0               </td><td>56403.0           </td></tr>\n",
       "<tr><td>9      </td><td>10.0             </td><td>44.0              </td><td>9.0              </td><td>6.0               </td><td>65255.0           </td></tr>\n",
       "</tbody>\n",
       "</table>"
      ]
     },
     "metadata": {},
     "output_type": "display_data"
    }
   ],
   "source": [
    "# load the frame from h2o & print summary\n",
    "loaded_person_frame = h2o.get_frame('person')\n",
    "loaded_person_frame.summary()"
   ]
  },
  {
   "cell_type": "markdown",
   "metadata": {},
   "source": [
    "# Step 3 - Split the data (Will use CV)"
   ]
  },
  {
   "cell_type": "code",
   "execution_count": 7,
   "metadata": {},
   "outputs": [],
   "source": [
    "train, test = loaded_person_frame.split_frame([0.8], destination_frames=['train_person','test_person'])"
   ]
  },
  {
   "cell_type": "markdown",
   "metadata": {},
   "source": [
    "# Step 4 - Use GBM for Predicting Salary"
   ]
  },
  {
   "cell_type": "code",
   "execution_count": 8,
   "metadata": {},
   "outputs": [
    {
     "name": "stdout",
     "output_type": "stream",
     "text": [
      "gbm Model Build progress: |███████████████████████████████████████████████| 100%\n"
     ]
    }
   ],
   "source": [
    "from h2o.estimators.gbm import H2OGradientBoostingEstimator\n",
    "\n",
    "estimator = H2OGradientBoostingEstimator(nfolds=10,\n",
    "                                         model_id='gbm_person_default')\n",
    "estimator.train(['id', 'age', 'eatinghabit', 'lifestyle'],'salary',train)"
   ]
  },
  {
   "cell_type": "code",
   "execution_count": 9,
   "metadata": {},
   "outputs": [
    {
     "name": "stdout",
     "output_type": "stream",
     "text": [
      "\n",
      "ModelMetricsRegression: gbm\n",
      "** Reported on test data. **\n",
      "\n",
      "MSE: 1006857.4155771006\n",
      "RMSE: 1003.4228498380434\n",
      "MAE: 849.4201739215891\n",
      "RMSLE: 0.024655035941179293\n",
      "Mean Residual Deviance: 1006857.4155771006\n",
      "\n"
     ]
    }
   ],
   "source": [
    "perf = estimator.model_performance(test)\n",
    "print (perf)"
   ]
  },
  {
   "cell_type": "markdown",
   "metadata": {},
   "source": [
    "# Step 5 - Use Overfit GBM model for Predicting Salary"
   ]
  },
  {
   "cell_type": "code",
   "execution_count": 10,
   "metadata": {},
   "outputs": [
    {
     "name": "stdout",
     "output_type": "stream",
     "text": [
      "gbm Model Build progress: |███████████████████████████████████████████████| 100%\n"
     ]
    }
   ],
   "source": [
    "estimator = H2OGradientBoostingEstimator(nfolds=10,\n",
    "                                        max_depth=50,                                        \n",
    "                                        ntrees=500,\n",
    "                                        model_id='gbm_person_overfit')\n",
    "estimator.train(['id', 'age', 'eatinghabit', 'lifestyle'],'salary',train)"
   ]
  },
  {
   "cell_type": "code",
   "execution_count": 11,
   "metadata": {},
   "outputs": [
    {
     "name": "stdout",
     "output_type": "stream",
     "text": [
      "\n",
      "ModelMetricsRegression: gbm\n",
      "** Reported on test data. **\n",
      "\n",
      "MSE: 1255011.212006979\n",
      "RMSE: 1120.2728292728423\n",
      "MAE: 921.3793470591897\n",
      "RMSLE: 0.027817013333067644\n",
      "Mean Residual Deviance: 1255011.212006979\n",
      "\n"
     ]
    }
   ],
   "source": [
    "perf = estimator.model_performance(test)\n",
    "print (perf)"
   ]
  },
  {
   "cell_type": "markdown",
   "metadata": {},
   "source": [
    "# Step 6 - Use EarlyStopping & Overfit GBM model for Predicting Salary"
   ]
  },
  {
   "cell_type": "code",
   "execution_count": 15,
   "metadata": {},
   "outputs": [
    {
     "name": "stdout",
     "output_type": "stream",
     "text": [
      "gbm Model Build progress: |███████████████████████████████████████████████| 100%\n"
     ]
    }
   ],
   "source": [
    "estimator = H2OGradientBoostingEstimator(nfolds=10,\n",
    "                                        max_depth=50, \n",
    "                                        stopping_rounds=4,\n",
    "                                        stopping_tolerance=0.01, #This ranges from 0 (0%) to 1 (100%)\n",
    "                                        ntrees=500,\n",
    "                                        model_id='gbm_person_overfit')\n",
    "estimator.train(['id', 'age', 'eatinghabit', 'lifestyle'],'salary',train)"
   ]
  },
  {
   "cell_type": "code",
   "execution_count": 14,
   "metadata": {},
   "outputs": [
    {
     "name": "stdout",
     "output_type": "stream",
     "text": [
      "\n",
      "ModelMetricsRegression: gbm\n",
      "** Reported on test data. **\n",
      "\n",
      "MSE: 1064843.4890047882\n",
      "RMSE: 1031.9125394163927\n",
      "MAE: 864.1257358686198\n",
      "RMSLE: 0.02511375833826869\n",
      "Mean Residual Deviance: 1064843.4890047882\n",
      "\n"
     ]
    }
   ],
   "source": [
    "perf = estimator.model_performance(test)\n",
    "print (perf)"
   ]
  },
  {
   "cell_type": "markdown",
   "metadata": {},
   "source": [
    "# Save Model"
   ]
  },
  {
   "cell_type": "code",
   "execution_count": 17,
   "metadata": {},
   "outputs": [
    {
     "data": {
      "text/plain": [
       "'C:\\\\MachineLearning\\\\repos\\\\personel\\\\h2o\\\\estimator_model\\\\gbm_person_overfit'"
      ]
     },
     "execution_count": 17,
     "metadata": {},
     "output_type": "execute_result"
    }
   ],
   "source": [
    "h2o.save_model(estimator, 'estimator_model')"
   ]
  },
  {
   "cell_type": "code",
   "execution_count": 19,
   "metadata": {},
   "outputs": [],
   "source": [
    "m = h2o.load_model('estimator_model/gbm_person_overfit')"
   ]
  },
  {
   "cell_type": "code",
   "execution_count": null,
   "metadata": {},
   "outputs": [],
   "source": []
  }
 ],
 "metadata": {
  "kernelspec": {
   "display_name": "Python 3",
   "language": "python",
   "name": "python3"
  },
  "language_info": {
   "codemirror_mode": {
    "name": "ipython",
    "version": 3
   },
   "file_extension": ".py",
   "mimetype": "text/x-python",
   "name": "python",
   "nbconvert_exporter": "python",
   "pygments_lexer": "ipython3",
   "version": "3.7.6"
  }
 },
 "nbformat": 4,
 "nbformat_minor": 4
}
