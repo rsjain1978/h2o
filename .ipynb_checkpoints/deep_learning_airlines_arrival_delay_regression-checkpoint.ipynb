{
 "cells": [
  {
   "cell_type": "code",
   "execution_count": null,
   "metadata": {},
   "outputs": [],
   "source": [
    "import matplotlib.pyplot as plt\n",
    "%matplotlib inline"
   ]
  },
  {
   "cell_type": "code",
   "execution_count": 5,
   "metadata": {},
   "outputs": [
    {
     "name": "stdout",
     "output_type": "stream",
     "text": [
      "Checking whether there is an H2O instance running at http://localhost:54321 . connected.\n"
     ]
    },
    {
     "data": {
      "text/html": [
       "<div style=\"overflow:auto\"><table style=\"width:50%\"><tr><td>H2O_cluster_uptime:</td>\n",
       "<td>7 hours 56 mins</td></tr>\n",
       "<tr><td>H2O_cluster_timezone:</td>\n",
       "<td>Asia/Kolkata</td></tr>\n",
       "<tr><td>H2O_data_parsing_timezone:</td>\n",
       "<td>UTC</td></tr>\n",
       "<tr><td>H2O_cluster_version:</td>\n",
       "<td>3.30.0.1</td></tr>\n",
       "<tr><td>H2O_cluster_version_age:</td>\n",
       "<td>26 days </td></tr>\n",
       "<tr><td>H2O_cluster_name:</td>\n",
       "<td>H2O_from_python_Aditya_Jain_6ll3dw</td></tr>\n",
       "<tr><td>H2O_cluster_total_nodes:</td>\n",
       "<td>1</td></tr>\n",
       "<tr><td>H2O_cluster_free_memory:</td>\n",
       "<td>78.9 Mb</td></tr>\n",
       "<tr><td>H2O_cluster_total_cores:</td>\n",
       "<td>4</td></tr>\n",
       "<tr><td>H2O_cluster_allowed_cores:</td>\n",
       "<td>4</td></tr>\n",
       "<tr><td>H2O_cluster_status:</td>\n",
       "<td>locked, healthy</td></tr>\n",
       "<tr><td>H2O_connection_url:</td>\n",
       "<td>http://localhost:54321</td></tr>\n",
       "<tr><td>H2O_connection_proxy:</td>\n",
       "<td>{\"http\": null, \"https\": null}</td></tr>\n",
       "<tr><td>H2O_internal_security:</td>\n",
       "<td>False</td></tr>\n",
       "<tr><td>H2O_API_Extensions:</td>\n",
       "<td>Amazon S3, Algos, AutoML, Core V3, TargetEncoder, Core V4</td></tr>\n",
       "<tr><td>Python_version:</td>\n",
       "<td>3.7.6 final</td></tr></table></div>"
      ],
      "text/plain": [
       "--------------------------  ---------------------------------------------------------\n",
       "H2O_cluster_uptime:         7 hours 56 mins\n",
       "H2O_cluster_timezone:       Asia/Kolkata\n",
       "H2O_data_parsing_timezone:  UTC\n",
       "H2O_cluster_version:        3.30.0.1\n",
       "H2O_cluster_version_age:    26 days\n",
       "H2O_cluster_name:           H2O_from_python_Aditya_Jain_6ll3dw\n",
       "H2O_cluster_total_nodes:    1\n",
       "H2O_cluster_free_memory:    78.9 Mb\n",
       "H2O_cluster_total_cores:    4\n",
       "H2O_cluster_allowed_cores:  4\n",
       "H2O_cluster_status:         locked, healthy\n",
       "H2O_connection_url:         http://localhost:54321\n",
       "H2O_connection_proxy:       {\"http\": null, \"https\": null}\n",
       "H2O_internal_security:      False\n",
       "H2O_API_Extensions:         Amazon S3, Algos, AutoML, Core V3, TargetEncoder, Core V4\n",
       "Python_version:             3.7.6 final\n",
       "--------------------------  ---------------------------------------------------------"
      ]
     },
     "metadata": {},
     "output_type": "display_data"
    }
   ],
   "source": [
    "import h2o\n",
    "\n",
    "h2o.init()"
   ]
  },
  {
   "cell_type": "code",
   "execution_count": 6,
   "metadata": {},
   "outputs": [
    {
     "name": "stdout",
     "output_type": "stream",
     "text": [
      "Parse progress: |█████████████████████████████████████████████████████████| 100%\n",
      "Number of rows train (35257), validation (4270) and test (4451)\n"
     ]
    }
   ],
   "source": [
    "data = h2o.import_file('allyears2k_headers.csv',\n",
    "                      destination_frame='airlines')\n",
    "\n",
    "train, valid, test = data.split_frame([0.8,0.1], seed=100)\n",
    "print ('Number of rows train (%d), validation (%d) and test (%d)'%(train.nrows, valid.nrows, test.nrows))"
   ]
  },
  {
   "cell_type": "code",
   "execution_count": 7,
   "metadata": {},
   "outputs": [
    {
     "data": {
      "text/plain": [
       "['Year',\n",
       " 'Month',\n",
       " 'DayofMonth',\n",
       " 'DayOfWeek',\n",
       " 'DepTime',\n",
       " 'CRSDepTime',\n",
       " 'ArrTime',\n",
       " 'CRSArrTime',\n",
       " 'UniqueCarrier',\n",
       " 'FlightNum',\n",
       " 'TailNum',\n",
       " 'ActualElapsedTime',\n",
       " 'CRSElapsedTime',\n",
       " 'AirTime',\n",
       " 'ArrDelay',\n",
       " 'DepDelay',\n",
       " 'Origin',\n",
       " 'Dest',\n",
       " 'Distance',\n",
       " 'TaxiIn',\n",
       " 'TaxiOut',\n",
       " 'Cancelled',\n",
       " 'CancellationCode',\n",
       " 'Diverted',\n",
       " 'CarrierDelay',\n",
       " 'WeatherDelay',\n",
       " 'NASDelay',\n",
       " 'SecurityDelay',\n",
       " 'LateAircraftDelay',\n",
       " 'IsArrDelayed',\n",
       " 'IsDepDelayed']"
      ]
     },
     "execution_count": 7,
     "metadata": {},
     "output_type": "execute_result"
    }
   ],
   "source": [
    "data.names"
   ]
  },
  {
   "cell_type": "code",
   "execution_count": 8,
   "metadata": {},
   "outputs": [
    {
     "data": {
      "text/html": [
       "<table>\n",
       "<thead>\n",
       "<tr><th>       </th><th>Year              </th><th>Month             </th><th>DayofMonth        </th><th>DayOfWeek        </th><th>DepTime           </th><th>CRSDepTime        </th><th>ArrTime           </th><th>CRSArrTime        </th><th>UniqueCarrier  </th><th>FlightNum        </th><th>TailNum  </th><th>ActualElapsedTime  </th><th>CRSElapsedTime    </th><th>AirTime          </th><th>ArrDelay          </th><th>DepDelay          </th><th>Origin  </th><th>Dest  </th><th>Distance         </th><th>TaxiIn           </th><th>TaxiOut          </th><th>Cancelled           </th><th>CancellationCode  </th><th>Diverted             </th><th>CarrierDelay      </th><th>WeatherDelay      </th><th>NASDelay          </th><th>SecurityDelay       </th><th>LateAircraftDelay  </th><th>IsArrDelayed  </th><th>IsDepDelayed  </th></tr>\n",
       "</thead>\n",
       "<tbody>\n",
       "<tr><td>type   </td><td>int               </td><td>int               </td><td>int               </td><td>int              </td><td>int               </td><td>int               </td><td>int               </td><td>int               </td><td>enum           </td><td>int              </td><td>enum     </td><td>int                </td><td>int               </td><td>int              </td><td>int               </td><td>int               </td><td>enum    </td><td>enum  </td><td>int              </td><td>int              </td><td>int              </td><td>int                 </td><td>enum              </td><td>int                  </td><td>int               </td><td>int               </td><td>int               </td><td>int                 </td><td>int                </td><td>enum          </td><td>enum          </td></tr>\n",
       "<tr><td>mins   </td><td>1987.0            </td><td>1.0               </td><td>1.0               </td><td>1.0              </td><td>1.0               </td><td>0.0               </td><td>1.0               </td><td>0.0               </td><td>               </td><td>1.0              </td><td>         </td><td>16.0               </td><td>17.0              </td><td>14.0             </td><td>-63.0             </td><td>-16.0             </td><td>        </td><td>      </td><td>11.0             </td><td>0.0              </td><td>0.0              </td><td>0.0                 </td><td>                  </td><td>0.0                  </td><td>0.0               </td><td>0.0               </td><td>0.0               </td><td>0.0                 </td><td>0.0                </td><td>              </td><td>              </td></tr>\n",
       "<tr><td>mean   </td><td>1997.5            </td><td>1.4090909090909094</td><td>14.601073263904684</td><td>3.820614852880986</td><td>1345.8466613820758</td><td>1313.2228614307157</td><td>1504.6341303788895</td><td>1485.2891673109277</td><td>               </td><td>818.8429896766567</td><td>         </td><td>124.81452913540424 </td><td>125.02156260661894</td><td>114.3161110907826</td><td>9.31711193698432  </td><td>10.007390655600114</td><td>        </td><td>      </td><td>730.1821905650504</td><td>5.381368059530624</td><td>14.16863418473206</td><td>0.024694165264450407</td><td>                  </td><td>0.0024785119832643593</td><td>4.047800291055633 </td><td>0.2893764692712415</td><td>4.855031904175528 </td><td>0.017015560282100085</td><td>7.620060450016787  </td><td>              </td><td>              </td></tr>\n",
       "<tr><td>maxs   </td><td>2008.0            </td><td>10.0              </td><td>31.0              </td><td>7.0              </td><td>2400.0            </td><td>2359.0            </td><td>2400.0            </td><td>2359.0            </td><td>               </td><td>3949.0           </td><td>         </td><td>475.0              </td><td>437.0             </td><td>402.0            </td><td>475.0             </td><td>473.0             </td><td>        </td><td>      </td><td>3365.0           </td><td>128.0            </td><td>254.0            </td><td>1.0                 </td><td>                  </td><td>1.0                  </td><td>369.0             </td><td>201.0             </td><td>323.0             </td><td>14.0                </td><td>373.0              </td><td>              </td><td>              </td></tr>\n",
       "<tr><td>sigma  </td><td>6.3443609017107025</td><td>1.8747113713439636</td><td>9.17579042586145  </td><td>1.905013119132896</td><td>465.3408991242338 </td><td>476.2511399925997 </td><td>484.347487903516  </td><td>492.7504341227009 </td><td>               </td><td>777.4043691636348</td><td>         </td><td>73.9744416605902   </td><td>73.4015946300093  </td><td>69.63632951506105</td><td>29.840221962414834</td><td>26.438809042916446</td><td>        </td><td>      </td><td>578.4380082304242</td><td>4.201979939864827</td><td>9.905085747204334</td><td>0.15519314135784237 </td><td>                  </td><td>0.049723487218862286 </td><td>16.205729904484194</td><td>4.4167798987341245</td><td>18.619776221475686</td><td>0.4039401821015118  </td><td>23.487565874106213 </td><td>              </td><td>              </td></tr>\n",
       "<tr><td>zeros  </td><td>0                 </td><td>0                 </td><td>0                 </td><td>0                </td><td>0                 </td><td>569               </td><td>0                 </td><td>569               </td><td>               </td><td>0                </td><td>         </td><td>0                  </td><td>0                 </td><td>0                </td><td>1514              </td><td>6393              </td><td>        </td><td>      </td><td>0                </td><td>623              </td><td>557              </td><td>42892               </td><td>                  </td><td>43869                </td><td>7344              </td><td>8840              </td><td>7388              </td><td>8914                </td><td>7140               </td><td>              </td><td>              </td></tr>\n",
       "<tr><td>missing</td><td>0                 </td><td>0                 </td><td>0                 </td><td>0                </td><td>1086              </td><td>0                 </td><td>1195              </td><td>0                 </td><td>0              </td><td>0                </td><td>32       </td><td>1195               </td><td>13                </td><td>16649            </td><td>1195              </td><td>1086              </td><td>0       </td><td>0     </td><td>35               </td><td>16026            </td><td>16024            </td><td>0                   </td><td>9774              </td><td>0                    </td><td>35045             </td><td>35045             </td><td>35045             </td><td>35045               </td><td>35045              </td><td>0             </td><td>0             </td></tr>\n",
       "<tr><td>0      </td><td>1987.0            </td><td>10.0              </td><td>14.0              </td><td>3.0              </td><td>741.0             </td><td>730.0             </td><td>912.0             </td><td>849.0             </td><td>PS             </td><td>1451.0           </td><td>NA       </td><td>91.0               </td><td>79.0              </td><td>nan              </td><td>23.0              </td><td>11.0              </td><td>SAN     </td><td>SFO   </td><td>447.0            </td><td>nan              </td><td>nan              </td><td>0.0                 </td><td>NA                </td><td>0.0                  </td><td>nan               </td><td>nan               </td><td>nan               </td><td>nan                 </td><td>nan                </td><td>YES           </td><td>YES           </td></tr>\n",
       "<tr><td>1      </td><td>1987.0            </td><td>10.0              </td><td>15.0              </td><td>4.0              </td><td>729.0             </td><td>730.0             </td><td>903.0             </td><td>849.0             </td><td>PS             </td><td>1451.0           </td><td>NA       </td><td>94.0               </td><td>79.0              </td><td>nan              </td><td>14.0              </td><td>-1.0              </td><td>SAN     </td><td>SFO   </td><td>447.0            </td><td>nan              </td><td>nan              </td><td>0.0                 </td><td>NA                </td><td>0.0                  </td><td>nan               </td><td>nan               </td><td>nan               </td><td>nan                 </td><td>nan                </td><td>YES           </td><td>NO            </td></tr>\n",
       "<tr><td>2      </td><td>1987.0            </td><td>10.0              </td><td>17.0              </td><td>6.0              </td><td>741.0             </td><td>730.0             </td><td>918.0             </td><td>849.0             </td><td>PS             </td><td>1451.0           </td><td>NA       </td><td>97.0               </td><td>79.0              </td><td>nan              </td><td>29.0              </td><td>11.0              </td><td>SAN     </td><td>SFO   </td><td>447.0            </td><td>nan              </td><td>nan              </td><td>0.0                 </td><td>NA                </td><td>0.0                  </td><td>nan               </td><td>nan               </td><td>nan               </td><td>nan                 </td><td>nan                </td><td>YES           </td><td>YES           </td></tr>\n",
       "<tr><td>3      </td><td>1987.0            </td><td>10.0              </td><td>18.0              </td><td>7.0              </td><td>729.0             </td><td>730.0             </td><td>847.0             </td><td>849.0             </td><td>PS             </td><td>1451.0           </td><td>NA       </td><td>78.0               </td><td>79.0              </td><td>nan              </td><td>-2.0              </td><td>-1.0              </td><td>SAN     </td><td>SFO   </td><td>447.0            </td><td>nan              </td><td>nan              </td><td>0.0                 </td><td>NA                </td><td>0.0                  </td><td>nan               </td><td>nan               </td><td>nan               </td><td>nan                 </td><td>nan                </td><td>NO            </td><td>NO            </td></tr>\n",
       "<tr><td>4      </td><td>1987.0            </td><td>10.0              </td><td>19.0              </td><td>1.0              </td><td>749.0             </td><td>730.0             </td><td>922.0             </td><td>849.0             </td><td>PS             </td><td>1451.0           </td><td>NA       </td><td>93.0               </td><td>79.0              </td><td>nan              </td><td>33.0              </td><td>19.0              </td><td>SAN     </td><td>SFO   </td><td>447.0            </td><td>nan              </td><td>nan              </td><td>0.0                 </td><td>NA                </td><td>0.0                  </td><td>nan               </td><td>nan               </td><td>nan               </td><td>nan                 </td><td>nan                </td><td>YES           </td><td>YES           </td></tr>\n",
       "<tr><td>5      </td><td>1987.0            </td><td>10.0              </td><td>21.0              </td><td>3.0              </td><td>728.0             </td><td>730.0             </td><td>848.0             </td><td>849.0             </td><td>PS             </td><td>1451.0           </td><td>NA       </td><td>80.0               </td><td>79.0              </td><td>nan              </td><td>-1.0              </td><td>-2.0              </td><td>SAN     </td><td>SFO   </td><td>447.0            </td><td>nan              </td><td>nan              </td><td>0.0                 </td><td>NA                </td><td>0.0                  </td><td>nan               </td><td>nan               </td><td>nan               </td><td>nan                 </td><td>nan                </td><td>NO            </td><td>NO            </td></tr>\n",
       "<tr><td>6      </td><td>1987.0            </td><td>10.0              </td><td>22.0              </td><td>4.0              </td><td>728.0             </td><td>730.0             </td><td>852.0             </td><td>849.0             </td><td>PS             </td><td>1451.0           </td><td>NA       </td><td>84.0               </td><td>79.0              </td><td>nan              </td><td>3.0               </td><td>-2.0              </td><td>SAN     </td><td>SFO   </td><td>447.0            </td><td>nan              </td><td>nan              </td><td>0.0                 </td><td>NA                </td><td>0.0                  </td><td>nan               </td><td>nan               </td><td>nan               </td><td>nan                 </td><td>nan                </td><td>YES           </td><td>NO            </td></tr>\n",
       "<tr><td>7      </td><td>1987.0            </td><td>10.0              </td><td>23.0              </td><td>5.0              </td><td>731.0             </td><td>730.0             </td><td>902.0             </td><td>849.0             </td><td>PS             </td><td>1451.0           </td><td>NA       </td><td>91.0               </td><td>79.0              </td><td>nan              </td><td>13.0              </td><td>1.0               </td><td>SAN     </td><td>SFO   </td><td>447.0            </td><td>nan              </td><td>nan              </td><td>0.0                 </td><td>NA                </td><td>0.0                  </td><td>nan               </td><td>nan               </td><td>nan               </td><td>nan                 </td><td>nan                </td><td>YES           </td><td>YES           </td></tr>\n",
       "<tr><td>8      </td><td>1987.0            </td><td>10.0              </td><td>24.0              </td><td>6.0              </td><td>744.0             </td><td>730.0             </td><td>908.0             </td><td>849.0             </td><td>PS             </td><td>1451.0           </td><td>NA       </td><td>84.0               </td><td>79.0              </td><td>nan              </td><td>19.0              </td><td>14.0              </td><td>SAN     </td><td>SFO   </td><td>447.0            </td><td>nan              </td><td>nan              </td><td>0.0                 </td><td>NA                </td><td>0.0                  </td><td>nan               </td><td>nan               </td><td>nan               </td><td>nan                 </td><td>nan                </td><td>YES           </td><td>YES           </td></tr>\n",
       "<tr><td>9      </td><td>1987.0            </td><td>10.0              </td><td>25.0              </td><td>7.0              </td><td>729.0             </td><td>730.0             </td><td>851.0             </td><td>849.0             </td><td>PS             </td><td>1451.0           </td><td>NA       </td><td>82.0               </td><td>79.0              </td><td>nan              </td><td>2.0               </td><td>-1.0              </td><td>SAN     </td><td>SFO   </td><td>447.0            </td><td>nan              </td><td>nan              </td><td>0.0                 </td><td>NA                </td><td>0.0                  </td><td>nan               </td><td>nan               </td><td>nan               </td><td>nan                 </td><td>nan                </td><td>YES           </td><td>NO            </td></tr>\n",
       "</tbody>\n",
       "</table>"
      ]
     },
     "metadata": {},
     "output_type": "display_data"
    }
   ],
   "source": [
    "data.summary()"
   ]
  },
  {
   "cell_type": "code",
   "execution_count": 9,
   "metadata": {},
   "outputs": [],
   "source": [
    "#what we want to predict\n",
    "y = 'ArrDelay'\n",
    "\n",
    "#fields which we may not have while doing prediction.\n",
    "ignoreFields = [\"IsArrDelay\",\n",
    "               \"TailNum\",\n",
    "               \"ArrTime\",\n",
    "               \"ActualElapsedTime\"]\n",
    "\n",
    "#all fields minus those which we would not have during predictions\n",
    "xAll = [i for i in train.names if i not in ignoreFields]"
   ]
  },
  {
   "cell_type": "markdown",
   "metadata": {},
   "source": [
    "### Model 1 -> Base Model"
   ]
  },
  {
   "cell_type": "code",
   "execution_count": 10,
   "metadata": {},
   "outputs": [
    {
     "name": "stdout",
     "output_type": "stream",
     "text": [
      "deeplearning Model Build progress: |██████████████████████████████████████| 100%\n"
     ]
    }
   ],
   "source": [
    "from h2o.estimators.deeplearning import H2ODeepLearningEstimator\n",
    "\n",
    "estimator = H2ODeepLearningEstimator(variable_importances=True, #variable_importance gives feature importance (explainability)\n",
    "                                    stopping_rounds=3,\n",
    "                                    stopping_tolerance=0,\n",
    "                                    stopping_metric='deviance') \n",
    "estimator.train(xAll,y,train, validation_frame=valid)"
   ]
  },
  {
   "cell_type": "code",
   "execution_count": 11,
   "metadata": {},
   "outputs": [
    {
     "data": {
      "image/png": "[encoded data removed]",
      "text/plain": [
       "<Figure size 432x288 with 1 Axes>"
      ]
     },
     "metadata": {
      "needs_background": "light"
     },
     "output_type": "display_data"
    }
   ],
   "source": [
    "estimator.plot()"
   ]
  },
  {
   "cell_type": "code",
   "execution_count": 12,
   "metadata": {},
   "outputs": [
    {
     "name": "stdout",
     "output_type": "stream",
     "text": [
      "\n",
      "ModelMetricsRegression: deeplearning\n",
      "** Reported on test data. **\n",
      "\n",
      "MSE: 34.43410481974889\n",
      "RMSE: 5.8680580109393\n",
      "MAE: 2.9498626099375684\n",
      "RMSLE: NaN\n",
      "Mean Residual Deviance: 34.43410481974889\n"
     ]
    },
    {
     "data": {
      "text/plain": []
     },
     "execution_count": 12,
     "metadata": {},
     "output_type": "execute_result"
    }
   ],
   "source": [
    "estimator.model_performance(test)"
   ]
  },
  {
   "cell_type": "code",
   "execution_count": 14,
   "metadata": {},
   "outputs": [
    {
     "data": {
      "image/png": "[encoded data removed]",
      "text/plain": [
       "<Figure size 432x288 with 1 Axes>"
      ]
     },
     "metadata": {
      "needs_background": "light"
     },
     "output_type": "display_data"
    }
   ],
   "source": [
    "train[y].hist(100)"
   ]
  },
  {
   "cell_type": "markdown",
   "metadata": {},
   "source": [
    "### Model 3 -> Refined Model with Data Distribution\n",
    "\n",
    " - We see that when we change the distribution to 'laplace' the value of mae drops.\n",
    " - this is partly because the target variable has a long tail - decays expotentially"
   ]
  },
  {
   "cell_type": "code",
   "execution_count": 15,
   "metadata": {},
   "outputs": [
    {
     "name": "stdout",
     "output_type": "stream",
     "text": [
      "deeplearning Model Build progress: |██████████████████████████████████████| 100%\n"
     ]
    }
   ],
   "source": [
    "from h2o.estimators.deeplearning import H2ODeepLearningEstimator\n",
    "\n",
    "estimator_2 = H2ODeepLearningEstimator(variable_importances=True, #variable_importance gives feature importance (explainability)\n",
    "                                    stopping_rounds=3,\n",
    "                                    stopping_tolerance=0,\n",
    "                                    stopping_metric='deviance',\n",
    "                                    distribution='laplace') \n",
    "estimator_2.train(xAll,y,train, validation_frame=valid)"
   ]
  },
  {
   "cell_type": "code",
   "execution_count": 16,
   "metadata": {},
   "outputs": [
    {
     "data": {
      "image/png": "[encoded data removed]",
      "text/plain": [
       "<Figure size 432x288 with 1 Axes>"
      ]
     },
     "metadata": {
      "needs_background": "light"
     },
     "output_type": "display_data"
    }
   ],
   "source": [
    "estimator_2.plot()"
   ]
  },
  {
   "cell_type": "code",
   "execution_count": 17,
   "metadata": {},
   "outputs": [
    {
     "name": "stdout",
     "output_type": "stream",
     "text": [
      "\n",
      "ModelMetricsRegression: deeplearning\n",
      "** Reported on test data. **\n",
      "\n",
      "MSE: 36.37728157075879\n",
      "RMSE: 6.031358186242862\n",
      "MAE: 2.8233147639676925\n",
      "RMSLE: NaN\n",
      "Mean Residual Deviance: 2.8233147639676925\n"
     ]
    },
    {
     "data": {
      "text/plain": []
     },
     "execution_count": 17,
     "metadata": {},
     "output_type": "execute_result"
    }
   ],
   "source": [
    "estimator_2.model_performance(test)"
   ]
  },
  {
   "cell_type": "code",
   "execution_count": null,
   "metadata": {},
   "outputs": [],
   "source": []
  }
 ],
 "metadata": {
  "kernelspec": {
   "display_name": "Python 3",
   "language": "python",
   "name": "python3"
  },
  "language_info": {
   "codemirror_mode": {
    "name": "ipython",
    "version": 3
   },
   "file_extension": ".py",
   "mimetype": "text/x-python",
   "name": "python",
   "nbconvert_exporter": "python",
   "pygments_lexer": "ipython3",
   "version": "3.7.6"
  }
 },
 "nbformat": 4,
 "nbformat_minor": 4
}
